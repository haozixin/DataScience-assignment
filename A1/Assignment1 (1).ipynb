{
 "cells": [
  {
   "cell_type": "markdown",
   "metadata": {},
   "source": [
    "# Assignment 1\n",
    "\n",
    "* Student Name:  Zixin Hao\n",
    "* Student ID:  *******\n",
    "* Tutorial Code:  05-P1\n",
    "* Tutor:  **** and *******"
   ]
  },
  {
   "cell_type": "markdown",
   "metadata": {},
   "source": [
    "# Task 1:\n",
    "Data cleansing.\n",
    "Please use the following cells to read the two data files, clean and integrate them. You can add/delete cells as many as required to the following cells."
   ]
  },
  {
   "cell_type": "code",
   "execution_count": 1,
   "metadata": {},
   "outputs": [],
   "source": [
    "import pandas as pd\n",
    "import seaborn as sns\n",
    "import matplotlib.pyplot as plt\n",
    "import numpy as np"
   ]
  },
  {
   "cell_type": "markdown",
   "metadata": {},
   "source": [
    "## 1.1 Read these data"
   ]
  },
  {
   "cell_type": "code",
   "execution_count": 2,
   "metadata": {},
   "outputs": [
    {
     "data": {
      "text/html": [
       "<div>\n",
       "<style scoped>\n",
       "    .dataframe tbody tr th:only-of-type {\n",
       "        vertical-align: middle;\n",
       "    }\n",
       "\n",
       "    .dataframe tbody tr th {\n",
       "        vertical-align: top;\n",
       "    }\n",
       "\n",
       "    .dataframe thead th {\n",
       "        text-align: right;\n",
       "    }\n",
       "</style>\n",
       "<table border=\"1\" class=\"dataframe\">\n",
       "  <thead>\n",
       "    <tr style=\"text-align: right;\">\n",
       "      <th></th>\n",
       "      <th>location</th>\n",
       "      <th>date</th>\n",
       "      <th>total_cases</th>\n",
       "      <th>new_cases</th>\n",
       "      <th>total_deaths</th>\n",
       "      <th>new_deaths</th>\n",
       "      <th>gdp_per_capita</th>\n",
       "      <th>population</th>\n",
       "    </tr>\n",
       "  </thead>\n",
       "  <tbody>\n",
       "    <tr>\n",
       "      <th>0</th>\n",
       "      <td>Australia</td>\n",
       "      <td>2019-12-31</td>\n",
       "      <td>0.0</td>\n",
       "      <td>0.0</td>\n",
       "      <td>0.0</td>\n",
       "      <td>0.0</td>\n",
       "      <td>44648.71</td>\n",
       "      <td>25499881.0</td>\n",
       "    </tr>\n",
       "    <tr>\n",
       "      <th>1</th>\n",
       "      <td>Australia</td>\n",
       "      <td>2020-01-01</td>\n",
       "      <td>0.0</td>\n",
       "      <td>0.0</td>\n",
       "      <td>0.0</td>\n",
       "      <td>0.0</td>\n",
       "      <td>44648.71</td>\n",
       "      <td>25499881.0</td>\n",
       "    </tr>\n",
       "    <tr>\n",
       "      <th>2</th>\n",
       "      <td>Australia</td>\n",
       "      <td>2020-01-02</td>\n",
       "      <td>0.0</td>\n",
       "      <td>0.0</td>\n",
       "      <td>0.0</td>\n",
       "      <td>0.0</td>\n",
       "      <td>44648.71</td>\n",
       "      <td>25499881.0</td>\n",
       "    </tr>\n",
       "    <tr>\n",
       "      <th>3</th>\n",
       "      <td>Australia</td>\n",
       "      <td>2020-01-03</td>\n",
       "      <td>0.0</td>\n",
       "      <td>0.0</td>\n",
       "      <td>0.0</td>\n",
       "      <td>0.0</td>\n",
       "      <td>44648.71</td>\n",
       "      <td>25499881.0</td>\n",
       "    </tr>\n",
       "    <tr>\n",
       "      <th>4</th>\n",
       "      <td>Australia</td>\n",
       "      <td>2020-01-04</td>\n",
       "      <td>0.0</td>\n",
       "      <td>0.0</td>\n",
       "      <td>0.0</td>\n",
       "      <td>0.0</td>\n",
       "      <td>44648.71</td>\n",
       "      <td>25499881.0</td>\n",
       "    </tr>\n",
       "  </tbody>\n",
       "</table>\n",
       "</div>"
      ],
      "text/plain": [
       "    location        date  total_cases  new_cases  total_deaths  new_deaths  \\\n",
       "0  Australia  2019-12-31          0.0        0.0           0.0         0.0   \n",
       "1  Australia  2020-01-01          0.0        0.0           0.0         0.0   \n",
       "2  Australia  2020-01-02          0.0        0.0           0.0         0.0   \n",
       "3  Australia  2020-01-03          0.0        0.0           0.0         0.0   \n",
       "4  Australia  2020-01-04          0.0        0.0           0.0         0.0   \n",
       "\n",
       "   gdp_per_capita  population  \n",
       "0        44648.71  25499881.0  \n",
       "1        44648.71  25499881.0  \n",
       "2        44648.71  25499881.0  \n",
       "3        44648.71  25499881.0  \n",
       "4        44648.71  25499881.0  "
      ]
     },
     "execution_count": 2,
     "metadata": {},
     "output_type": "execute_result"
    }
   ],
   "source": [
    "CovidData = pd.read_csv('Covid-data.csv')\n",
    "CovidData.head()"
   ]
  },
  {
   "cell_type": "code",
   "execution_count": 3,
   "metadata": {},
   "outputs": [
    {
     "data": {
      "text/html": [
       "<div>\n",
       "<style scoped>\n",
       "    .dataframe tbody tr th:only-of-type {\n",
       "        vertical-align: middle;\n",
       "    }\n",
       "\n",
       "    .dataframe tbody tr th {\n",
       "        vertical-align: top;\n",
       "    }\n",
       "\n",
       "    .dataframe thead th {\n",
       "        text-align: right;\n",
       "    }\n",
       "</style>\n",
       "<table border=\"1\" class=\"dataframe\">\n",
       "  <thead>\n",
       "    <tr style=\"text-align: right;\">\n",
       "      <th></th>\n",
       "      <th>Country/Region</th>\n",
       "      <th>Province</th>\n",
       "      <th>Date</th>\n",
       "      <th>Type</th>\n",
       "      <th>Reference</th>\n",
       "    </tr>\n",
       "  </thead>\n",
       "  <tbody>\n",
       "    <tr>\n",
       "      <th>0</th>\n",
       "      <td>Afghanistan</td>\n",
       "      <td>NaN</td>\n",
       "      <td>24/03/2020</td>\n",
       "      <td>Full</td>\n",
       "      <td>https://www.thestatesman.com/world/afghan-govt...</td>\n",
       "    </tr>\n",
       "    <tr>\n",
       "      <th>1</th>\n",
       "      <td>Albania</td>\n",
       "      <td>NaN</td>\n",
       "      <td>08/03/2020</td>\n",
       "      <td>Full</td>\n",
       "      <td>https://en.wikipedia.org/wiki/2020_coronavirus...</td>\n",
       "    </tr>\n",
       "    <tr>\n",
       "      <th>2</th>\n",
       "      <td>Algeria</td>\n",
       "      <td>NaN</td>\n",
       "      <td>24/03/2020</td>\n",
       "      <td>Full</td>\n",
       "      <td>https://www.garda.com/crisis24/news-alerts/325...</td>\n",
       "    </tr>\n",
       "    <tr>\n",
       "      <th>3</th>\n",
       "      <td>Andorra</td>\n",
       "      <td>NaN</td>\n",
       "      <td>16/03/2020</td>\n",
       "      <td>Full</td>\n",
       "      <td>https://en.wikipedia.org/wiki/2020_coronavirus...</td>\n",
       "    </tr>\n",
       "    <tr>\n",
       "      <th>4</th>\n",
       "      <td>Angola</td>\n",
       "      <td>NaN</td>\n",
       "      <td>24/03/2020</td>\n",
       "      <td>Full</td>\n",
       "      <td>https://en.wikipedia.org/wiki/2020_coronavirus...</td>\n",
       "    </tr>\n",
       "  </tbody>\n",
       "</table>\n",
       "</div>"
      ],
      "text/plain": [
       "  Country/Region Province        Date  Type  \\\n",
       "0    Afghanistan      NaN  24/03/2020  Full   \n",
       "1        Albania      NaN  08/03/2020  Full   \n",
       "2        Algeria      NaN  24/03/2020  Full   \n",
       "3        Andorra      NaN  16/03/2020  Full   \n",
       "4         Angola      NaN  24/03/2020  Full   \n",
       "\n",
       "                                           Reference  \n",
       "0  https://www.thestatesman.com/world/afghan-govt...  \n",
       "1  https://en.wikipedia.org/wiki/2020_coronavirus...  \n",
       "2  https://www.garda.com/crisis24/news-alerts/325...  \n",
       "3  https://en.wikipedia.org/wiki/2020_coronavirus...  \n",
       "4  https://en.wikipedia.org/wiki/2020_coronavirus...  "
      ]
     },
     "execution_count": 3,
     "metadata": {},
     "output_type": "execute_result"
    }
   ],
   "source": [
    "Lockdown = pd.read_csv('CountryLockdowndates.csv')\n",
    "Lockdown.head()"
   ]
  },
  {
   "cell_type": "code",
   "execution_count": null,
   "metadata": {},
   "outputs": [],
   "source": []
  },
  {
   "cell_type": "markdown",
   "metadata": {},
   "source": [
    "## 1.2 check these data"
   ]
  },
  {
   "cell_type": "code",
   "execution_count": 4,
   "metadata": {},
   "outputs": [
    {
     "name": "stdout",
     "output_type": "stream",
     "text": [
      "<class 'pandas.core.frame.DataFrame'>\n",
      "RangeIndex: 1575 entries, 0 to 1574\n",
      "Data columns (total 8 columns):\n",
      " #   Column          Non-Null Count  Dtype  \n",
      "---  ------          --------------  -----  \n",
      " 0   location        1575 non-null   object \n",
      " 1   date            1575 non-null   object \n",
      " 2   total_cases     1575 non-null   float64\n",
      " 3   new_cases       1575 non-null   float64\n",
      " 4   total_deaths    1569 non-null   float64\n",
      " 5   new_deaths      1568 non-null   float64\n",
      " 6   gdp_per_capita  1575 non-null   float64\n",
      " 7   population      1575 non-null   float64\n",
      "dtypes: float64(6), object(2)\n",
      "memory usage: 98.6+ KB\n",
      "~~~~~~~~~~~~~~~~~~~~~~~~~~~~~~~~~~~~~~~~~~~~~~~~~~~~~~~~~~~~~~~~~~~~~~~~~~~~~~~~~~~~~~~~~~~~~~~~~~~~\n"
     ]
    },
    {
     "data": {
      "text/plain": [
       "location          0\n",
       "date              0\n",
       "total_cases       0\n",
       "new_cases         0\n",
       "total_deaths      6\n",
       "new_deaths        7\n",
       "gdp_per_capita    0\n",
       "population        0\n",
       "dtype: int64"
      ]
     },
     "execution_count": 4,
     "metadata": {},
     "output_type": "execute_result"
    }
   ],
   "source": [
    "CovidData.info()\n",
    "print(\"~\"*100)\n",
    "CovidData.isnull().sum()"
   ]
  },
  {
   "cell_type": "markdown",
   "metadata": {},
   "source": [
    "#In CovidData.csv, column4(total_deaths) and 5(new_deaths) have some missing values"
   ]
  },
  {
   "cell_type": "code",
   "execution_count": 5,
   "metadata": {},
   "outputs": [
    {
     "name": "stdout",
     "output_type": "stream",
     "text": [
      "<class 'pandas.core.frame.DataFrame'>\n",
      "RangeIndex: 307 entries, 0 to 306\n",
      "Data columns (total 5 columns):\n",
      " #   Column          Non-Null Count  Dtype \n",
      "---  ------          --------------  ----- \n",
      " 0   Country/Region  307 non-null    object\n",
      " 1   Province        129 non-null    object\n",
      " 2   Date            230 non-null    object\n",
      " 3   Type            307 non-null    object\n",
      " 4   Reference       238 non-null    object\n",
      "dtypes: object(5)\n",
      "memory usage: 12.1+ KB\n",
      "~~~~~~~~~~~~~~~~~~~~~~~~~~~~~~~~~~~~~~~~~~~~~~~~~~~~~~~~~~~~~~~~~~~~~~~~~~~~~~~~~~~~~~~~~~~~~~~~~~~~\n"
     ]
    },
    {
     "data": {
      "text/plain": [
       "Country/Region      0\n",
       "Province          178\n",
       "Date               77\n",
       "Type                0\n",
       "Reference          69\n",
       "dtype: int64"
      ]
     },
     "execution_count": 5,
     "metadata": {},
     "output_type": "execute_result"
    }
   ],
   "source": [
    "Lockdown.info()\n",
    "print(\"~\"*100)\n",
    "Lockdown.isnull().sum()"
   ]
  },
  {
   "cell_type": "markdown",
   "metadata": {},
   "source": [
    "#In Lockdown.csv, column1(Province),column2(Date) and column4(Reference) have missing values"
   ]
  },
  {
   "cell_type": "code",
   "execution_count": null,
   "metadata": {},
   "outputs": [],
   "source": []
  },
  {
   "cell_type": "markdown",
   "metadata": {},
   "source": [
    "# 2.1 Cleaning the data in CovidData.csv"
   ]
  },
  {
   "cell_type": "markdown",
   "metadata": {},
   "source": [
    "#cleaning first column in CovidData.csv\n",
    "##remove the places that is front of the names,rename a consistent name for one country"
   ]
  },
  {
   "cell_type": "code",
   "execution_count": 6,
   "metadata": {},
   "outputs": [
    {
     "name": "stdout",
     "output_type": "stream",
     "text": [
      "before fixing:  ['Australia' 'Australia  ' 'China' ' China' 'France' 'Iran' 'iran' 'Italy'\n",
      " 'Itly' 'Spain' 'United Kingdom' 'UnitedKingdom' 'United States'\n",
      " 'United Stats']\n",
      "after fixing:  ['Australia' 'China' 'France' 'Iran' 'Italy' 'Spain' 'United Kingdom'\n",
      " 'United States']\n"
     ]
    }
   ],
   "source": [
    "print('before fixing: ',CovidData['location'].unique())\n",
    "CovidData['location']=CovidData['location'].str.strip()\n",
    "CovidData['location']=CovidData['location'].str.capitalize()\n",
    "\n",
    "CovidData['location2']=CovidData['location']\n",
    "CovidData.loc[CovidData['location'] =='Unitedkingdom','location2']='United Kingdom'\n",
    "CovidData.loc[CovidData['location'] =='United kingdom','location2']='United Kingdom'\n",
    "CovidData.loc[CovidData['location'] =='Itly','location2']='Italy'\n",
    "CovidData.loc[CovidData['location'] =='United stats','location2']='United States'\n",
    "CovidData.loc[CovidData['location'] =='United states','location2']='United States'\n",
    "CovidData['location']=CovidData['location2']\n",
    "Codata=CovidData.drop(labels='location2',axis=1)\n",
    "\n",
    "print('after fixing: ',Codata['location'].unique())"
   ]
  },
  {
   "cell_type": "code",
   "execution_count": null,
   "metadata": {},
   "outputs": [],
   "source": []
  },
  {
   "cell_type": "markdown",
   "metadata": {},
   "source": [
    "#cleaning the second column of the data."
   ]
  },
  {
   "cell_type": "code",
   "execution_count": 7,
   "metadata": {},
   "outputs": [
    {
     "data": {
      "text/plain": [
       "dtype('O')"
      ]
     },
     "execution_count": 7,
     "metadata": {},
     "output_type": "execute_result"
    }
   ],
   "source": [
    "Codata.date.dtypes"
   ]
  },
  {
   "cell_type": "markdown",
   "metadata": {},
   "source": [
    "#make the date more appropriate-->exchange the day with month for some wrong date"
   ]
  },
  {
   "cell_type": "code",
   "execution_count": 8,
   "metadata": {},
   "outputs": [],
   "source": [
    "\n",
    "def splitTime(date):\n",
    "    List=[]\n",
    "    \n",
    "    for value in date:\n",
    "        dateStr = value.split('-')\n",
    "        b = [int(x) for x in dateStr]\n",
    "        if b[1]>12:\n",
    "            b[1],b[2]=b[2],b[1]\n",
    "        c = [str(y) for y in b]    \n",
    "        dateStr2=c[0]+\"-\"+c[1]+\"-\"+c[2]\n",
    "        List.append(dateStr2)\n",
    "    dateSer=pd.Series(List)\n",
    "    return dateSer\n"
   ]
  },
  {
   "cell_type": "code",
   "execution_count": 9,
   "metadata": {},
   "outputs": [
    {
     "name": "stdout",
     "output_type": "stream",
     "text": [
      "Before:  \n",
      " ~~~~~~~~~~~~~~~~~~~~~~~~~~~~~~~~~~~~~~~~~~~~~~~~~~~~~~~~~~~~~~~~~~~~~~~~~~~~~~~~~~~~~~~~~~~~~~~~~~~~ \n",
      " 1570    2020-07-10\n",
      "1571    2020-07-11\n",
      "1572    2020-07-12\n",
      "1573    2020-13-07\n",
      "1574    2020-14-07\n",
      "Name: date, dtype: object\n",
      "After:  \n",
      " ~~~~~~~~~~~~~~~~~~~~~~~~~~~~~~~~~~~~~~~~~~~~~~~~~~~~~~~~~~~~~~~~~~~~~~~~~~~~~~~~~~~~~~~~~~~~~~~~~~~~ \n",
      " 1570    2020-7-10\n",
      "1571    2020-7-11\n",
      "1572    2020-7-12\n",
      "1573    2020-7-13\n",
      "1574    2020-7-14\n",
      "Name: date, dtype: object\n"
     ]
    }
   ],
   "source": [
    "print('Before:  \\n','~'*100,'\\n',Codata.date.tail())\n",
    "Codata.loc[:,'date']=splitTime(Codata.loc[:,'date'])\n",
    "print('After:  \\n','~'*100,'\\n',Codata.date.tail())\n"
   ]
  },
  {
   "cell_type": "markdown",
   "metadata": {},
   "source": [
    "##check if the date has been fixed, and at the same time change its data type"
   ]
  },
  {
   "cell_type": "code",
   "execution_count": 10,
   "metadata": {},
   "outputs": [
    {
     "data": {
      "text/plain": [
       "array(['2019-12-31T00:00:00.000000000', '2020-01-01T00:00:00.000000000',\n",
       "       '2020-01-02T00:00:00.000000000', '2020-01-03T00:00:00.000000000',\n",
       "       '2020-01-04T00:00:00.000000000', '2020-01-05T00:00:00.000000000',\n",
       "       '2020-01-06T00:00:00.000000000', '2020-01-07T00:00:00.000000000',\n",
       "       '2020-01-08T00:00:00.000000000', '2020-01-09T00:00:00.000000000',\n",
       "       '2020-01-10T00:00:00.000000000', '2020-01-11T00:00:00.000000000',\n",
       "       '2020-01-12T00:00:00.000000000', '2020-01-13T00:00:00.000000000',\n",
       "       '2020-01-14T00:00:00.000000000', '2020-01-15T00:00:00.000000000',\n",
       "       '2020-01-16T00:00:00.000000000', '2020-01-17T00:00:00.000000000',\n",
       "       '2020-01-18T00:00:00.000000000', '2020-01-19T00:00:00.000000000',\n",
       "       '2020-01-20T00:00:00.000000000', '2020-01-21T00:00:00.000000000',\n",
       "       '2020-01-22T00:00:00.000000000', '2020-01-23T00:00:00.000000000',\n",
       "       '2020-01-24T00:00:00.000000000', '2020-01-25T00:00:00.000000000',\n",
       "       '2020-01-26T00:00:00.000000000', '2020-01-27T00:00:00.000000000',\n",
       "       '2020-01-28T00:00:00.000000000', '2020-01-29T00:00:00.000000000',\n",
       "       '2020-01-30T00:00:00.000000000', '2020-01-31T00:00:00.000000000',\n",
       "       '2020-02-01T00:00:00.000000000', '2020-02-02T00:00:00.000000000',\n",
       "       '2020-02-03T00:00:00.000000000', '2020-02-04T00:00:00.000000000',\n",
       "       '2020-02-05T00:00:00.000000000', '2020-02-06T00:00:00.000000000',\n",
       "       '2020-02-07T00:00:00.000000000', '2020-02-08T00:00:00.000000000',\n",
       "       '2020-02-09T00:00:00.000000000', '2020-02-10T00:00:00.000000000',\n",
       "       '2020-02-11T00:00:00.000000000', '2020-02-12T00:00:00.000000000',\n",
       "       '2020-02-13T00:00:00.000000000', '2020-02-14T00:00:00.000000000',\n",
       "       '2020-02-15T00:00:00.000000000', '2020-02-16T00:00:00.000000000',\n",
       "       '2020-02-17T00:00:00.000000000', '2020-02-18T00:00:00.000000000',\n",
       "       '2020-02-19T00:00:00.000000000', '2020-02-20T00:00:00.000000000',\n",
       "       '2020-02-21T00:00:00.000000000', '2020-02-22T00:00:00.000000000',\n",
       "       '2020-02-23T00:00:00.000000000', '2020-02-24T00:00:00.000000000',\n",
       "       '2020-02-25T00:00:00.000000000', '2020-02-26T00:00:00.000000000',\n",
       "       '2020-02-27T00:00:00.000000000', '2020-02-28T00:00:00.000000000',\n",
       "       '2020-02-29T00:00:00.000000000', '2020-03-01T00:00:00.000000000',\n",
       "       '2020-03-02T00:00:00.000000000', '2020-03-03T00:00:00.000000000',\n",
       "       '2020-03-04T00:00:00.000000000', '2020-03-05T00:00:00.000000000',\n",
       "       '2020-03-06T00:00:00.000000000', '2020-03-07T00:00:00.000000000',\n",
       "       '2020-03-08T00:00:00.000000000', '2020-03-09T00:00:00.000000000',\n",
       "       '2020-03-10T00:00:00.000000000', '2020-03-11T00:00:00.000000000',\n",
       "       '2020-03-12T00:00:00.000000000', '2020-03-13T00:00:00.000000000',\n",
       "       '2020-03-14T00:00:00.000000000', '2020-03-15T00:00:00.000000000',\n",
       "       '2020-03-16T00:00:00.000000000', '2020-03-17T00:00:00.000000000',\n",
       "       '2020-03-18T00:00:00.000000000', '2020-03-19T00:00:00.000000000',\n",
       "       '2020-03-20T00:00:00.000000000', '2020-03-21T00:00:00.000000000',\n",
       "       '2020-03-22T00:00:00.000000000', '2020-03-23T00:00:00.000000000',\n",
       "       '2020-03-24T00:00:00.000000000', '2020-03-25T00:00:00.000000000',\n",
       "       '2020-03-26T00:00:00.000000000', '2020-03-27T00:00:00.000000000',\n",
       "       '2020-03-28T00:00:00.000000000', '2020-03-29T00:00:00.000000000',\n",
       "       '2020-03-30T00:00:00.000000000', '2020-03-31T00:00:00.000000000',\n",
       "       '2020-04-01T00:00:00.000000000', '2020-04-02T00:00:00.000000000',\n",
       "       '2020-04-03T00:00:00.000000000', '2020-04-04T00:00:00.000000000',\n",
       "       '2020-04-05T00:00:00.000000000', '2020-04-06T00:00:00.000000000',\n",
       "       '2020-04-07T00:00:00.000000000', '2020-04-08T00:00:00.000000000',\n",
       "       '2020-04-09T00:00:00.000000000', '2020-04-10T00:00:00.000000000',\n",
       "       '2020-04-11T00:00:00.000000000', '2020-04-12T00:00:00.000000000',\n",
       "       '2020-04-13T00:00:00.000000000', '2020-04-14T00:00:00.000000000',\n",
       "       '2020-04-15T00:00:00.000000000', '2020-04-16T00:00:00.000000000',\n",
       "       '2020-04-17T00:00:00.000000000', '2020-04-18T00:00:00.000000000',\n",
       "       '2020-04-19T00:00:00.000000000', '2020-04-20T00:00:00.000000000',\n",
       "       '2020-04-21T00:00:00.000000000', '2020-04-22T00:00:00.000000000',\n",
       "       '2020-04-23T00:00:00.000000000', '2020-04-24T00:00:00.000000000',\n",
       "       '2020-04-25T00:00:00.000000000', '2020-04-26T00:00:00.000000000',\n",
       "       '2020-04-27T00:00:00.000000000', '2020-04-28T00:00:00.000000000',\n",
       "       '2020-04-29T00:00:00.000000000', '2020-04-30T00:00:00.000000000',\n",
       "       '2020-05-01T00:00:00.000000000', '2020-05-02T00:00:00.000000000',\n",
       "       '2020-05-03T00:00:00.000000000', '2020-05-04T00:00:00.000000000',\n",
       "       '2020-05-05T00:00:00.000000000', '2020-05-06T00:00:00.000000000',\n",
       "       '2020-05-07T00:00:00.000000000', '2020-05-08T00:00:00.000000000',\n",
       "       '2020-05-09T00:00:00.000000000', '2020-05-10T00:00:00.000000000',\n",
       "       '2020-05-11T00:00:00.000000000', '2020-05-12T00:00:00.000000000',\n",
       "       '2020-05-13T00:00:00.000000000', '2020-05-14T00:00:00.000000000',\n",
       "       '2020-05-15T00:00:00.000000000', '2020-05-16T00:00:00.000000000',\n",
       "       '2020-05-17T00:00:00.000000000', '2020-05-18T00:00:00.000000000',\n",
       "       '2020-05-19T00:00:00.000000000', '2020-05-20T00:00:00.000000000',\n",
       "       '2020-05-21T00:00:00.000000000', '2020-05-22T00:00:00.000000000',\n",
       "       '2020-05-23T00:00:00.000000000', '2020-05-24T00:00:00.000000000',\n",
       "       '2020-05-25T00:00:00.000000000', '2020-05-26T00:00:00.000000000',\n",
       "       '2020-05-27T00:00:00.000000000', '2020-05-28T00:00:00.000000000',\n",
       "       '2020-05-29T00:00:00.000000000', '2020-05-30T00:00:00.000000000',\n",
       "       '2020-05-31T00:00:00.000000000', '2020-06-01T00:00:00.000000000',\n",
       "       '2020-06-02T00:00:00.000000000', '2020-06-03T00:00:00.000000000',\n",
       "       '2020-06-04T00:00:00.000000000', '2020-06-05T00:00:00.000000000',\n",
       "       '2020-06-06T00:00:00.000000000', '2020-06-07T00:00:00.000000000',\n",
       "       '2020-06-08T00:00:00.000000000', '2020-06-09T00:00:00.000000000',\n",
       "       '2020-06-10T00:00:00.000000000', '2020-06-11T00:00:00.000000000',\n",
       "       '2020-06-12T00:00:00.000000000', '2020-06-13T00:00:00.000000000',\n",
       "       '2020-06-14T00:00:00.000000000', '2020-06-15T00:00:00.000000000',\n",
       "       '2020-06-16T00:00:00.000000000', '2020-06-17T00:00:00.000000000',\n",
       "       '2020-06-18T00:00:00.000000000', '2020-06-19T00:00:00.000000000',\n",
       "       '2020-06-20T00:00:00.000000000', '2020-06-21T00:00:00.000000000',\n",
       "       '2020-06-22T00:00:00.000000000', '2020-06-23T00:00:00.000000000',\n",
       "       '2020-06-24T00:00:00.000000000', '2020-06-25T00:00:00.000000000',\n",
       "       '2020-06-26T00:00:00.000000000', '2020-06-27T00:00:00.000000000',\n",
       "       '2020-06-28T00:00:00.000000000', '2020-06-29T00:00:00.000000000',\n",
       "       '2020-06-30T00:00:00.000000000', '2020-07-01T00:00:00.000000000',\n",
       "       '2020-07-02T00:00:00.000000000', '2020-07-03T00:00:00.000000000',\n",
       "       '2020-07-04T00:00:00.000000000', '2020-07-05T00:00:00.000000000',\n",
       "       '2020-07-06T00:00:00.000000000', '2020-07-07T00:00:00.000000000',\n",
       "       '2020-07-08T00:00:00.000000000', '2020-07-09T00:00:00.000000000',\n",
       "       '2020-07-10T00:00:00.000000000', '2020-07-11T00:00:00.000000000',\n",
       "       '2020-07-12T00:00:00.000000000', '2020-07-13T00:00:00.000000000',\n",
       "       '2020-07-14T00:00:00.000000000'], dtype='datetime64[ns]')"
      ]
     },
     "execution_count": 10,
     "metadata": {},
     "output_type": "execute_result"
    }
   ],
   "source": [
    "Codata.date=pd.to_datetime(Codata.loc[:,'date'],format= '%Y/%m/%d',errors='coerce')\n",
    "Codata.date.unique()\n",
    "# no NaT means fixing is sucessful"
   ]
  },
  {
   "cell_type": "markdown",
   "metadata": {},
   "source": [
    "#cleaning the rest columns and change their datatype"
   ]
  },
  {
   "cell_type": "code",
   "execution_count": 11,
   "metadata": {},
   "outputs": [
    {
     "name": "stdout",
     "output_type": "stream",
     "text": [
      "Empty DataFrame\n",
      "Columns: [location, date, total_cases, new_cases, total_deaths, new_deaths, gdp_per_capita, population]\n",
      "Index: []\n",
      "Empty DataFrame\n",
      "Columns: [location, date, total_cases, new_cases, total_deaths, new_deaths, gdp_per_capita, population]\n",
      "Index: []\n"
     ]
    }
   ],
   "source": [
    "\n",
    "Codata.new_cases=abs(Codata.new_cases)\n",
    "Codata.new_deaths=abs(Codata.new_deaths)\n",
    "print(Codata[Codata['new_deaths']<0])\n",
    "print(Codata[Codata['new_cases']<0])"
   ]
  },
  {
   "cell_type": "code",
   "execution_count": 12,
   "metadata": {},
   "outputs": [],
   "source": [
    "#change these columns' datatype\n",
    "Codata.loc[:,'total_cases']= Codata.total_cases.astype('int')\n",
    "Codata.loc[:,'new_cases']= Codata.new_cases.astype('int')\n",
    "\n",
    "Codata.total_deaths.fillna(method='bfill',inplace=True) #fill the missing value\n",
    "np.set_printoptions(suppress=True)   #fix it from scientific notation to integer(we can check if there are other questions in integer form)                   \n",
    "Codata.loc[:,'total_deaths']= Codata.total_deaths.astype('int')\n",
    "\n",
    "Codata.new_deaths.fillna(method='bfill',inplace=True)\n",
    "Codata.loc[:,'new_deaths']= Codata.new_deaths.astype('int')"
   ]
  },
  {
   "cell_type": "code",
   "execution_count": 13,
   "metadata": {},
   "outputs": [
    {
     "data": {
      "text/plain": [
       "array([44648.71 , 15308.712, 38605.671, 19082.62 , 35220.084, 34272.36 ,\n",
       "       39753.244, 54225.446])"
      ]
     },
     "execution_count": 13,
     "metadata": {},
     "output_type": "execute_result"
    }
   ],
   "source": [
    "Codata.gdp_per_capita.unique() #values are resonable"
   ]
  },
  {
   "cell_type": "code",
   "execution_count": 14,
   "metadata": {},
   "outputs": [
    {
     "data": {
      "text/plain": [
       "array([2.54998810e+07, 1.43932377e+09, 6.52735120e+07, 8.39929530e+07,\n",
       "       6.04618280e+07, 4.67547830e+07, 6.78860040e+07, 3.31002647e+08])"
      ]
     },
     "execution_count": 14,
     "metadata": {},
     "output_type": "execute_result"
    }
   ],
   "source": [
    "Codata.population.unique()#values are resonable"
   ]
  },
  {
   "cell_type": "markdown",
   "metadata": {},
   "source": [
    "# 2.2 cleaning data in CountryLockdowndates.csv"
   ]
  },
  {
   "cell_type": "markdown",
   "metadata": {},
   "source": [
    "## 2.2.1"
   ]
  },
  {
   "cell_type": "code",
   "execution_count": 15,
   "metadata": {},
   "outputs": [
    {
     "data": {
      "text/html": [
       "<div>\n",
       "<style scoped>\n",
       "    .dataframe tbody tr th:only-of-type {\n",
       "        vertical-align: middle;\n",
       "    }\n",
       "\n",
       "    .dataframe tbody tr th {\n",
       "        vertical-align: top;\n",
       "    }\n",
       "\n",
       "    .dataframe thead th {\n",
       "        text-align: right;\n",
       "    }\n",
       "</style>\n",
       "<table border=\"1\" class=\"dataframe\">\n",
       "  <thead>\n",
       "    <tr style=\"text-align: right;\">\n",
       "      <th></th>\n",
       "      <th>location</th>\n",
       "      <th>Province</th>\n",
       "      <th>lockdown_date</th>\n",
       "      <th>Type</th>\n",
       "      <th>Reference</th>\n",
       "    </tr>\n",
       "  </thead>\n",
       "  <tbody>\n",
       "    <tr>\n",
       "      <th>0</th>\n",
       "      <td>Afghanistan</td>\n",
       "      <td>NaN</td>\n",
       "      <td>24/03/2020</td>\n",
       "      <td>Full</td>\n",
       "      <td>https://www.thestatesman.com/world/afghan-govt...</td>\n",
       "    </tr>\n",
       "    <tr>\n",
       "      <th>1</th>\n",
       "      <td>Albania</td>\n",
       "      <td>NaN</td>\n",
       "      <td>08/03/2020</td>\n",
       "      <td>Full</td>\n",
       "      <td>https://en.wikipedia.org/wiki/2020_coronavirus...</td>\n",
       "    </tr>\n",
       "    <tr>\n",
       "      <th>2</th>\n",
       "      <td>Algeria</td>\n",
       "      <td>NaN</td>\n",
       "      <td>24/03/2020</td>\n",
       "      <td>Full</td>\n",
       "      <td>https://www.garda.com/crisis24/news-alerts/325...</td>\n",
       "    </tr>\n",
       "    <tr>\n",
       "      <th>3</th>\n",
       "      <td>Andorra</td>\n",
       "      <td>NaN</td>\n",
       "      <td>16/03/2020</td>\n",
       "      <td>Full</td>\n",
       "      <td>https://en.wikipedia.org/wiki/2020_coronavirus...</td>\n",
       "    </tr>\n",
       "    <tr>\n",
       "      <th>4</th>\n",
       "      <td>Angola</td>\n",
       "      <td>NaN</td>\n",
       "      <td>24/03/2020</td>\n",
       "      <td>Full</td>\n",
       "      <td>https://en.wikipedia.org/wiki/2020_coronavirus...</td>\n",
       "    </tr>\n",
       "  </tbody>\n",
       "</table>\n",
       "</div>"
      ],
      "text/plain": [
       "      location Province lockdown_date  Type  \\\n",
       "0  Afghanistan      NaN    24/03/2020  Full   \n",
       "1      Albania      NaN    08/03/2020  Full   \n",
       "2      Algeria      NaN    24/03/2020  Full   \n",
       "3      Andorra      NaN    16/03/2020  Full   \n",
       "4       Angola      NaN    24/03/2020  Full   \n",
       "\n",
       "                                           Reference  \n",
       "0  https://www.thestatesman.com/world/afghan-govt...  \n",
       "1  https://en.wikipedia.org/wiki/2020_coronavirus...  \n",
       "2  https://www.garda.com/crisis24/news-alerts/325...  \n",
       "3  https://en.wikipedia.org/wiki/2020_coronavirus...  \n",
       "4  https://en.wikipedia.org/wiki/2020_coronavirus...  "
      ]
     },
     "execution_count": 15,
     "metadata": {},
     "output_type": "execute_result"
    }
   ],
   "source": [
    "#change a appropriate name for lockdown date in Lockdown.csv\n",
    "Lockdown.rename(columns={'Date':'lockdown_date','Country/Region':'location'},inplace=True)\n",
    "Lockdown.head()\n"
   ]
  },
  {
   "cell_type": "markdown",
   "metadata": {},
   "source": [
    "## 2.2.2 province column"
   ]
  },
  {
   "cell_type": "code",
   "execution_count": 16,
   "metadata": {},
   "outputs": [
    {
     "data": {
      "text/plain": [
       "0    Not Given\n",
       "1    Not Given\n",
       "2    Not Given\n",
       "3    Not Given\n",
       "4    Not Given\n",
       "Name: Province, dtype: object"
      ]
     },
     "execution_count": 16,
     "metadata": {},
     "output_type": "execute_result"
    }
   ],
   "source": [
    "# fill the empty value that we cannot guess what it is\n",
    "# before fixing it, they are NaN.\n",
    "Lockdown['Province']=Lockdown.Province.fillna('Not Given')\n",
    "Lockdown['Province'].head()"
   ]
  },
  {
   "cell_type": "markdown",
   "metadata": {},
   "source": [
    "## 2.2.4 Type and Reference column"
   ]
  },
  {
   "cell_type": "code",
   "execution_count": 17,
   "metadata": {},
   "outputs": [
    {
     "name": "stdout",
     "output_type": "stream",
     "text": [
      "Lockdown.Type.unique(): ['Full' 'None' 'Partial']\n"
     ]
    },
    {
     "data": {
      "text/plain": [
       "5                                            Not Given\n",
       "6    https://www.bloomberg.com/news/articles/2020-0...\n",
       "7             https://www.azatutyun.am/a/30506939.html\n",
       "8    https://en.wikipedia.org/wiki/2020_coronavirus...\n",
       "Name: Reference, dtype: object"
      ]
     },
     "execution_count": 17,
     "metadata": {},
     "output_type": "execute_result"
    }
   ],
   "source": [
    "print('Lockdown.Type.unique():',Lockdown.Type.unique())\n",
    "Lockdown['Reference']=Lockdown.Reference.fillna('Not Given')\n",
    "Lockdown[5:9]['Reference']"
   ]
  },
  {
   "cell_type": "markdown",
   "metadata": {},
   "source": [
    "## 2.2.3 lockdown_date column"
   ]
  },
  {
   "cell_type": "code",
   "execution_count": null,
   "metadata": {},
   "outputs": [],
   "source": []
  },
  {
   "cell_type": "code",
   "execution_count": 18,
   "metadata": {},
   "outputs": [
    {
     "name": "stdout",
     "output_type": "stream",
     "text": [
      "datetime64[ns]\n"
     ]
    }
   ],
   "source": [
    "#change a appropriate datatype for 'date' columns in Lockdown.csv\n",
    "#will fix the missing value in lockdown_date later\n",
    "Lockdown.lockdown_date = pd.to_datetime(Lockdown.lockdown_date,format= '%d/%m/%Y',errors='ignore')\n",
    "print(Lockdown.lockdown_date.dtype)"
   ]
  },
  {
   "cell_type": "code",
   "execution_count": null,
   "metadata": {},
   "outputs": [],
   "source": []
  },
  {
   "cell_type": "markdown",
   "metadata": {},
   "source": [
    "## Consider the earliest date as the lockdown data for a country"
   ]
  },
  {
   "cell_type": "code",
   "execution_count": 19,
   "metadata": {},
   "outputs": [],
   "source": [
    "\n",
    "newtable=Lockdown[['location','lockdown_date']]\n",
    "table2 = newtable.groupby('location').min()\n",
    "table2=table2.reset_index()\n",
    "\n",
    "#fix the US(name), make them cosistent\n",
    "table2['location2']=table2['location']\n",
    "table2.loc[table2['location'] =='US','location2']='United States'\n",
    "table2['location']=table2['location2']\n",
    "table2=table2.drop(labels='location2',axis=1)\n",
    "\n"
   ]
  },
  {
   "cell_type": "code",
   "execution_count": null,
   "metadata": {},
   "outputs": [],
   "source": []
  },
  {
   "cell_type": "markdown",
   "metadata": {},
   "source": [
    "# 2.3 combine these two dataframes"
   ]
  },
  {
   "cell_type": "code",
   "execution_count": 20,
   "metadata": {},
   "outputs": [
    {
     "data": {
      "text/html": [
       "<div>\n",
       "<style scoped>\n",
       "    .dataframe tbody tr th:only-of-type {\n",
       "        vertical-align: middle;\n",
       "    }\n",
       "\n",
       "    .dataframe tbody tr th {\n",
       "        vertical-align: top;\n",
       "    }\n",
       "\n",
       "    .dataframe thead th {\n",
       "        text-align: right;\n",
       "    }\n",
       "</style>\n",
       "<table border=\"1\" class=\"dataframe\">\n",
       "  <thead>\n",
       "    <tr style=\"text-align: right;\">\n",
       "      <th></th>\n",
       "      <th>location</th>\n",
       "      <th>date</th>\n",
       "      <th>total_cases</th>\n",
       "      <th>new_cases</th>\n",
       "      <th>total_deaths</th>\n",
       "      <th>new_deaths</th>\n",
       "      <th>gdp_per_capita</th>\n",
       "      <th>population</th>\n",
       "      <th>lockdown_date</th>\n",
       "    </tr>\n",
       "  </thead>\n",
       "  <tbody>\n",
       "    <tr>\n",
       "      <th>0</th>\n",
       "      <td>Australia</td>\n",
       "      <td>2019-12-31</td>\n",
       "      <td>0</td>\n",
       "      <td>0</td>\n",
       "      <td>0</td>\n",
       "      <td>0</td>\n",
       "      <td>44648.710</td>\n",
       "      <td>25499881.0</td>\n",
       "      <td>2020-03-24</td>\n",
       "    </tr>\n",
       "    <tr>\n",
       "      <th>1</th>\n",
       "      <td>Australia</td>\n",
       "      <td>2020-01-01</td>\n",
       "      <td>0</td>\n",
       "      <td>0</td>\n",
       "      <td>0</td>\n",
       "      <td>0</td>\n",
       "      <td>44648.710</td>\n",
       "      <td>25499881.0</td>\n",
       "      <td>2020-03-24</td>\n",
       "    </tr>\n",
       "    <tr>\n",
       "      <th>2</th>\n",
       "      <td>Australia</td>\n",
       "      <td>2020-01-02</td>\n",
       "      <td>0</td>\n",
       "      <td>0</td>\n",
       "      <td>0</td>\n",
       "      <td>0</td>\n",
       "      <td>44648.710</td>\n",
       "      <td>25499881.0</td>\n",
       "      <td>2020-03-24</td>\n",
       "    </tr>\n",
       "    <tr>\n",
       "      <th>3</th>\n",
       "      <td>Australia</td>\n",
       "      <td>2020-01-03</td>\n",
       "      <td>0</td>\n",
       "      <td>0</td>\n",
       "      <td>0</td>\n",
       "      <td>0</td>\n",
       "      <td>44648.710</td>\n",
       "      <td>25499881.0</td>\n",
       "      <td>2020-03-24</td>\n",
       "    </tr>\n",
       "    <tr>\n",
       "      <th>4</th>\n",
       "      <td>Australia</td>\n",
       "      <td>2020-01-04</td>\n",
       "      <td>0</td>\n",
       "      <td>0</td>\n",
       "      <td>0</td>\n",
       "      <td>0</td>\n",
       "      <td>44648.710</td>\n",
       "      <td>25499881.0</td>\n",
       "      <td>2020-03-24</td>\n",
       "    </tr>\n",
       "    <tr>\n",
       "      <th>...</th>\n",
       "      <td>...</td>\n",
       "      <td>...</td>\n",
       "      <td>...</td>\n",
       "      <td>...</td>\n",
       "      <td>...</td>\n",
       "      <td>...</td>\n",
       "      <td>...</td>\n",
       "      <td>...</td>\n",
       "      <td>...</td>\n",
       "    </tr>\n",
       "    <tr>\n",
       "      <th>1570</th>\n",
       "      <td>United States</td>\n",
       "      <td>2020-07-10</td>\n",
       "      <td>3118008</td>\n",
       "      <td>63004</td>\n",
       "      <td>133291</td>\n",
       "      <td>982</td>\n",
       "      <td>54225.446</td>\n",
       "      <td>331002647.0</td>\n",
       "      <td>2020-03-13</td>\n",
       "    </tr>\n",
       "    <tr>\n",
       "      <th>1571</th>\n",
       "      <td>United States</td>\n",
       "      <td>2020-07-11</td>\n",
       "      <td>3184633</td>\n",
       "      <td>66625</td>\n",
       "      <td>134097</td>\n",
       "      <td>806</td>\n",
       "      <td>54225.446</td>\n",
       "      <td>331002647.0</td>\n",
       "      <td>2020-03-13</td>\n",
       "    </tr>\n",
       "    <tr>\n",
       "      <th>1572</th>\n",
       "      <td>United States</td>\n",
       "      <td>2020-07-12</td>\n",
       "      <td>3247684</td>\n",
       "      <td>63051</td>\n",
       "      <td>134814</td>\n",
       "      <td>717</td>\n",
       "      <td>54225.446</td>\n",
       "      <td>331002647.0</td>\n",
       "      <td>2020-03-13</td>\n",
       "    </tr>\n",
       "    <tr>\n",
       "      <th>1573</th>\n",
       "      <td>United States</td>\n",
       "      <td>2020-07-13</td>\n",
       "      <td>3304942</td>\n",
       "      <td>57258</td>\n",
       "      <td>135205</td>\n",
       "      <td>391</td>\n",
       "      <td>54225.446</td>\n",
       "      <td>331002647.0</td>\n",
       "      <td>2020-03-13</td>\n",
       "    </tr>\n",
       "    <tr>\n",
       "      <th>1574</th>\n",
       "      <td>United States</td>\n",
       "      <td>2020-07-14</td>\n",
       "      <td>3363056</td>\n",
       "      <td>58114</td>\n",
       "      <td>135605</td>\n",
       "      <td>400</td>\n",
       "      <td>54225.446</td>\n",
       "      <td>331002647.0</td>\n",
       "      <td>2020-03-13</td>\n",
       "    </tr>\n",
       "  </tbody>\n",
       "</table>\n",
       "<p>1575 rows × 9 columns</p>\n",
       "</div>"
      ],
      "text/plain": [
       "           location       date  total_cases  new_cases  total_deaths  \\\n",
       "0         Australia 2019-12-31            0          0             0   \n",
       "1         Australia 2020-01-01            0          0             0   \n",
       "2         Australia 2020-01-02            0          0             0   \n",
       "3         Australia 2020-01-03            0          0             0   \n",
       "4         Australia 2020-01-04            0          0             0   \n",
       "...             ...        ...          ...        ...           ...   \n",
       "1570  United States 2020-07-10      3118008      63004        133291   \n",
       "1571  United States 2020-07-11      3184633      66625        134097   \n",
       "1572  United States 2020-07-12      3247684      63051        134814   \n",
       "1573  United States 2020-07-13      3304942      57258        135205   \n",
       "1574  United States 2020-07-14      3363056      58114        135605   \n",
       "\n",
       "      new_deaths  gdp_per_capita   population lockdown_date  \n",
       "0              0       44648.710   25499881.0    2020-03-24  \n",
       "1              0       44648.710   25499881.0    2020-03-24  \n",
       "2              0       44648.710   25499881.0    2020-03-24  \n",
       "3              0       44648.710   25499881.0    2020-03-24  \n",
       "4              0       44648.710   25499881.0    2020-03-24  \n",
       "...          ...             ...          ...           ...  \n",
       "1570         982       54225.446  331002647.0    2020-03-13  \n",
       "1571         806       54225.446  331002647.0    2020-03-13  \n",
       "1572         717       54225.446  331002647.0    2020-03-13  \n",
       "1573         391       54225.446  331002647.0    2020-03-13  \n",
       "1574         400       54225.446  331002647.0    2020-03-13  \n",
       "\n",
       "[1575 rows x 9 columns]"
      ]
     },
     "execution_count": 20,
     "metadata": {},
     "output_type": "execute_result"
    }
   ],
   "source": [
    "totalData=pd.merge(Codata,table2,on=['location'],how='left')\n",
    "totalData"
   ]
  },
  {
   "cell_type": "code",
   "execution_count": null,
   "metadata": {},
   "outputs": [],
   "source": []
  },
  {
   "cell_type": "code",
   "execution_count": 21,
   "metadata": {},
   "outputs": [
    {
     "name": "stdout",
     "output_type": "stream",
     "text": [
      "datetime64[ns]\n"
     ]
    }
   ],
   "source": [
    "totalData['lockdown_date']=totalData.lockdown_date.fillna('Not Given')\n",
    "totalData.loc[:,'lockdown_date']= pd.to_datetime(totalData.loc[:,'lockdown_date'],errors='coerce')\n",
    "print(totalData.lockdown_date.dtype)\n",
    "\n"
   ]
  },
  {
   "cell_type": "code",
   "execution_count": 22,
   "metadata": {},
   "outputs": [
    {
     "name": "stdout",
     "output_type": "stream",
     "text": [
      "<class 'pandas.core.frame.DataFrame'>\n",
      "Int64Index: 1575 entries, 0 to 1574\n",
      "Data columns (total 9 columns):\n",
      " #   Column          Non-Null Count  Dtype         \n",
      "---  ------          --------------  -----         \n",
      " 0   location        1575 non-null   object        \n",
      " 1   date            1575 non-null   datetime64[ns]\n",
      " 2   total_cases     1575 non-null   int32         \n",
      " 3   new_cases       1575 non-null   int32         \n",
      " 4   total_deaths    1575 non-null   int32         \n",
      " 5   new_deaths      1575 non-null   int32         \n",
      " 6   gdp_per_capita  1575 non-null   float64       \n",
      " 7   population      1575 non-null   float64       \n",
      " 8   lockdown_date   1575 non-null   datetime64[ns]\n",
      "dtypes: datetime64[ns](2), float64(2), int32(4), object(1)\n",
      "memory usage: 98.4+ KB\n"
     ]
    }
   ],
   "source": [
    "totalData.info()"
   ]
  },
  {
   "cell_type": "code",
   "execution_count": null,
   "metadata": {},
   "outputs": [],
   "source": []
  },
  {
   "cell_type": "code",
   "execution_count": null,
   "metadata": {},
   "outputs": [],
   "source": []
  },
  {
   "cell_type": "markdown",
   "metadata": {},
   "source": [
    "\n",
    "<h1 style=\"color:red;font-size:20px;\">You need to export a data set which contains infomration of the cleaned cronavirus dataset as well as the lockdown date as the last step of task 1 in the following cell.</h1>  \n",
    "\n",
    "Please use dataframename.to_csv('<student_ID>_Task1DataSet.csv', index=False) to export your cleansed and integrated dataset. If your student Id is 1234, you should export the file with the following code"
   ]
  },
  {
   "cell_type": "code",
   "execution_count": 23,
   "metadata": {},
   "outputs": [],
   "source": [
    "totalData.to_csv('Task1DataSet.csv',index=False)"
   ]
  },
  {
   "cell_type": "markdown",
   "metadata": {},
   "source": [
    "# Task 2: "
   ]
  },
  {
   "cell_type": "markdown",
   "metadata": {},
   "source": [
    "### Question 1.\t\n",
    "Create a line chart to show the trend of the daily number of new cases for each country and explore the result of visualisation (Create one line chart for each country). \n",
    "\n",
    "### a little exploration of each country is below every chart"
   ]
  },
  {
   "cell_type": "code",
   "execution_count": 24,
   "metadata": {},
   "outputs": [
    {
     "data": {
      "text/html": [
       "<div>\n",
       "<style scoped>\n",
       "    .dataframe tbody tr th:only-of-type {\n",
       "        vertical-align: middle;\n",
       "    }\n",
       "\n",
       "    .dataframe tbody tr th {\n",
       "        vertical-align: top;\n",
       "    }\n",
       "\n",
       "    .dataframe thead th {\n",
       "        text-align: right;\n",
       "    }\n",
       "</style>\n",
       "<table border=\"1\" class=\"dataframe\">\n",
       "  <thead>\n",
       "    <tr style=\"text-align: right;\">\n",
       "      <th></th>\n",
       "      <th>location</th>\n",
       "      <th>date</th>\n",
       "      <th>total_cases</th>\n",
       "      <th>new_cases</th>\n",
       "      <th>total_deaths</th>\n",
       "      <th>new_deaths</th>\n",
       "      <th>gdp_per_capita</th>\n",
       "      <th>population</th>\n",
       "      <th>lockdown_date</th>\n",
       "    </tr>\n",
       "  </thead>\n",
       "  <tbody>\n",
       "    <tr>\n",
       "      <th>0</th>\n",
       "      <td>Australia</td>\n",
       "      <td>2019-12-31</td>\n",
       "      <td>0</td>\n",
       "      <td>0</td>\n",
       "      <td>0</td>\n",
       "      <td>0</td>\n",
       "      <td>44648.710</td>\n",
       "      <td>25499881.0</td>\n",
       "      <td>2020-03-24</td>\n",
       "    </tr>\n",
       "    <tr>\n",
       "      <th>1</th>\n",
       "      <td>Australia</td>\n",
       "      <td>2020-01-01</td>\n",
       "      <td>0</td>\n",
       "      <td>0</td>\n",
       "      <td>0</td>\n",
       "      <td>0</td>\n",
       "      <td>44648.710</td>\n",
       "      <td>25499881.0</td>\n",
       "      <td>2020-03-24</td>\n",
       "    </tr>\n",
       "    <tr>\n",
       "      <th>2</th>\n",
       "      <td>Australia</td>\n",
       "      <td>2020-01-02</td>\n",
       "      <td>0</td>\n",
       "      <td>0</td>\n",
       "      <td>0</td>\n",
       "      <td>0</td>\n",
       "      <td>44648.710</td>\n",
       "      <td>25499881.0</td>\n",
       "      <td>2020-03-24</td>\n",
       "    </tr>\n",
       "    <tr>\n",
       "      <th>3</th>\n",
       "      <td>Australia</td>\n",
       "      <td>2020-01-03</td>\n",
       "      <td>0</td>\n",
       "      <td>0</td>\n",
       "      <td>0</td>\n",
       "      <td>0</td>\n",
       "      <td>44648.710</td>\n",
       "      <td>25499881.0</td>\n",
       "      <td>2020-03-24</td>\n",
       "    </tr>\n",
       "    <tr>\n",
       "      <th>4</th>\n",
       "      <td>Australia</td>\n",
       "      <td>2020-01-04</td>\n",
       "      <td>0</td>\n",
       "      <td>0</td>\n",
       "      <td>0</td>\n",
       "      <td>0</td>\n",
       "      <td>44648.710</td>\n",
       "      <td>25499881.0</td>\n",
       "      <td>2020-03-24</td>\n",
       "    </tr>\n",
       "    <tr>\n",
       "      <th>...</th>\n",
       "      <td>...</td>\n",
       "      <td>...</td>\n",
       "      <td>...</td>\n",
       "      <td>...</td>\n",
       "      <td>...</td>\n",
       "      <td>...</td>\n",
       "      <td>...</td>\n",
       "      <td>...</td>\n",
       "      <td>...</td>\n",
       "    </tr>\n",
       "    <tr>\n",
       "      <th>1570</th>\n",
       "      <td>United States</td>\n",
       "      <td>2020-07-10</td>\n",
       "      <td>3118008</td>\n",
       "      <td>63004</td>\n",
       "      <td>133291</td>\n",
       "      <td>982</td>\n",
       "      <td>54225.446</td>\n",
       "      <td>331002647.0</td>\n",
       "      <td>2020-03-13</td>\n",
       "    </tr>\n",
       "    <tr>\n",
       "      <th>1571</th>\n",
       "      <td>United States</td>\n",
       "      <td>2020-07-11</td>\n",
       "      <td>3184633</td>\n",
       "      <td>66625</td>\n",
       "      <td>134097</td>\n",
       "      <td>806</td>\n",
       "      <td>54225.446</td>\n",
       "      <td>331002647.0</td>\n",
       "      <td>2020-03-13</td>\n",
       "    </tr>\n",
       "    <tr>\n",
       "      <th>1572</th>\n",
       "      <td>United States</td>\n",
       "      <td>2020-07-12</td>\n",
       "      <td>3247684</td>\n",
       "      <td>63051</td>\n",
       "      <td>134814</td>\n",
       "      <td>717</td>\n",
       "      <td>54225.446</td>\n",
       "      <td>331002647.0</td>\n",
       "      <td>2020-03-13</td>\n",
       "    </tr>\n",
       "    <tr>\n",
       "      <th>1573</th>\n",
       "      <td>United States</td>\n",
       "      <td>2020-07-13</td>\n",
       "      <td>3304942</td>\n",
       "      <td>57258</td>\n",
       "      <td>135205</td>\n",
       "      <td>391</td>\n",
       "      <td>54225.446</td>\n",
       "      <td>331002647.0</td>\n",
       "      <td>2020-03-13</td>\n",
       "    </tr>\n",
       "    <tr>\n",
       "      <th>1574</th>\n",
       "      <td>United States</td>\n",
       "      <td>2020-07-14</td>\n",
       "      <td>3363056</td>\n",
       "      <td>58114</td>\n",
       "      <td>135605</td>\n",
       "      <td>400</td>\n",
       "      <td>54225.446</td>\n",
       "      <td>331002647.0</td>\n",
       "      <td>2020-03-13</td>\n",
       "    </tr>\n",
       "  </tbody>\n",
       "</table>\n",
       "<p>1575 rows × 9 columns</p>\n",
       "</div>"
      ],
      "text/plain": [
       "           location        date  total_cases  new_cases  total_deaths  \\\n",
       "0         Australia  2019-12-31            0          0             0   \n",
       "1         Australia  2020-01-01            0          0             0   \n",
       "2         Australia  2020-01-02            0          0             0   \n",
       "3         Australia  2020-01-03            0          0             0   \n",
       "4         Australia  2020-01-04            0          0             0   \n",
       "...             ...         ...          ...        ...           ...   \n",
       "1570  United States  2020-07-10      3118008      63004        133291   \n",
       "1571  United States  2020-07-11      3184633      66625        134097   \n",
       "1572  United States  2020-07-12      3247684      63051        134814   \n",
       "1573  United States  2020-07-13      3304942      57258        135205   \n",
       "1574  United States  2020-07-14      3363056      58114        135605   \n",
       "\n",
       "      new_deaths  gdp_per_capita   population lockdown_date  \n",
       "0              0       44648.710   25499881.0    2020-03-24  \n",
       "1              0       44648.710   25499881.0    2020-03-24  \n",
       "2              0       44648.710   25499881.0    2020-03-24  \n",
       "3              0       44648.710   25499881.0    2020-03-24  \n",
       "4              0       44648.710   25499881.0    2020-03-24  \n",
       "...          ...             ...          ...           ...  \n",
       "1570         982       54225.446  331002647.0    2020-03-13  \n",
       "1571         806       54225.446  331002647.0    2020-03-13  \n",
       "1572         717       54225.446  331002647.0    2020-03-13  \n",
       "1573         391       54225.446  331002647.0    2020-03-13  \n",
       "1574         400       54225.446  331002647.0    2020-03-13  \n",
       "\n",
       "[1575 rows x 9 columns]"
      ]
     },
     "execution_count": 24,
     "metadata": {},
     "output_type": "execute_result"
    }
   ],
   "source": [
    "Data = pd.read_csv('Task1DataSet.csv')\n",
    "Data\n"
   ]
  },
  {
   "cell_type": "code",
   "execution_count": 25,
   "metadata": {},
   "outputs": [
    {
     "data": {
      "text/plain": [
       "Text(0.5, 1.0, 'The trend of the daily number of new cases for Australia')"
      ]
     },
     "execution_count": 25,
     "metadata": {},
     "output_type": "execute_result"
    },
    {
     "data": {
      "image/png": "[encoded data removed]",
      "text/plain": [
       "<Figure size 432x288 with 1 Axes>"
      ]
     },
     "metadata": {
      "needs_background": "light"
     },
     "output_type": "display_data"
    }
   ],
   "source": [
    "Aus = Data[Data['location']=='Australia']\n",
    "plt.plot(Aus.date,Aus.new_cases)\n",
    "plt.xticks(Aus.date[::20],rotation=45)\n",
    "plt.xlabel('Time(Days)')\n",
    "plt.ylabel('New_cases Number')\n",
    "plt.title('The trend of the daily number of new cases for Australia')"
   ]
  },
  {
   "cell_type": "markdown",
   "metadata": {},
   "source": [
    "#From 2019-12-31 to early march, there are no new_cases.At least not found.\n",
    "#And then, it suddenly burst up to about 600new_cases one day.\n",
    "\n",
    "At the beginning, we did not pay attention to the epidemic and did not prevent it. And Australia excutes a selective travel restriction, barring only nationals from Iran, South Korea and Italy. which led to the peak value. However, due to the advanced medical technology and small population in Australia, the epidemic was quickly brought under control by the quarantine policy.\n",
    "\n",
    "People began to let down their guard and unknown infections appeared in Victoria, but the second wave was brought under control by a state lockdown four for several weeks.\n"
   ]
  },
  {
   "cell_type": "code",
   "execution_count": 26,
   "metadata": {},
   "outputs": [
    {
     "data": {
      "text/plain": [
       "Text(0.5, 1.0, 'The trend of the daily number of new cases for China')"
      ]
     },
     "execution_count": 26,
     "metadata": {},
     "output_type": "execute_result"
    },
    {
     "data": {
      "image/png": "[encoded data removed]",
      "text/plain": [
       "<Figure size 432x288 with 1 Axes>"
      ]
     },
     "metadata": {
      "needs_background": "light"
     },
     "output_type": "display_data"
    }
   ],
   "source": [
    "Ch = Data[Data['location']=='China']\n",
    "plt.plot(Ch.date,Ch.new_cases)\n",
    "plt.xticks(Ch.date[::20],rotation=45)\n",
    "plt.xlabel('Time(Days)')\n",
    "plt.ylabel('New_cases Number')\n",
    "plt.title('The trend of the daily number of new cases for China')"
   ]
  },
  {
   "cell_type": "markdown",
   "metadata": {},
   "source": [
    "For the extreme value:\n",
    "\n",
    "    * reason one:\n",
    "    In China, the first discovery area is Wuhan.\n",
    "    all over the country, there are medical teams rushed to Hubei, rushed to Wuhan to support.\n",
    "    So this speeds up the process of identifying suspected cases.\n",
    "    All of the people who hadn't been diagnosed before  had a chance to see a doctor, all of them had a chance to be diagnosed.\n",
    "    * reson two:\n",
    "    according to the criteria of clinical diagnosis, there are a large proportion of suspected cases (which can be regarded as confirmed cases). Starting that day, Hubei will publish the number of clinical cases included in the number of confirmed cases.\n",
    "    So, that's why Wuhan suddenly has so many cases."
   ]
  },
  {
   "cell_type": "code",
   "execution_count": 27,
   "metadata": {},
   "outputs": [
    {
     "data": {
      "text/plain": [
       "Text(0.5, 1.0, 'The trend of the daily number of new cases for France')"
      ]
     },
     "execution_count": 27,
     "metadata": {},
     "output_type": "execute_result"
    },
    {
     "data": {
      "image/png": "[encoded data removed]",
      "text/plain": [
       "<Figure size 432x288 with 1 Axes>"
      ]
     },
     "metadata": {
      "needs_background": "light"
     },
     "output_type": "display_data"
    }
   ],
   "source": [
    "France = Data[Data['location']=='France']\n",
    "plt.plot(France.date,France.new_cases)\n",
    "plt.xticks(France.date[::20],rotation=45)\n",
    "plt.xlabel('Time(Days)')\n",
    "plt.ylabel('New_cases Number')\n",
    "plt.title('The trend of the daily number of new cases for France')"
   ]
  },
  {
   "cell_type": "markdown",
   "metadata": {},
   "source": [
    "This trend is relatively normal, and people are not vigilant enough to pay attention to epidemic prevention and control.\n",
    "Uneven values that sometimes go up and somtimes go down rapidly.The reason maybe France's policy of blockade may make the movement and movement of people cyclical.(For example )(France wanted to avoid as many blockdown as possible)"
   ]
  },
  {
   "cell_type": "code",
   "execution_count": 28,
   "metadata": {},
   "outputs": [
    {
     "data": {
      "text/plain": [
       "Text(0.5, 1.0, 'The trend of the daily number of new cases for Iran')"
      ]
     },
     "execution_count": 28,
     "metadata": {},
     "output_type": "execute_result"
    },
    {
     "data": {
      "image/png": "[encoded data removed]",
      "text/plain": [
       "<Figure size 432x288 with 1 Axes>"
      ]
     },
     "metadata": {
      "needs_background": "light"
     },
     "output_type": "display_data"
    }
   ],
   "source": [
    "Iran = Data[Data['location']=='Iran']\n",
    "plt.plot(Iran.date,Iran.new_cases)\n",
    "plt.xticks(Iran.date[::20],rotation=45)\n",
    "plt.xlabel('Time(Days)')\n",
    "plt.ylabel('New_cases Number')\n",
    "plt.title('The trend of the daily number of new cases for Iran')"
   ]
  },
  {
   "cell_type": "markdown",
   "metadata": {},
   "source": [
    "The number of cases reported in Iran may represent only about 20% of the real number until more tests could be conducted.So, I think these two extreme value are no special meaning,after all, it doesn't have any record online.(if there are something happends,it will be recorded because 0 to 5000 is so amazing strange)So, recently, consider a statistical error.\n",
    "\n",
    "Social distancing and hygiene rules are not observed, and there are no strict government restrictions(Authorities seem reluctant to impose lockdown). there is the reasons for two rebounds in the country.\n",
    "\n",
    "#reference:https://en.wikipedia.org/wiki/COVID-19_pandemic_in_Iran\n",
    "https://www.bbc.com/news/world-middle-east-52903443"
   ]
  },
  {
   "cell_type": "code",
   "execution_count": 29,
   "metadata": {},
   "outputs": [
    {
     "data": {
      "text/plain": [
       "Text(0.5, 1.0, 'The trend of the daily number of new cases for Italy')"
      ]
     },
     "execution_count": 29,
     "metadata": {},
     "output_type": "execute_result"
    },
    {
     "data": {
      "image/png": "[encoded data removed]",
      "text/plain": [
       "<Figure size 432x288 with 1 Axes>"
      ]
     },
     "metadata": {
      "needs_background": "light"
     },
     "output_type": "display_data"
    }
   ],
   "source": [
    "Italy = Data[Data['location']=='Italy']\n",
    "plt.plot(Italy.date,Italy.new_cases)\n",
    "plt.xticks(Italy.date[::20],rotation=45)\n",
    "plt.xlabel('Time(Days)')\n",
    "plt.ylabel('New_cases Number')\n",
    "plt.title('The trend of the daily number of new cases for Italy')\n"
   ]
  },
  {
   "cell_type": "markdown",
   "metadata": {},
   "source": [
    "For these small rebound,Their health systems were on the verge of collapse, and their detection capabilities were intermittent.\n",
    "\n",
    "#https://www.tellerreport.com/news/2020-08-15-italy-s-new-crown-epidemic-rebound-report--there-are-925-active-virus-infection-chains.HJu4sefSzD.html\n"
   ]
  },
  {
   "cell_type": "code",
   "execution_count": 30,
   "metadata": {},
   "outputs": [
    {
     "data": {
      "text/plain": [
       "Text(0.5, 1.0, 'The trend of the daily number of new cases for ASpain')"
      ]
     },
     "execution_count": 30,
     "metadata": {},
     "output_type": "execute_result"
    },
    {
     "data": {
      "image/png": "[encoded data removed]",
      "text/plain": [
       "<Figure size 432x288 with 1 Axes>"
      ]
     },
     "metadata": {
      "needs_background": "light"
     },
     "output_type": "display_data"
    }
   ],
   "source": [
    "Spain = Data[Data['location']=='Spain']\n",
    "plt.plot(Spain.date,Spain.new_cases)\n",
    "plt.xticks(Spain.date[::20],rotation=45)\n",
    "\n",
    "plt.xlabel('Time(Days)')\n",
    "plt.ylabel('New_cases Number')\n",
    "plt.title('The trend of the daily number of new cases for ASpain')\n"
   ]
  },
  {
   "cell_type": "markdown",
   "metadata": {},
   "source": [
    "Under lockdown policies, as well as other effective measures,trend is normal.Like this line chart, the tend to decline after reaching a peak."
   ]
  },
  {
   "cell_type": "code",
   "execution_count": 31,
   "metadata": {},
   "outputs": [
    {
     "data": {
      "text/plain": [
       "Text(0.5, 1.0, 'The trend of the daily number of new cases for United Kingdom')"
      ]
     },
     "execution_count": 31,
     "metadata": {},
     "output_type": "execute_result"
    },
    {
     "data": {
      "image/png": "[encoded data removed]",
      "text/plain": [
       "<Figure size 432x288 with 1 Axes>"
      ]
     },
     "metadata": {
      "needs_background": "light"
     },
     "output_type": "display_data"
    }
   ],
   "source": [
    "\n",
    "UK= Data[Data['location']=='United Kingdom']\n",
    "plt.plot(UK.date,UK.new_cases)\n",
    "plt.xticks(UK.date[::20],rotation=45)\n",
    "plt.xlabel('Time(Days)')\n",
    "plt.ylabel('New_cases Number')\n",
    "plt.title('The trend of the daily number of new cases for United Kingdom')"
   ]
  },
  {
   "cell_type": "markdown",
   "metadata": {},
   "source": [
    "The number is no meaning that is up to 30,000 at the end of June, it originally is -30,000, I changed it to 30,000 because I took it into consider that minus might be recorded just by mistake.But I found,actually,it doesn't have the extreme large value in official recording online. So, consider it as a error.\n",
    "#reference:https://www.dailymail.co.uk/news/article-8654045/Scotland-sees-highest-rise-Covid-infections-three-months-123-new-cases.html"
   ]
  },
  {
   "cell_type": "code",
   "execution_count": 32,
   "metadata": {},
   "outputs": [
    {
     "data": {
      "text/plain": [
       "Text(0.5, 1.0, 'The trend of the daily number of new cases for United States')"
      ]
     },
     "execution_count": 32,
     "metadata": {},
     "output_type": "execute_result"
    },
    {
     "data": {
      "image/png": "[encoded data removed]",
      "text/plain": [
       "<Figure size 432x288 with 1 Axes>"
      ]
     },
     "metadata": {
      "needs_background": "light"
     },
     "output_type": "display_data"
    }
   ],
   "source": [
    "US= Data[Data['location']=='United States']\n",
    "plt.plot(US.date,US.new_cases)\n",
    "plt.xticks(US.date[::20],rotation=45)#reference : https://blog.csdn.net/Du_Shuang/article/details/84138985\n",
    "\n",
    "plt.xlabel('Time(Days)')\n",
    "plt.ylabel('New_cases Number')\n",
    "plt.title('The trend of the daily number of new cases for United States')"
   ]
  },
  {
   "cell_type": "markdown",
   "metadata": {},
   "source": [
    "First of all, the US has a large population base. Second, the spread of the virus is very fast and has not been effectively controlled in the early stage, leading to uncontrolled infection. The number of daily infections increases EXPONENTIONAL, rather than gradually controlling the epidemic under the blockade as other countries do.\n",
    "\n",
    "#reference:https://www.usatoday.com/story/news/health/2020/03/28/coronavirus-cases-growing-rapidly-exponential-growth/2922091001/"
   ]
  },
  {
   "cell_type": "code",
   "execution_count": null,
   "metadata": {},
   "outputs": [],
   "source": []
  },
  {
   "cell_type": "markdown",
   "metadata": {},
   "source": [
    "### Question 2\n",
    "Add a vertical line for the lockdown date to the line chart of each country which you created in the previous question and explore if the lockdown affected the trend which is shown in the plot? Is the effect similar for all countries? Why do you think so?"
   ]
  },
  {
   "cell_type": "code",
   "execution_count": null,
   "metadata": {},
   "outputs": [],
   "source": []
  },
  {
   "cell_type": "code",
   "execution_count": 33,
   "metadata": {},
   "outputs": [
    {
     "data": {
      "text/plain": [
       "Text(0.5, 1.0, 'The trend of the daily number of new cases for Australia')"
      ]
     },
     "execution_count": 33,
     "metadata": {},
     "output_type": "execute_result"
    },
    {
     "data": {
      "image/png": "[encoded data removed]",
      "text/plain": [
       "<Figure size 432x288 with 1 Axes>"
      ]
     },
     "metadata": {
      "needs_background": "light"
     },
     "output_type": "display_data"
    }
   ],
   "source": [
    "Aus = Data[Data['location']=='Australia']\n",
    "Aus.reset_index(inplace=True)\n",
    "plt.plot(Aus.date,Aus.new_cases)\n",
    "plt.xticks(Aus.date[::20],rotation=45)\n",
    "#referrence: https://blog.csdn.net/bubid/article/details/108023138?utm_medium=distribute.pc_aggpage_search_result.none-task-blog-2~all~first_rank_v2~rank_v25-3-108023138.nonecase&utm_term=matplot%E6%B7%BB%E5%8A%A0%E5%8F%82%E8%80%83%E7%BA%BF%20python\n",
    "#for referrence line code\n",
    "date=Aus['lockdown_date'][0]\n",
    "plt.axvline(x=date,c='r',ls='-',lw=1)\n",
    "\n",
    "plt.xlabel('Time(Days)')\n",
    "plt.ylabel('New_cases Number')\n",
    "plt.title('The trend of the daily number of new cases for Australia')"
   ]
  },
  {
   "cell_type": "code",
   "execution_count": null,
   "metadata": {},
   "outputs": [],
   "source": []
  },
  {
   "cell_type": "code",
   "execution_count": 34,
   "metadata": {},
   "outputs": [
    {
     "data": {
      "text/plain": [
       "Text(0.5, 1.0, 'The trend of the daily number of new cases for China')"
      ]
     },
     "execution_count": 34,
     "metadata": {},
     "output_type": "execute_result"
    },
    {
     "data": {
      "image/png": "[encoded data removed]",
      "text/plain": [
       "<Figure size 432x288 with 1 Axes>"
      ]
     },
     "metadata": {
      "needs_background": "light"
     },
     "output_type": "display_data"
    }
   ],
   "source": [
    "Ch = Data[Data['location']=='China']\n",
    "Ch.reset_index(inplace=True)\n",
    "Ch.drop(columns='index')\n",
    "\n",
    "plt.plot(Ch.date,Ch.new_cases)\n",
    "plt.xticks(Ch.date[::20],rotation=45)\n",
    "\n",
    "date1=Ch['lockdown_date'][0]\n",
    "plt.axvline(x=date1,c='r',ls='-',lw=1)\n",
    "\n",
    "plt.xlabel('Time(Days)')\n",
    "plt.ylabel('New_cases Number')\n",
    "plt.title('The trend of the daily number of new cases for China')"
   ]
  },
  {
   "cell_type": "code",
   "execution_count": 35,
   "metadata": {
    "scrolled": false
   },
   "outputs": [
    {
     "data": {
      "text/plain": [
       "Text(0.5, 1.0, 'The trend of the daily number of new cases for France')"
      ]
     },
     "execution_count": 35,
     "metadata": {},
     "output_type": "execute_result"
    },
    {
     "data": {
      "image/png": "[encoded data removed]",
      "text/plain": [
       "<Figure size 432x288 with 1 Axes>"
      ]
     },
     "metadata": {
      "needs_background": "light"
     },
     "output_type": "display_data"
    }
   ],
   "source": [
    "France = Data[Data['location']=='France']\n",
    "France.reset_index(inplace=True)\n",
    "France.drop(columns='index')\n",
    "\n",
    "plt.plot(France.date,France.new_cases)\n",
    "plt.xticks(France.date[::20],rotation=45)\n",
    "\n",
    "date=France['lockdown_date'][0]\n",
    "plt.axvline(x=date,c='r',ls='-',lw=1)\n",
    "\n",
    "plt.xlabel('Time(Days)')\n",
    "plt.ylabel('New_cases Number')\n",
    "plt.title('The trend of the daily number of new cases for France')"
   ]
  },
  {
   "cell_type": "code",
   "execution_count": 36,
   "metadata": {},
   "outputs": [
    {
     "data": {
      "text/plain": [
       "Text(0.5, 1.0, 'The trend of the daily number of new cases for Iran')"
      ]
     },
     "execution_count": 36,
     "metadata": {},
     "output_type": "execute_result"
    },
    {
     "data": {
      "image/png": "[encoded data removed]",
      "text/plain": [
       "<Figure size 432x288 with 1 Axes>"
      ]
     },
     "metadata": {
      "needs_background": "light"
     },
     "output_type": "display_data"
    }
   ],
   "source": [
    "Iran = Data[Data['location']=='Iran']\n",
    "Iran.reset_index(inplace=True)\n",
    "Iran.drop(columns='index')\n",
    "\n",
    "plt.plot(Iran.date,Iran.new_cases)\n",
    "plt.xticks(Iran.date[::20],rotation=45)\n",
    "\n",
    "date=Iran['lockdown_date'][0]\n",
    "plt.axvline(x=date,c='r',ls='-',lw=1)\n",
    "\n",
    "plt.xlabel('Time(Days)')\n",
    "plt.ylabel('New_cases Number')\n",
    "plt.title('The trend of the daily number of new cases for Iran')"
   ]
  },
  {
   "cell_type": "code",
   "execution_count": 37,
   "metadata": {},
   "outputs": [
    {
     "data": {
      "text/plain": [
       "Text(0.5, 1.0, 'The trend of the daily number of new cases for Italy')"
      ]
     },
     "execution_count": 37,
     "metadata": {},
     "output_type": "execute_result"
    },
    {
     "data": {
      "image/png": "[encoded data removed]",
      "text/plain": [
       "<Figure size 432x288 with 1 Axes>"
      ]
     },
     "metadata": {
      "needs_background": "light"
     },
     "output_type": "display_data"
    }
   ],
   "source": [
    "Italy = Data[Data['location']=='Italy']\n",
    "Italy.reset_index(inplace=True)\n",
    "Italy.drop(columns='index')\n",
    "\n",
    "plt.plot(Italy.date,Italy.new_cases)\n",
    "plt.xticks(Italy.date[::20],rotation=45)\n",
    "\n",
    "date=Italy['lockdown_date'][0]\n",
    "plt.axvline(x=date,c='r',ls='-',lw=1)\n",
    "\n",
    "plt.xlabel('Time(Days)')\n",
    "plt.ylabel('New_cases Number')\n",
    "plt.title('The trend of the daily number of new cases for Italy')"
   ]
  },
  {
   "cell_type": "code",
   "execution_count": null,
   "metadata": {},
   "outputs": [],
   "source": []
  },
  {
   "cell_type": "code",
   "execution_count": 38,
   "metadata": {
    "scrolled": true
   },
   "outputs": [
    {
     "data": {
      "text/plain": [
       "Text(0.5, 1.0, 'The trend of the daily number of new cases for ASpain')"
      ]
     },
     "execution_count": 38,
     "metadata": {},
     "output_type": "execute_result"
    },
    {
     "data": {
      "image/png": "[encoded data removed]",
      "text/plain": [
       "<Figure size 432x288 with 1 Axes>"
      ]
     },
     "metadata": {
      "needs_background": "light"
     },
     "output_type": "display_data"
    }
   ],
   "source": [
    "Spain = Data[Data['location']=='Spain']\n",
    "Spain.reset_index(inplace=True)\n",
    "Spain.drop(columns='index')\n",
    "\n",
    "plt.plot(Spain.date,Spain.new_cases)\n",
    "plt.xticks(Spain.date[::20],rotation=45)\n",
    "\n",
    "date=Spain['lockdown_date'][0]\n",
    "plt.axvline(x=date,c='r',ls='-',lw=1)\n",
    "\n",
    "plt.xlabel('Time(Days)')\n",
    "plt.ylabel('New_cases Number')\n",
    "plt.title('The trend of the daily number of new cases for ASpain')"
   ]
  },
  {
   "cell_type": "code",
   "execution_count": null,
   "metadata": {},
   "outputs": [],
   "source": []
  },
  {
   "cell_type": "code",
   "execution_count": 39,
   "metadata": {},
   "outputs": [
    {
     "data": {
      "text/plain": [
       "Text(0.5, 1.0, 'The trend of the daily number of new cases for United Kingdom')"
      ]
     },
     "execution_count": 39,
     "metadata": {},
     "output_type": "execute_result"
    },
    {
     "data": {
      "image/png": "[encoded data removed]",
      "text/plain": [
       "<Figure size 432x288 with 1 Axes>"
      ]
     },
     "metadata": {
      "needs_background": "light"
     },
     "output_type": "display_data"
    }
   ],
   "source": [
    "UK= Data[Data['location']=='United Kingdom']\n",
    "UK.reset_index(inplace=True)\n",
    "UK.drop(columns='index')\n",
    "\n",
    "plt.plot(UK.date,UK.new_cases)\n",
    "plt.xticks(UK.date[::20],rotation=45)\n",
    "\n",
    "\n",
    "date=UK['lockdown_date'][0]\n",
    "plt.axvline(x=date,c='r',ls='-',lw=1)\n",
    "\n",
    "plt.xlabel('Time(Days)')\n",
    "plt.ylabel('New_cases Number')\n",
    "plt.title('The trend of the daily number of new cases for United Kingdom')"
   ]
  },
  {
   "cell_type": "markdown",
   "metadata": {},
   "source": [
    "       "
   ]
  },
  {
   "cell_type": "code",
   "execution_count": null,
   "metadata": {},
   "outputs": [],
   "source": []
  },
  {
   "cell_type": "code",
   "execution_count": 40,
   "metadata": {},
   "outputs": [
    {
     "data": {
      "text/plain": [
       "Text(0.5, 1.0, 'The trend of the daily number of new cases for United States')"
      ]
     },
     "execution_count": 40,
     "metadata": {},
     "output_type": "execute_result"
    },
    {
     "data": {
      "image/png": "[encoded data removed]",
      "text/plain": [
       "<Figure size 432x288 with 1 Axes>"
      ]
     },
     "metadata": {
      "needs_background": "light"
     },
     "output_type": "display_data"
    }
   ],
   "source": [
    "US= Data[Data['location']=='United States']\n",
    "US.reset_index(inplace=True)\n",
    "US.drop(columns='index')\n",
    "\n",
    "plt.plot(US.date,US.new_cases)\n",
    "plt.xticks(US.date[::20],rotation=45)#reference : https://blog.csdn.net/Du_Shuang/article/details/84138985\n",
    "\n",
    "date=US['lockdown_date'][0]\n",
    "plt.axvline(x=date,c='r',ls='-',lw=1)\n",
    "\n",
    "\n",
    "plt.xlabel('Time(Days)')\n",
    "plt.ylabel('New_cases Number')\n",
    "plt.title('The trend of the daily number of new cases for United States')"
   ]
  },
  {
   "cell_type": "markdown",
   "metadata": {},
   "source": [
    "### NB :"
   ]
  },
  {
   "cell_type": "markdown",
   "metadata": {},
   "source": [
    "It is important to note that the peak usually occurs after the lockdown is put in place, because it takes some time for the lockdown to have an effect, and the decrease in cases will be reflected in the later data.\n",
    "**Australia, and China** have been successful,their lockdowns are worked. The lockdown of **UK, Iran and US** doesn't work well. For **France,Italy and Spain**,it is OK,but not enough obvious.So,First lockdown is not similar for all countries.\n",
    "\n",
    "**Australia**:The effect is remarkable.Small population: Easy to manage.Island country: Easy to control import from abroad\n",
    "**China**:The effect is very obvious, because the blockade time is very early, so the difficulty is small. And the whole people cooperate with the government'policy.\n",
    "\n",
    " **UK**:\n",
    " London (CNN)The UK's vexed reaction to the coronavirus widespread got to be indeed more confounded, as government direction apparently at chances with itself rolled out over Britain, pushing the four countries of the UK advance apart.\n",
    "The U.K., whose lawmakers were diverted by Brexit, is presently a case consider on how a postponed reaction can be disastrous indeed in case a nation contains a great wellbeing framework and an educated populace, Furness said. \"In the U.K. individuals believe the government sufficient, they're compliant sufficient. But the government was completely snoozing at the switch,\" he said.\n",
    "The early blockade was crucial, the British did not blockade early, misjudged the situation, and the late blockade did not work anymore.\n",
    "\n",
    "**Frence**:Because of the cultural influence, some countries go out to buy food once a week, the *French* go out to buy food every day, so maybe their blockade is like there is no blockade, like from going out to buy food every day to once a week\n",
    "\n",
    "**US**: Canada and the U.S.are huge decentralized leagues with independent subnational governments, and each reacted in an unexpected way. There was no across the country understanding on the seriousness of the emergency and the control procedure.Moreover, Americans, on the other hand, are broadly disobedient of government, and President Donald Trump's open difference with a few governors' statewide lockdowns irritated the situation. The last main factor I would see is many religious in America, Churches are high-risk places for infection, as they are large, closed spaces where people gather together to sing and talk.\n",
    "\n",
    "**Iran**:\n",
    "\n",
    "**Italy**: \n",
    "The average age of coronavirus patients who have died is 81. Italy, which has one the world s oldest populations, could be facing a higher death rate as a result of its elderly population.\n",
    "\"The positive impacts of Italy's coronavirus lockdown are however to be seen, the chief of a Milan hospital's seriously care unit (ICU) has told Euronews..\" **The virus had probably been circulating for quite some time in Italy,and Italy is testing only the critical cases.**\n",
    "So, it lockdown seems no effect.\n",
    " \n",
    "\n",
    "**Spain**:1,The primary care system is “on the edge of collapse”.2,Critically ill patients are isolated at home\n",
    "\n",
    "Isolation is different from isolation, and effective isolation policy can play a key role. For countries with no obvious effect of isolation, they have a common feature, that is, patients stay at home for isolation. Like a suggestion, some people unconsciously go out to exercise and increase the infection.\n",
    "\n",
    "\n",
    "\n",
    "#reference:1,https://edition.cnn.com/2020/08/03/uk/covid-capital-of-europe-reopens-amid-confusion-and-chaos-intl-gbr/index.html\n",
    "\n",
    "2,https://www.euronews.com/2020/03/25/coronavirus-positive-effects-of-italy-s-covid-19-lockdown-yet-to-be-seen\n",
    "        \n",
    "3,https://time.com/5799586/italy-coronavirus-outbreak/\n",
    "        \n",
    "4,https://www.theguardian.com/world/2020/aug/25/spain-warned-of-dire-impact-of-second-coronavirus-lockdown\n",
    "\n"
   ]
  },
  {
   "cell_type": "markdown",
   "metadata": {},
   "source": [
    "### Question 3.  \n",
    "Explore whether there is a relation between daily new case/death rate and the GDP of a country. To this aim, you need to calculate: \n",
    "*\tThe average of GDP of the countries, and then divide the countries into two groups, a group which its GDP is above the average GDP, and another group which its GDP is below the average GDP. We call the former group as \"AboveGDP\" and the later as \"BelowGDP\" from now onwards.\n",
    "*\tThe daily new cases rate (new cases divided by population) for each country\n",
    "*\tThe daily new death rate (new deaths divided by population) for each country \n",
    "        \n",
    "Then, you need to create two line charts, one which shows the new case rate of groups \"AboveGDP\" and \"BelowGDP\"; and, another line chart to show the death rate of the two groups (\"AboveGDP\" and \"BelowGDP\").\n",
    "\n",
    "    a) Which group (\"AboveGDP\" or \"BelowGDP\") usually had higher values of case rate?\n",
    "    b) Which group (\"AboveGDP\" or \"BelowGDP”) usually had higher values of the death rate?\n",
    "    c) We would have expected that the case rate and death rate of group \"AboveGDP\" will be lower than group \"BelowGDP\". Does \n",
    "    the result of your visualisation is the same as the mentioned expectation? If no, why do you think the expectation is \n",
    "    different from the reality? \n"
   ]
  },
  {
   "cell_type": "code",
   "execution_count": 41,
   "metadata": {},
   "outputs": [
    {
     "data": {
      "text/html": [
       "<div>\n",
       "<style scoped>\n",
       "    .dataframe tbody tr th:only-of-type {\n",
       "        vertical-align: middle;\n",
       "    }\n",
       "\n",
       "    .dataframe tbody tr th {\n",
       "        vertical-align: top;\n",
       "    }\n",
       "\n",
       "    .dataframe thead th {\n",
       "        text-align: right;\n",
       "    }\n",
       "</style>\n",
       "<table border=\"1\" class=\"dataframe\">\n",
       "  <thead>\n",
       "    <tr style=\"text-align: right;\">\n",
       "      <th></th>\n",
       "      <th>location</th>\n",
       "      <th>date</th>\n",
       "      <th>total_cases</th>\n",
       "      <th>new_cases</th>\n",
       "      <th>total_deaths</th>\n",
       "      <th>new_deaths</th>\n",
       "      <th>gdp_per_capita</th>\n",
       "      <th>population</th>\n",
       "      <th>lockdown_date</th>\n",
       "    </tr>\n",
       "  </thead>\n",
       "  <tbody>\n",
       "    <tr>\n",
       "      <th>0</th>\n",
       "      <td>Australia</td>\n",
       "      <td>2019-12-31</td>\n",
       "      <td>0</td>\n",
       "      <td>0</td>\n",
       "      <td>0</td>\n",
       "      <td>0</td>\n",
       "      <td>44648.710</td>\n",
       "      <td>25499881.0</td>\n",
       "      <td>2020-03-24</td>\n",
       "    </tr>\n",
       "    <tr>\n",
       "      <th>1</th>\n",
       "      <td>Australia</td>\n",
       "      <td>2020-01-01</td>\n",
       "      <td>0</td>\n",
       "      <td>0</td>\n",
       "      <td>0</td>\n",
       "      <td>0</td>\n",
       "      <td>44648.710</td>\n",
       "      <td>25499881.0</td>\n",
       "      <td>2020-03-24</td>\n",
       "    </tr>\n",
       "    <tr>\n",
       "      <th>2</th>\n",
       "      <td>Australia</td>\n",
       "      <td>2020-01-02</td>\n",
       "      <td>0</td>\n",
       "      <td>0</td>\n",
       "      <td>0</td>\n",
       "      <td>0</td>\n",
       "      <td>44648.710</td>\n",
       "      <td>25499881.0</td>\n",
       "      <td>2020-03-24</td>\n",
       "    </tr>\n",
       "    <tr>\n",
       "      <th>3</th>\n",
       "      <td>Australia</td>\n",
       "      <td>2020-01-03</td>\n",
       "      <td>0</td>\n",
       "      <td>0</td>\n",
       "      <td>0</td>\n",
       "      <td>0</td>\n",
       "      <td>44648.710</td>\n",
       "      <td>25499881.0</td>\n",
       "      <td>2020-03-24</td>\n",
       "    </tr>\n",
       "    <tr>\n",
       "      <th>4</th>\n",
       "      <td>Australia</td>\n",
       "      <td>2020-01-04</td>\n",
       "      <td>0</td>\n",
       "      <td>0</td>\n",
       "      <td>0</td>\n",
       "      <td>0</td>\n",
       "      <td>44648.710</td>\n",
       "      <td>25499881.0</td>\n",
       "      <td>2020-03-24</td>\n",
       "    </tr>\n",
       "    <tr>\n",
       "      <th>...</th>\n",
       "      <td>...</td>\n",
       "      <td>...</td>\n",
       "      <td>...</td>\n",
       "      <td>...</td>\n",
       "      <td>...</td>\n",
       "      <td>...</td>\n",
       "      <td>...</td>\n",
       "      <td>...</td>\n",
       "      <td>...</td>\n",
       "    </tr>\n",
       "    <tr>\n",
       "      <th>1570</th>\n",
       "      <td>United States</td>\n",
       "      <td>2020-07-10</td>\n",
       "      <td>3118008</td>\n",
       "      <td>63004</td>\n",
       "      <td>133291</td>\n",
       "      <td>982</td>\n",
       "      <td>54225.446</td>\n",
       "      <td>331002647.0</td>\n",
       "      <td>2020-03-13</td>\n",
       "    </tr>\n",
       "    <tr>\n",
       "      <th>1571</th>\n",
       "      <td>United States</td>\n",
       "      <td>2020-07-11</td>\n",
       "      <td>3184633</td>\n",
       "      <td>66625</td>\n",
       "      <td>134097</td>\n",
       "      <td>806</td>\n",
       "      <td>54225.446</td>\n",
       "      <td>331002647.0</td>\n",
       "      <td>2020-03-13</td>\n",
       "    </tr>\n",
       "    <tr>\n",
       "      <th>1572</th>\n",
       "      <td>United States</td>\n",
       "      <td>2020-07-12</td>\n",
       "      <td>3247684</td>\n",
       "      <td>63051</td>\n",
       "      <td>134814</td>\n",
       "      <td>717</td>\n",
       "      <td>54225.446</td>\n",
       "      <td>331002647.0</td>\n",
       "      <td>2020-03-13</td>\n",
       "    </tr>\n",
       "    <tr>\n",
       "      <th>1573</th>\n",
       "      <td>United States</td>\n",
       "      <td>2020-07-13</td>\n",
       "      <td>3304942</td>\n",
       "      <td>57258</td>\n",
       "      <td>135205</td>\n",
       "      <td>391</td>\n",
       "      <td>54225.446</td>\n",
       "      <td>331002647.0</td>\n",
       "      <td>2020-03-13</td>\n",
       "    </tr>\n",
       "    <tr>\n",
       "      <th>1574</th>\n",
       "      <td>United States</td>\n",
       "      <td>2020-07-14</td>\n",
       "      <td>3363056</td>\n",
       "      <td>58114</td>\n",
       "      <td>135605</td>\n",
       "      <td>400</td>\n",
       "      <td>54225.446</td>\n",
       "      <td>331002647.0</td>\n",
       "      <td>2020-03-13</td>\n",
       "    </tr>\n",
       "  </tbody>\n",
       "</table>\n",
       "<p>1575 rows × 9 columns</p>\n",
       "</div>"
      ],
      "text/plain": [
       "           location        date  total_cases  new_cases  total_deaths  \\\n",
       "0         Australia  2019-12-31            0          0             0   \n",
       "1         Australia  2020-01-01            0          0             0   \n",
       "2         Australia  2020-01-02            0          0             0   \n",
       "3         Australia  2020-01-03            0          0             0   \n",
       "4         Australia  2020-01-04            0          0             0   \n",
       "...             ...         ...          ...        ...           ...   \n",
       "1570  United States  2020-07-10      3118008      63004        133291   \n",
       "1571  United States  2020-07-11      3184633      66625        134097   \n",
       "1572  United States  2020-07-12      3247684      63051        134814   \n",
       "1573  United States  2020-07-13      3304942      57258        135205   \n",
       "1574  United States  2020-07-14      3363056      58114        135605   \n",
       "\n",
       "      new_deaths  gdp_per_capita   population lockdown_date  \n",
       "0              0       44648.710   25499881.0    2020-03-24  \n",
       "1              0       44648.710   25499881.0    2020-03-24  \n",
       "2              0       44648.710   25499881.0    2020-03-24  \n",
       "3              0       44648.710   25499881.0    2020-03-24  \n",
       "4              0       44648.710   25499881.0    2020-03-24  \n",
       "...          ...             ...          ...           ...  \n",
       "1570         982       54225.446  331002647.0    2020-03-13  \n",
       "1571         806       54225.446  331002647.0    2020-03-13  \n",
       "1572         717       54225.446  331002647.0    2020-03-13  \n",
       "1573         391       54225.446  331002647.0    2020-03-13  \n",
       "1574         400       54225.446  331002647.0    2020-03-13  \n",
       "\n",
       "[1575 rows x 9 columns]"
      ]
     },
     "execution_count": 41,
     "metadata": {},
     "output_type": "execute_result"
    }
   ],
   "source": [
    "Data = pd.read_csv('Task1DataSet.csv')\n",
    "Data"
   ]
  },
  {
   "cell_type": "code",
   "execution_count": 42,
   "metadata": {
    "scrolled": false
   },
   "outputs": [
    {
     "data": {
      "text/plain": [
       "35140.15650730207"
      ]
     },
     "execution_count": 42,
     "metadata": {},
     "output_type": "execute_result"
    }
   ],
   "source": [
    "aver_GDP = Data.gdp_per_capita.mean()\n",
    "aver_GDP"
   ]
  },
  {
   "cell_type": "code",
   "execution_count": 43,
   "metadata": {
    "scrolled": false
   },
   "outputs": [
    {
     "data": {
      "text/html": [
       "<div>\n",
       "<style scoped>\n",
       "    .dataframe tbody tr th:only-of-type {\n",
       "        vertical-align: middle;\n",
       "    }\n",
       "\n",
       "    .dataframe tbody tr th {\n",
       "        vertical-align: top;\n",
       "    }\n",
       "\n",
       "    .dataframe thead th {\n",
       "        text-align: right;\n",
       "    }\n",
       "</style>\n",
       "<table border=\"1\" class=\"dataframe\">\n",
       "  <thead>\n",
       "    <tr style=\"text-align: right;\">\n",
       "      <th></th>\n",
       "      <th>index</th>\n",
       "      <th>location</th>\n",
       "      <th>date</th>\n",
       "      <th>total_cases</th>\n",
       "      <th>new_cases</th>\n",
       "      <th>total_deaths</th>\n",
       "      <th>new_deaths</th>\n",
       "      <th>gdp_per_capita</th>\n",
       "      <th>population</th>\n",
       "      <th>lockdown_date</th>\n",
       "    </tr>\n",
       "  </thead>\n",
       "  <tbody>\n",
       "    <tr>\n",
       "      <th>0</th>\n",
       "      <td>0</td>\n",
       "      <td>Australia</td>\n",
       "      <td>2019-12-31</td>\n",
       "      <td>0</td>\n",
       "      <td>0</td>\n",
       "      <td>0</td>\n",
       "      <td>0</td>\n",
       "      <td>44648.710</td>\n",
       "      <td>25499881.0</td>\n",
       "      <td>2020-03-24</td>\n",
       "    </tr>\n",
       "    <tr>\n",
       "      <th>1</th>\n",
       "      <td>1</td>\n",
       "      <td>Australia</td>\n",
       "      <td>2020-01-01</td>\n",
       "      <td>0</td>\n",
       "      <td>0</td>\n",
       "      <td>0</td>\n",
       "      <td>0</td>\n",
       "      <td>44648.710</td>\n",
       "      <td>25499881.0</td>\n",
       "      <td>2020-03-24</td>\n",
       "    </tr>\n",
       "    <tr>\n",
       "      <th>2</th>\n",
       "      <td>2</td>\n",
       "      <td>Australia</td>\n",
       "      <td>2020-01-02</td>\n",
       "      <td>0</td>\n",
       "      <td>0</td>\n",
       "      <td>0</td>\n",
       "      <td>0</td>\n",
       "      <td>44648.710</td>\n",
       "      <td>25499881.0</td>\n",
       "      <td>2020-03-24</td>\n",
       "    </tr>\n",
       "    <tr>\n",
       "      <th>3</th>\n",
       "      <td>3</td>\n",
       "      <td>Australia</td>\n",
       "      <td>2020-01-03</td>\n",
       "      <td>0</td>\n",
       "      <td>0</td>\n",
       "      <td>0</td>\n",
       "      <td>0</td>\n",
       "      <td>44648.710</td>\n",
       "      <td>25499881.0</td>\n",
       "      <td>2020-03-24</td>\n",
       "    </tr>\n",
       "    <tr>\n",
       "      <th>4</th>\n",
       "      <td>4</td>\n",
       "      <td>Australia</td>\n",
       "      <td>2020-01-04</td>\n",
       "      <td>0</td>\n",
       "      <td>0</td>\n",
       "      <td>0</td>\n",
       "      <td>0</td>\n",
       "      <td>44648.710</td>\n",
       "      <td>25499881.0</td>\n",
       "      <td>2020-03-24</td>\n",
       "    </tr>\n",
       "    <tr>\n",
       "      <th>...</th>\n",
       "      <td>...</td>\n",
       "      <td>...</td>\n",
       "      <td>...</td>\n",
       "      <td>...</td>\n",
       "      <td>...</td>\n",
       "      <td>...</td>\n",
       "      <td>...</td>\n",
       "      <td>...</td>\n",
       "      <td>...</td>\n",
       "      <td>...</td>\n",
       "    </tr>\n",
       "    <tr>\n",
       "      <th>980</th>\n",
       "      <td>1570</td>\n",
       "      <td>United States</td>\n",
       "      <td>2020-07-10</td>\n",
       "      <td>3118008</td>\n",
       "      <td>63004</td>\n",
       "      <td>133291</td>\n",
       "      <td>982</td>\n",
       "      <td>54225.446</td>\n",
       "      <td>331002647.0</td>\n",
       "      <td>2020-03-13</td>\n",
       "    </tr>\n",
       "    <tr>\n",
       "      <th>981</th>\n",
       "      <td>1571</td>\n",
       "      <td>United States</td>\n",
       "      <td>2020-07-11</td>\n",
       "      <td>3184633</td>\n",
       "      <td>66625</td>\n",
       "      <td>134097</td>\n",
       "      <td>806</td>\n",
       "      <td>54225.446</td>\n",
       "      <td>331002647.0</td>\n",
       "      <td>2020-03-13</td>\n",
       "    </tr>\n",
       "    <tr>\n",
       "      <th>982</th>\n",
       "      <td>1572</td>\n",
       "      <td>United States</td>\n",
       "      <td>2020-07-12</td>\n",
       "      <td>3247684</td>\n",
       "      <td>63051</td>\n",
       "      <td>134814</td>\n",
       "      <td>717</td>\n",
       "      <td>54225.446</td>\n",
       "      <td>331002647.0</td>\n",
       "      <td>2020-03-13</td>\n",
       "    </tr>\n",
       "    <tr>\n",
       "      <th>983</th>\n",
       "      <td>1573</td>\n",
       "      <td>United States</td>\n",
       "      <td>2020-07-13</td>\n",
       "      <td>3304942</td>\n",
       "      <td>57258</td>\n",
       "      <td>135205</td>\n",
       "      <td>391</td>\n",
       "      <td>54225.446</td>\n",
       "      <td>331002647.0</td>\n",
       "      <td>2020-03-13</td>\n",
       "    </tr>\n",
       "    <tr>\n",
       "      <th>984</th>\n",
       "      <td>1574</td>\n",
       "      <td>United States</td>\n",
       "      <td>2020-07-14</td>\n",
       "      <td>3363056</td>\n",
       "      <td>58114</td>\n",
       "      <td>135605</td>\n",
       "      <td>400</td>\n",
       "      <td>54225.446</td>\n",
       "      <td>331002647.0</td>\n",
       "      <td>2020-03-13</td>\n",
       "    </tr>\n",
       "  </tbody>\n",
       "</table>\n",
       "<p>985 rows × 10 columns</p>\n",
       "</div>"
      ],
      "text/plain": [
       "     index       location        date  total_cases  new_cases  total_deaths  \\\n",
       "0        0      Australia  2019-12-31            0          0             0   \n",
       "1        1      Australia  2020-01-01            0          0             0   \n",
       "2        2      Australia  2020-01-02            0          0             0   \n",
       "3        3      Australia  2020-01-03            0          0             0   \n",
       "4        4      Australia  2020-01-04            0          0             0   \n",
       "..     ...            ...         ...          ...        ...           ...   \n",
       "980   1570  United States  2020-07-10      3118008      63004        133291   \n",
       "981   1571  United States  2020-07-11      3184633      66625        134097   \n",
       "982   1572  United States  2020-07-12      3247684      63051        134814   \n",
       "983   1573  United States  2020-07-13      3304942      57258        135205   \n",
       "984   1574  United States  2020-07-14      3363056      58114        135605   \n",
       "\n",
       "     new_deaths  gdp_per_capita   population lockdown_date  \n",
       "0             0       44648.710   25499881.0    2020-03-24  \n",
       "1             0       44648.710   25499881.0    2020-03-24  \n",
       "2             0       44648.710   25499881.0    2020-03-24  \n",
       "3             0       44648.710   25499881.0    2020-03-24  \n",
       "4             0       44648.710   25499881.0    2020-03-24  \n",
       "..          ...             ...          ...           ...  \n",
       "980         982       54225.446  331002647.0    2020-03-13  \n",
       "981         806       54225.446  331002647.0    2020-03-13  \n",
       "982         717       54225.446  331002647.0    2020-03-13  \n",
       "983         391       54225.446  331002647.0    2020-03-13  \n",
       "984         400       54225.446  331002647.0    2020-03-13  \n",
       "\n",
       "[985 rows x 10 columns]"
      ]
     },
     "execution_count": 43,
     "metadata": {},
     "output_type": "execute_result"
    }
   ],
   "source": [
    "AboveGDP = Data[Data['gdp_per_capita']>aver_GDP]\n",
    "AboveGDP.reset_index(inplace=True)\n",
    "AboveGDP"
   ]
  },
  {
   "cell_type": "code",
   "execution_count": 44,
   "metadata": {},
   "outputs": [
    {
     "data": {
      "text/html": [
       "<div>\n",
       "<style scoped>\n",
       "    .dataframe tbody tr th:only-of-type {\n",
       "        vertical-align: middle;\n",
       "    }\n",
       "\n",
       "    .dataframe tbody tr th {\n",
       "        vertical-align: top;\n",
       "    }\n",
       "\n",
       "    .dataframe thead th {\n",
       "        text-align: right;\n",
       "    }\n",
       "</style>\n",
       "<table border=\"1\" class=\"dataframe\">\n",
       "  <thead>\n",
       "    <tr style=\"text-align: right;\">\n",
       "      <th></th>\n",
       "      <th>index</th>\n",
       "      <th>location</th>\n",
       "      <th>date</th>\n",
       "      <th>total_cases</th>\n",
       "      <th>new_cases</th>\n",
       "      <th>total_deaths</th>\n",
       "      <th>new_deaths</th>\n",
       "      <th>gdp_per_capita</th>\n",
       "      <th>population</th>\n",
       "      <th>lockdown_date</th>\n",
       "    </tr>\n",
       "  </thead>\n",
       "  <tbody>\n",
       "    <tr>\n",
       "      <th>0</th>\n",
       "      <td>197</td>\n",
       "      <td>China</td>\n",
       "      <td>2019-12-31</td>\n",
       "      <td>27</td>\n",
       "      <td>27</td>\n",
       "      <td>0</td>\n",
       "      <td>0</td>\n",
       "      <td>15308.712</td>\n",
       "      <td>1.439324e+09</td>\n",
       "      <td>2020-01-23</td>\n",
       "    </tr>\n",
       "    <tr>\n",
       "      <th>1</th>\n",
       "      <td>198</td>\n",
       "      <td>China</td>\n",
       "      <td>2020-01-01</td>\n",
       "      <td>27</td>\n",
       "      <td>0</td>\n",
       "      <td>0</td>\n",
       "      <td>0</td>\n",
       "      <td>15308.712</td>\n",
       "      <td>1.439324e+09</td>\n",
       "      <td>2020-01-23</td>\n",
       "    </tr>\n",
       "    <tr>\n",
       "      <th>2</th>\n",
       "      <td>199</td>\n",
       "      <td>China</td>\n",
       "      <td>2020-01-02</td>\n",
       "      <td>27</td>\n",
       "      <td>0</td>\n",
       "      <td>0</td>\n",
       "      <td>0</td>\n",
       "      <td>15308.712</td>\n",
       "      <td>1.439324e+09</td>\n",
       "      <td>2020-01-23</td>\n",
       "    </tr>\n",
       "    <tr>\n",
       "      <th>3</th>\n",
       "      <td>200</td>\n",
       "      <td>China</td>\n",
       "      <td>2020-01-03</td>\n",
       "      <td>44</td>\n",
       "      <td>17</td>\n",
       "      <td>0</td>\n",
       "      <td>0</td>\n",
       "      <td>15308.712</td>\n",
       "      <td>1.439324e+09</td>\n",
       "      <td>2020-01-23</td>\n",
       "    </tr>\n",
       "    <tr>\n",
       "      <th>4</th>\n",
       "      <td>201</td>\n",
       "      <td>China</td>\n",
       "      <td>2020-01-04</td>\n",
       "      <td>44</td>\n",
       "      <td>0</td>\n",
       "      <td>0</td>\n",
       "      <td>0</td>\n",
       "      <td>15308.712</td>\n",
       "      <td>1.439324e+09</td>\n",
       "      <td>2020-01-23</td>\n",
       "    </tr>\n",
       "    <tr>\n",
       "      <th>...</th>\n",
       "      <td>...</td>\n",
       "      <td>...</td>\n",
       "      <td>...</td>\n",
       "      <td>...</td>\n",
       "      <td>...</td>\n",
       "      <td>...</td>\n",
       "      <td>...</td>\n",
       "      <td>...</td>\n",
       "      <td>...</td>\n",
       "      <td>...</td>\n",
       "    </tr>\n",
       "    <tr>\n",
       "      <th>585</th>\n",
       "      <td>1176</td>\n",
       "      <td>Spain</td>\n",
       "      <td>2020-07-09</td>\n",
       "      <td>253056</td>\n",
       "      <td>543</td>\n",
       "      <td>28401</td>\n",
       "      <td>5</td>\n",
       "      <td>34272.360</td>\n",
       "      <td>4.675478e+07</td>\n",
       "      <td>2020-03-14</td>\n",
       "    </tr>\n",
       "    <tr>\n",
       "      <th>586</th>\n",
       "      <td>1177</td>\n",
       "      <td>Spain</td>\n",
       "      <td>2020-07-10</td>\n",
       "      <td>253908</td>\n",
       "      <td>852</td>\n",
       "      <td>28403</td>\n",
       "      <td>2</td>\n",
       "      <td>34272.360</td>\n",
       "      <td>4.675478e+07</td>\n",
       "      <td>2020-03-14</td>\n",
       "    </tr>\n",
       "    <tr>\n",
       "      <th>587</th>\n",
       "      <td>1178</td>\n",
       "      <td>Spain</td>\n",
       "      <td>2020-07-11</td>\n",
       "      <td>253908</td>\n",
       "      <td>0</td>\n",
       "      <td>28403</td>\n",
       "      <td>0</td>\n",
       "      <td>34272.360</td>\n",
       "      <td>4.675478e+07</td>\n",
       "      <td>2020-03-14</td>\n",
       "    </tr>\n",
       "    <tr>\n",
       "      <th>588</th>\n",
       "      <td>1179</td>\n",
       "      <td>Spain</td>\n",
       "      <td>2020-07-12</td>\n",
       "      <td>253908</td>\n",
       "      <td>0</td>\n",
       "      <td>28403</td>\n",
       "      <td>0</td>\n",
       "      <td>34272.360</td>\n",
       "      <td>4.675478e+07</td>\n",
       "      <td>2020-03-14</td>\n",
       "    </tr>\n",
       "    <tr>\n",
       "      <th>589</th>\n",
       "      <td>1180</td>\n",
       "      <td>Spain</td>\n",
       "      <td>2020-07-13</td>\n",
       "      <td>255953</td>\n",
       "      <td>2045</td>\n",
       "      <td>28406</td>\n",
       "      <td>3</td>\n",
       "      <td>34272.360</td>\n",
       "      <td>4.675478e+07</td>\n",
       "      <td>2020-03-14</td>\n",
       "    </tr>\n",
       "  </tbody>\n",
       "</table>\n",
       "<p>590 rows × 10 columns</p>\n",
       "</div>"
      ],
      "text/plain": [
       "     index location        date  total_cases  new_cases  total_deaths  \\\n",
       "0      197    China  2019-12-31           27         27             0   \n",
       "1      198    China  2020-01-01           27          0             0   \n",
       "2      199    China  2020-01-02           27          0             0   \n",
       "3      200    China  2020-01-03           44         17             0   \n",
       "4      201    China  2020-01-04           44          0             0   \n",
       "..     ...      ...         ...          ...        ...           ...   \n",
       "585   1176    Spain  2020-07-09       253056        543         28401   \n",
       "586   1177    Spain  2020-07-10       253908        852         28403   \n",
       "587   1178    Spain  2020-07-11       253908          0         28403   \n",
       "588   1179    Spain  2020-07-12       253908          0         28403   \n",
       "589   1180    Spain  2020-07-13       255953       2045         28406   \n",
       "\n",
       "     new_deaths  gdp_per_capita    population lockdown_date  \n",
       "0             0       15308.712  1.439324e+09    2020-01-23  \n",
       "1             0       15308.712  1.439324e+09    2020-01-23  \n",
       "2             0       15308.712  1.439324e+09    2020-01-23  \n",
       "3             0       15308.712  1.439324e+09    2020-01-23  \n",
       "4             0       15308.712  1.439324e+09    2020-01-23  \n",
       "..          ...             ...           ...           ...  \n",
       "585           5       34272.360  4.675478e+07    2020-03-14  \n",
       "586           2       34272.360  4.675478e+07    2020-03-14  \n",
       "587           0       34272.360  4.675478e+07    2020-03-14  \n",
       "588           0       34272.360  4.675478e+07    2020-03-14  \n",
       "589           3       34272.360  4.675478e+07    2020-03-14  \n",
       "\n",
       "[590 rows x 10 columns]"
      ]
     },
     "execution_count": 44,
     "metadata": {},
     "output_type": "execute_result"
    }
   ],
   "source": [
    "BelowGDP = Data[Data['gdp_per_capita']<=aver_GDP]\n",
    "BelowGDP.reset_index(inplace=True)\n",
    "BelowGDP"
   ]
  },
  {
   "cell_type": "code",
   "execution_count": 45,
   "metadata": {},
   "outputs": [],
   "source": [
    "AboveGDP = pd.DataFrame(AboveGDP)"
   ]
  },
  {
   "cell_type": "code",
   "execution_count": 46,
   "metadata": {},
   "outputs": [
    {
     "data": {
      "text/html": [
       "<div>\n",
       "<style scoped>\n",
       "    .dataframe tbody tr th:only-of-type {\n",
       "        vertical-align: middle;\n",
       "    }\n",
       "\n",
       "    .dataframe tbody tr th {\n",
       "        vertical-align: top;\n",
       "    }\n",
       "\n",
       "    .dataframe thead th {\n",
       "        text-align: right;\n",
       "    }\n",
       "</style>\n",
       "<table border=\"1\" class=\"dataframe\">\n",
       "  <thead>\n",
       "    <tr style=\"text-align: right;\">\n",
       "      <th></th>\n",
       "      <th>index</th>\n",
       "      <th>location</th>\n",
       "      <th>date</th>\n",
       "      <th>total_cases</th>\n",
       "      <th>new_cases</th>\n",
       "      <th>total_deaths</th>\n",
       "      <th>new_deaths</th>\n",
       "      <th>gdp_per_capita</th>\n",
       "      <th>population</th>\n",
       "      <th>lockdown_date</th>\n",
       "      <th>new_cases_rate</th>\n",
       "      <th>new_deaths_rate</th>\n",
       "    </tr>\n",
       "  </thead>\n",
       "  <tbody>\n",
       "    <tr>\n",
       "      <th>0</th>\n",
       "      <td>0</td>\n",
       "      <td>Australia</td>\n",
       "      <td>2019-12-31</td>\n",
       "      <td>0</td>\n",
       "      <td>0</td>\n",
       "      <td>0</td>\n",
       "      <td>0</td>\n",
       "      <td>44648.710</td>\n",
       "      <td>25499881.0</td>\n",
       "      <td>2020-03-24</td>\n",
       "      <td>0.000000</td>\n",
       "      <td>0.000000</td>\n",
       "    </tr>\n",
       "    <tr>\n",
       "      <th>1</th>\n",
       "      <td>1</td>\n",
       "      <td>Australia</td>\n",
       "      <td>2020-01-01</td>\n",
       "      <td>0</td>\n",
       "      <td>0</td>\n",
       "      <td>0</td>\n",
       "      <td>0</td>\n",
       "      <td>44648.710</td>\n",
       "      <td>25499881.0</td>\n",
       "      <td>2020-03-24</td>\n",
       "      <td>0.000000</td>\n",
       "      <td>0.000000</td>\n",
       "    </tr>\n",
       "    <tr>\n",
       "      <th>2</th>\n",
       "      <td>2</td>\n",
       "      <td>Australia</td>\n",
       "      <td>2020-01-02</td>\n",
       "      <td>0</td>\n",
       "      <td>0</td>\n",
       "      <td>0</td>\n",
       "      <td>0</td>\n",
       "      <td>44648.710</td>\n",
       "      <td>25499881.0</td>\n",
       "      <td>2020-03-24</td>\n",
       "      <td>0.000000</td>\n",
       "      <td>0.000000</td>\n",
       "    </tr>\n",
       "    <tr>\n",
       "      <th>3</th>\n",
       "      <td>3</td>\n",
       "      <td>Australia</td>\n",
       "      <td>2020-01-03</td>\n",
       "      <td>0</td>\n",
       "      <td>0</td>\n",
       "      <td>0</td>\n",
       "      <td>0</td>\n",
       "      <td>44648.710</td>\n",
       "      <td>25499881.0</td>\n",
       "      <td>2020-03-24</td>\n",
       "      <td>0.000000</td>\n",
       "      <td>0.000000</td>\n",
       "    </tr>\n",
       "    <tr>\n",
       "      <th>4</th>\n",
       "      <td>4</td>\n",
       "      <td>Australia</td>\n",
       "      <td>2020-01-04</td>\n",
       "      <td>0</td>\n",
       "      <td>0</td>\n",
       "      <td>0</td>\n",
       "      <td>0</td>\n",
       "      <td>44648.710</td>\n",
       "      <td>25499881.0</td>\n",
       "      <td>2020-03-24</td>\n",
       "      <td>0.000000</td>\n",
       "      <td>0.000000</td>\n",
       "    </tr>\n",
       "    <tr>\n",
       "      <th>...</th>\n",
       "      <td>...</td>\n",
       "      <td>...</td>\n",
       "      <td>...</td>\n",
       "      <td>...</td>\n",
       "      <td>...</td>\n",
       "      <td>...</td>\n",
       "      <td>...</td>\n",
       "      <td>...</td>\n",
       "      <td>...</td>\n",
       "      <td>...</td>\n",
       "      <td>...</td>\n",
       "      <td>...</td>\n",
       "    </tr>\n",
       "    <tr>\n",
       "      <th>980</th>\n",
       "      <td>1570</td>\n",
       "      <td>United States</td>\n",
       "      <td>2020-07-10</td>\n",
       "      <td>3118008</td>\n",
       "      <td>63004</td>\n",
       "      <td>133291</td>\n",
       "      <td>982</td>\n",
       "      <td>54225.446</td>\n",
       "      <td>331002647.0</td>\n",
       "      <td>2020-03-13</td>\n",
       "      <td>0.000190</td>\n",
       "      <td>0.000003</td>\n",
       "    </tr>\n",
       "    <tr>\n",
       "      <th>981</th>\n",
       "      <td>1571</td>\n",
       "      <td>United States</td>\n",
       "      <td>2020-07-11</td>\n",
       "      <td>3184633</td>\n",
       "      <td>66625</td>\n",
       "      <td>134097</td>\n",
       "      <td>806</td>\n",
       "      <td>54225.446</td>\n",
       "      <td>331002647.0</td>\n",
       "      <td>2020-03-13</td>\n",
       "      <td>0.000201</td>\n",
       "      <td>0.000002</td>\n",
       "    </tr>\n",
       "    <tr>\n",
       "      <th>982</th>\n",
       "      <td>1572</td>\n",
       "      <td>United States</td>\n",
       "      <td>2020-07-12</td>\n",
       "      <td>3247684</td>\n",
       "      <td>63051</td>\n",
       "      <td>134814</td>\n",
       "      <td>717</td>\n",
       "      <td>54225.446</td>\n",
       "      <td>331002647.0</td>\n",
       "      <td>2020-03-13</td>\n",
       "      <td>0.000190</td>\n",
       "      <td>0.000002</td>\n",
       "    </tr>\n",
       "    <tr>\n",
       "      <th>983</th>\n",
       "      <td>1573</td>\n",
       "      <td>United States</td>\n",
       "      <td>2020-07-13</td>\n",
       "      <td>3304942</td>\n",
       "      <td>57258</td>\n",
       "      <td>135205</td>\n",
       "      <td>391</td>\n",
       "      <td>54225.446</td>\n",
       "      <td>331002647.0</td>\n",
       "      <td>2020-03-13</td>\n",
       "      <td>0.000173</td>\n",
       "      <td>0.000001</td>\n",
       "    </tr>\n",
       "    <tr>\n",
       "      <th>984</th>\n",
       "      <td>1574</td>\n",
       "      <td>United States</td>\n",
       "      <td>2020-07-14</td>\n",
       "      <td>3363056</td>\n",
       "      <td>58114</td>\n",
       "      <td>135605</td>\n",
       "      <td>400</td>\n",
       "      <td>54225.446</td>\n",
       "      <td>331002647.0</td>\n",
       "      <td>2020-03-13</td>\n",
       "      <td>0.000176</td>\n",
       "      <td>0.000001</td>\n",
       "    </tr>\n",
       "  </tbody>\n",
       "</table>\n",
       "<p>985 rows × 12 columns</p>\n",
       "</div>"
      ],
      "text/plain": [
       "     index       location        date  total_cases  new_cases  total_deaths  \\\n",
       "0        0      Australia  2019-12-31            0          0             0   \n",
       "1        1      Australia  2020-01-01            0          0             0   \n",
       "2        2      Australia  2020-01-02            0          0             0   \n",
       "3        3      Australia  2020-01-03            0          0             0   \n",
       "4        4      Australia  2020-01-04            0          0             0   \n",
       "..     ...            ...         ...          ...        ...           ...   \n",
       "980   1570  United States  2020-07-10      3118008      63004        133291   \n",
       "981   1571  United States  2020-07-11      3184633      66625        134097   \n",
       "982   1572  United States  2020-07-12      3247684      63051        134814   \n",
       "983   1573  United States  2020-07-13      3304942      57258        135205   \n",
       "984   1574  United States  2020-07-14      3363056      58114        135605   \n",
       "\n",
       "     new_deaths  gdp_per_capita   population lockdown_date  new_cases_rate  \\\n",
       "0             0       44648.710   25499881.0    2020-03-24        0.000000   \n",
       "1             0       44648.710   25499881.0    2020-03-24        0.000000   \n",
       "2             0       44648.710   25499881.0    2020-03-24        0.000000   \n",
       "3             0       44648.710   25499881.0    2020-03-24        0.000000   \n",
       "4             0       44648.710   25499881.0    2020-03-24        0.000000   \n",
       "..          ...             ...          ...           ...             ...   \n",
       "980         982       54225.446  331002647.0    2020-03-13        0.000190   \n",
       "981         806       54225.446  331002647.0    2020-03-13        0.000201   \n",
       "982         717       54225.446  331002647.0    2020-03-13        0.000190   \n",
       "983         391       54225.446  331002647.0    2020-03-13        0.000173   \n",
       "984         400       54225.446  331002647.0    2020-03-13        0.000176   \n",
       "\n",
       "     new_deaths_rate  \n",
       "0           0.000000  \n",
       "1           0.000000  \n",
       "2           0.000000  \n",
       "3           0.000000  \n",
       "4           0.000000  \n",
       "..               ...  \n",
       "980         0.000003  \n",
       "981         0.000002  \n",
       "982         0.000002  \n",
       "983         0.000001  \n",
       "984         0.000001  \n",
       "\n",
       "[985 rows x 12 columns]"
      ]
     },
     "execution_count": 46,
     "metadata": {},
     "output_type": "execute_result"
    }
   ],
   "source": [
    "AboveGDP['new_cases'].astype('float')\n",
    "AboveGDP['new_cases_rate']=AboveGDP['new_cases']/AboveGDP['population']\n",
    "AboveGDP['new_deaths_rate']=AboveGDP['new_deaths']/AboveGDP['population']\n",
    "AboveGDP"
   ]
  },
  {
   "cell_type": "code",
   "execution_count": 47,
   "metadata": {},
   "outputs": [
    {
     "data": {
      "text/html": [
       "<div>\n",
       "<style scoped>\n",
       "    .dataframe tbody tr th:only-of-type {\n",
       "        vertical-align: middle;\n",
       "    }\n",
       "\n",
       "    .dataframe tbody tr th {\n",
       "        vertical-align: top;\n",
       "    }\n",
       "\n",
       "    .dataframe thead th {\n",
       "        text-align: right;\n",
       "    }\n",
       "</style>\n",
       "<table border=\"1\" class=\"dataframe\">\n",
       "  <thead>\n",
       "    <tr style=\"text-align: right;\">\n",
       "      <th></th>\n",
       "      <th>index</th>\n",
       "      <th>location</th>\n",
       "      <th>date</th>\n",
       "      <th>total_cases</th>\n",
       "      <th>new_cases</th>\n",
       "      <th>total_deaths</th>\n",
       "      <th>new_deaths</th>\n",
       "      <th>gdp_per_capita</th>\n",
       "      <th>population</th>\n",
       "      <th>lockdown_date</th>\n",
       "      <th>new_cases_rate</th>\n",
       "      <th>new_deaths_rate</th>\n",
       "    </tr>\n",
       "  </thead>\n",
       "  <tbody>\n",
       "    <tr>\n",
       "      <th>0</th>\n",
       "      <td>197</td>\n",
       "      <td>China</td>\n",
       "      <td>2019-12-31</td>\n",
       "      <td>27</td>\n",
       "      <td>27</td>\n",
       "      <td>0</td>\n",
       "      <td>0</td>\n",
       "      <td>15308.712</td>\n",
       "      <td>1.439324e+09</td>\n",
       "      <td>2020-01-23</td>\n",
       "      <td>1.875881e-08</td>\n",
       "      <td>0.000000e+00</td>\n",
       "    </tr>\n",
       "    <tr>\n",
       "      <th>1</th>\n",
       "      <td>198</td>\n",
       "      <td>China</td>\n",
       "      <td>2020-01-01</td>\n",
       "      <td>27</td>\n",
       "      <td>0</td>\n",
       "      <td>0</td>\n",
       "      <td>0</td>\n",
       "      <td>15308.712</td>\n",
       "      <td>1.439324e+09</td>\n",
       "      <td>2020-01-23</td>\n",
       "      <td>0.000000e+00</td>\n",
       "      <td>0.000000e+00</td>\n",
       "    </tr>\n",
       "    <tr>\n",
       "      <th>2</th>\n",
       "      <td>199</td>\n",
       "      <td>China</td>\n",
       "      <td>2020-01-02</td>\n",
       "      <td>27</td>\n",
       "      <td>0</td>\n",
       "      <td>0</td>\n",
       "      <td>0</td>\n",
       "      <td>15308.712</td>\n",
       "      <td>1.439324e+09</td>\n",
       "      <td>2020-01-23</td>\n",
       "      <td>0.000000e+00</td>\n",
       "      <td>0.000000e+00</td>\n",
       "    </tr>\n",
       "    <tr>\n",
       "      <th>3</th>\n",
       "      <td>200</td>\n",
       "      <td>China</td>\n",
       "      <td>2020-01-03</td>\n",
       "      <td>44</td>\n",
       "      <td>17</td>\n",
       "      <td>0</td>\n",
       "      <td>0</td>\n",
       "      <td>15308.712</td>\n",
       "      <td>1.439324e+09</td>\n",
       "      <td>2020-01-23</td>\n",
       "      <td>1.181110e-08</td>\n",
       "      <td>0.000000e+00</td>\n",
       "    </tr>\n",
       "    <tr>\n",
       "      <th>4</th>\n",
       "      <td>201</td>\n",
       "      <td>China</td>\n",
       "      <td>2020-01-04</td>\n",
       "      <td>44</td>\n",
       "      <td>0</td>\n",
       "      <td>0</td>\n",
       "      <td>0</td>\n",
       "      <td>15308.712</td>\n",
       "      <td>1.439324e+09</td>\n",
       "      <td>2020-01-23</td>\n",
       "      <td>0.000000e+00</td>\n",
       "      <td>0.000000e+00</td>\n",
       "    </tr>\n",
       "    <tr>\n",
       "      <th>...</th>\n",
       "      <td>...</td>\n",
       "      <td>...</td>\n",
       "      <td>...</td>\n",
       "      <td>...</td>\n",
       "      <td>...</td>\n",
       "      <td>...</td>\n",
       "      <td>...</td>\n",
       "      <td>...</td>\n",
       "      <td>...</td>\n",
       "      <td>...</td>\n",
       "      <td>...</td>\n",
       "      <td>...</td>\n",
       "    </tr>\n",
       "    <tr>\n",
       "      <th>585</th>\n",
       "      <td>1176</td>\n",
       "      <td>Spain</td>\n",
       "      <td>2020-07-09</td>\n",
       "      <td>253056</td>\n",
       "      <td>543</td>\n",
       "      <td>28401</td>\n",
       "      <td>5</td>\n",
       "      <td>34272.360</td>\n",
       "      <td>4.675478e+07</td>\n",
       "      <td>2020-03-14</td>\n",
       "      <td>1.161379e-05</td>\n",
       "      <td>1.069409e-07</td>\n",
       "    </tr>\n",
       "    <tr>\n",
       "      <th>586</th>\n",
       "      <td>1177</td>\n",
       "      <td>Spain</td>\n",
       "      <td>2020-07-10</td>\n",
       "      <td>253908</td>\n",
       "      <td>852</td>\n",
       "      <td>28403</td>\n",
       "      <td>2</td>\n",
       "      <td>34272.360</td>\n",
       "      <td>4.675478e+07</td>\n",
       "      <td>2020-03-14</td>\n",
       "      <td>1.822273e-05</td>\n",
       "      <td>4.277637e-08</td>\n",
       "    </tr>\n",
       "    <tr>\n",
       "      <th>587</th>\n",
       "      <td>1178</td>\n",
       "      <td>Spain</td>\n",
       "      <td>2020-07-11</td>\n",
       "      <td>253908</td>\n",
       "      <td>0</td>\n",
       "      <td>28403</td>\n",
       "      <td>0</td>\n",
       "      <td>34272.360</td>\n",
       "      <td>4.675478e+07</td>\n",
       "      <td>2020-03-14</td>\n",
       "      <td>0.000000e+00</td>\n",
       "      <td>0.000000e+00</td>\n",
       "    </tr>\n",
       "    <tr>\n",
       "      <th>588</th>\n",
       "      <td>1179</td>\n",
       "      <td>Spain</td>\n",
       "      <td>2020-07-12</td>\n",
       "      <td>253908</td>\n",
       "      <td>0</td>\n",
       "      <td>28403</td>\n",
       "      <td>0</td>\n",
       "      <td>34272.360</td>\n",
       "      <td>4.675478e+07</td>\n",
       "      <td>2020-03-14</td>\n",
       "      <td>0.000000e+00</td>\n",
       "      <td>0.000000e+00</td>\n",
       "    </tr>\n",
       "    <tr>\n",
       "      <th>589</th>\n",
       "      <td>1180</td>\n",
       "      <td>Spain</td>\n",
       "      <td>2020-07-13</td>\n",
       "      <td>255953</td>\n",
       "      <td>2045</td>\n",
       "      <td>28406</td>\n",
       "      <td>3</td>\n",
       "      <td>34272.360</td>\n",
       "      <td>4.675478e+07</td>\n",
       "      <td>2020-03-14</td>\n",
       "      <td>4.373884e-05</td>\n",
       "      <td>6.416456e-08</td>\n",
       "    </tr>\n",
       "  </tbody>\n",
       "</table>\n",
       "<p>590 rows × 12 columns</p>\n",
       "</div>"
      ],
      "text/plain": [
       "     index location        date  total_cases  new_cases  total_deaths  \\\n",
       "0      197    China  2019-12-31           27         27             0   \n",
       "1      198    China  2020-01-01           27          0             0   \n",
       "2      199    China  2020-01-02           27          0             0   \n",
       "3      200    China  2020-01-03           44         17             0   \n",
       "4      201    China  2020-01-04           44          0             0   \n",
       "..     ...      ...         ...          ...        ...           ...   \n",
       "585   1176    Spain  2020-07-09       253056        543         28401   \n",
       "586   1177    Spain  2020-07-10       253908        852         28403   \n",
       "587   1178    Spain  2020-07-11       253908          0         28403   \n",
       "588   1179    Spain  2020-07-12       253908          0         28403   \n",
       "589   1180    Spain  2020-07-13       255953       2045         28406   \n",
       "\n",
       "     new_deaths  gdp_per_capita    population lockdown_date  new_cases_rate  \\\n",
       "0             0       15308.712  1.439324e+09    2020-01-23    1.875881e-08   \n",
       "1             0       15308.712  1.439324e+09    2020-01-23    0.000000e+00   \n",
       "2             0       15308.712  1.439324e+09    2020-01-23    0.000000e+00   \n",
       "3             0       15308.712  1.439324e+09    2020-01-23    1.181110e-08   \n",
       "4             0       15308.712  1.439324e+09    2020-01-23    0.000000e+00   \n",
       "..          ...             ...           ...           ...             ...   \n",
       "585           5       34272.360  4.675478e+07    2020-03-14    1.161379e-05   \n",
       "586           2       34272.360  4.675478e+07    2020-03-14    1.822273e-05   \n",
       "587           0       34272.360  4.675478e+07    2020-03-14    0.000000e+00   \n",
       "588           0       34272.360  4.675478e+07    2020-03-14    0.000000e+00   \n",
       "589           3       34272.360  4.675478e+07    2020-03-14    4.373884e-05   \n",
       "\n",
       "     new_deaths_rate  \n",
       "0       0.000000e+00  \n",
       "1       0.000000e+00  \n",
       "2       0.000000e+00  \n",
       "3       0.000000e+00  \n",
       "4       0.000000e+00  \n",
       "..               ...  \n",
       "585     1.069409e-07  \n",
       "586     4.277637e-08  \n",
       "587     0.000000e+00  \n",
       "588     0.000000e+00  \n",
       "589     6.416456e-08  \n",
       "\n",
       "[590 rows x 12 columns]"
      ]
     },
     "execution_count": 47,
     "metadata": {},
     "output_type": "execute_result"
    }
   ],
   "source": [
    "BelowGDP = pd.DataFrame(BelowGDP)\n",
    "BelowGDP['new_cases'].astype('float')\n",
    "BelowGDP['new_cases_rate']=BelowGDP['new_cases']/BelowGDP['population']\n",
    "BelowGDP['new_deaths_rate']=BelowGDP['new_deaths']/BelowGDP['population']\n",
    "BelowGDP"
   ]
  },
  {
   "cell_type": "code",
   "execution_count": 48,
   "metadata": {},
   "outputs": [
    {
     "data": {
      "text/html": [
       "<div>\n",
       "<style scoped>\n",
       "    .dataframe tbody tr th:only-of-type {\n",
       "        vertical-align: middle;\n",
       "    }\n",
       "\n",
       "    .dataframe tbody tr th {\n",
       "        vertical-align: top;\n",
       "    }\n",
       "\n",
       "    .dataframe thead th {\n",
       "        text-align: right;\n",
       "    }\n",
       "</style>\n",
       "<table border=\"1\" class=\"dataframe\">\n",
       "  <thead>\n",
       "    <tr style=\"text-align: right;\">\n",
       "      <th></th>\n",
       "      <th>date</th>\n",
       "      <th>location</th>\n",
       "      <th>new_cases_rate</th>\n",
       "      <th>new_deaths_rate</th>\n",
       "    </tr>\n",
       "  </thead>\n",
       "  <tbody>\n",
       "    <tr>\n",
       "      <th>0</th>\n",
       "      <td>2019-12-31</td>\n",
       "      <td>5</td>\n",
       "      <td>0.000000</td>\n",
       "      <td>0.000000e+00</td>\n",
       "    </tr>\n",
       "    <tr>\n",
       "      <th>1</th>\n",
       "      <td>2020-01-01</td>\n",
       "      <td>5</td>\n",
       "      <td>0.000000</td>\n",
       "      <td>0.000000e+00</td>\n",
       "    </tr>\n",
       "    <tr>\n",
       "      <th>2</th>\n",
       "      <td>2020-01-02</td>\n",
       "      <td>5</td>\n",
       "      <td>0.000000</td>\n",
       "      <td>0.000000e+00</td>\n",
       "    </tr>\n",
       "    <tr>\n",
       "      <th>3</th>\n",
       "      <td>2020-01-03</td>\n",
       "      <td>5</td>\n",
       "      <td>0.000000</td>\n",
       "      <td>0.000000e+00</td>\n",
       "    </tr>\n",
       "    <tr>\n",
       "      <th>4</th>\n",
       "      <td>2020-01-04</td>\n",
       "      <td>5</td>\n",
       "      <td>0.000000</td>\n",
       "      <td>0.000000e+00</td>\n",
       "    </tr>\n",
       "    <tr>\n",
       "      <th>...</th>\n",
       "      <td>...</td>\n",
       "      <td>...</td>\n",
       "      <td>...</td>\n",
       "      <td>...</td>\n",
       "    </tr>\n",
       "    <tr>\n",
       "      <th>192</th>\n",
       "      <td>2020-07-10</td>\n",
       "      <td>5</td>\n",
       "      <td>0.000044</td>\n",
       "      <td>9.263594e-07</td>\n",
       "    </tr>\n",
       "    <tr>\n",
       "      <th>193</th>\n",
       "      <td>2020-07-11</td>\n",
       "      <td>5</td>\n",
       "      <td>0.000047</td>\n",
       "      <td>7.447139e-07</td>\n",
       "    </tr>\n",
       "    <tr>\n",
       "      <th>194</th>\n",
       "      <td>2020-07-12</td>\n",
       "      <td>5</td>\n",
       "      <td>0.000043</td>\n",
       "      <td>9.002525e-07</td>\n",
       "    </tr>\n",
       "    <tr>\n",
       "      <th>195</th>\n",
       "      <td>2020-07-13</td>\n",
       "      <td>5</td>\n",
       "      <td>0.000039</td>\n",
       "      <td>3.357343e-07</td>\n",
       "    </tr>\n",
       "    <tr>\n",
       "      <th>196</th>\n",
       "      <td>2020-07-14</td>\n",
       "      <td>5</td>\n",
       "      <td>0.000044</td>\n",
       "      <td>3.937003e-07</td>\n",
       "    </tr>\n",
       "  </tbody>\n",
       "</table>\n",
       "<p>197 rows × 4 columns</p>\n",
       "</div>"
      ],
      "text/plain": [
       "           date  location  new_cases_rate  new_deaths_rate\n",
       "0    2019-12-31         5        0.000000     0.000000e+00\n",
       "1    2020-01-01         5        0.000000     0.000000e+00\n",
       "2    2020-01-02         5        0.000000     0.000000e+00\n",
       "3    2020-01-03         5        0.000000     0.000000e+00\n",
       "4    2020-01-04         5        0.000000     0.000000e+00\n",
       "..          ...       ...             ...              ...\n",
       "192  2020-07-10         5        0.000044     9.263594e-07\n",
       "193  2020-07-11         5        0.000047     7.447139e-07\n",
       "194  2020-07-12         5        0.000043     9.002525e-07\n",
       "195  2020-07-13         5        0.000039     3.357343e-07\n",
       "196  2020-07-14         5        0.000044     3.937003e-07\n",
       "\n",
       "[197 rows x 4 columns]"
      ]
     },
     "execution_count": 48,
     "metadata": {},
     "output_type": "execute_result"
    }
   ],
   "source": [
    "AboveGDP = AboveGDP.groupby('date').agg({'location':'count','new_cases_rate':'mean','new_deaths_rate':'mean'})\n",
    "AboveGDP.reset_index(inplace=True)\n",
    "AboveGDP"
   ]
  },
  {
   "cell_type": "code",
   "execution_count": 49,
   "metadata": {},
   "outputs": [
    {
     "data": {
      "text/html": [
       "<div>\n",
       "<style scoped>\n",
       "    .dataframe tbody tr th:only-of-type {\n",
       "        vertical-align: middle;\n",
       "    }\n",
       "\n",
       "    .dataframe tbody tr th {\n",
       "        vertical-align: top;\n",
       "    }\n",
       "\n",
       "    .dataframe thead th {\n",
       "        text-align: right;\n",
       "    }\n",
       "</style>\n",
       "<table border=\"1\" class=\"dataframe\">\n",
       "  <thead>\n",
       "    <tr style=\"text-align: right;\">\n",
       "      <th></th>\n",
       "      <th>date</th>\n",
       "      <th>location</th>\n",
       "      <th>new_cases_rate</th>\n",
       "      <th>new_deaths_rate</th>\n",
       "    </tr>\n",
       "  </thead>\n",
       "  <tbody>\n",
       "    <tr>\n",
       "      <th>0</th>\n",
       "      <td>2019-12-31</td>\n",
       "      <td>3</td>\n",
       "      <td>6.252936e-09</td>\n",
       "      <td>0.000000e+00</td>\n",
       "    </tr>\n",
       "    <tr>\n",
       "      <th>1</th>\n",
       "      <td>2020-01-01</td>\n",
       "      <td>3</td>\n",
       "      <td>0.000000e+00</td>\n",
       "      <td>0.000000e+00</td>\n",
       "    </tr>\n",
       "    <tr>\n",
       "      <th>2</th>\n",
       "      <td>2020-01-02</td>\n",
       "      <td>3</td>\n",
       "      <td>0.000000e+00</td>\n",
       "      <td>0.000000e+00</td>\n",
       "    </tr>\n",
       "    <tr>\n",
       "      <th>3</th>\n",
       "      <td>2020-01-03</td>\n",
       "      <td>3</td>\n",
       "      <td>3.937034e-09</td>\n",
       "      <td>0.000000e+00</td>\n",
       "    </tr>\n",
       "    <tr>\n",
       "      <th>4</th>\n",
       "      <td>2020-01-04</td>\n",
       "      <td>3</td>\n",
       "      <td>0.000000e+00</td>\n",
       "      <td>0.000000e+00</td>\n",
       "    </tr>\n",
       "    <tr>\n",
       "      <th>...</th>\n",
       "      <td>...</td>\n",
       "      <td>...</td>\n",
       "      <td>...</td>\n",
       "      <td>...</td>\n",
       "    </tr>\n",
       "    <tr>\n",
       "      <th>192</th>\n",
       "      <td>2020-07-10</td>\n",
       "      <td>3</td>\n",
       "      <td>1.433559e-05</td>\n",
       "      <td>8.913165e-07</td>\n",
       "    </tr>\n",
       "    <tr>\n",
       "      <th>193</th>\n",
       "      <td>2020-07-11</td>\n",
       "      <td>3</td>\n",
       "      <td>8.986207e-06</td>\n",
       "      <td>5.635393e-07</td>\n",
       "    </tr>\n",
       "    <tr>\n",
       "      <th>194</th>\n",
       "      <td>2020-07-12</td>\n",
       "      <td>3</td>\n",
       "      <td>9.520808e-06</td>\n",
       "      <td>7.460943e-07</td>\n",
       "    </tr>\n",
       "    <tr>\n",
       "      <th>195</th>\n",
       "      <td>2020-07-13</td>\n",
       "      <td>3</td>\n",
       "      <td>2.326560e-05</td>\n",
       "      <td>7.912940e-07</td>\n",
       "    </tr>\n",
       "    <tr>\n",
       "      <th>196</th>\n",
       "      <td>2020-07-14</td>\n",
       "      <td>2</td>\n",
       "      <td>1.400242e-05</td>\n",
       "      <td>1.208782e-06</td>\n",
       "    </tr>\n",
       "  </tbody>\n",
       "</table>\n",
       "<p>197 rows × 4 columns</p>\n",
       "</div>"
      ],
      "text/plain": [
       "           date  location  new_cases_rate  new_deaths_rate\n",
       "0    2019-12-31         3    6.252936e-09     0.000000e+00\n",
       "1    2020-01-01         3    0.000000e+00     0.000000e+00\n",
       "2    2020-01-02         3    0.000000e+00     0.000000e+00\n",
       "3    2020-01-03         3    3.937034e-09     0.000000e+00\n",
       "4    2020-01-04         3    0.000000e+00     0.000000e+00\n",
       "..          ...       ...             ...              ...\n",
       "192  2020-07-10         3    1.433559e-05     8.913165e-07\n",
       "193  2020-07-11         3    8.986207e-06     5.635393e-07\n",
       "194  2020-07-12         3    9.520808e-06     7.460943e-07\n",
       "195  2020-07-13         3    2.326560e-05     7.912940e-07\n",
       "196  2020-07-14         2    1.400242e-05     1.208782e-06\n",
       "\n",
       "[197 rows x 4 columns]"
      ]
     },
     "execution_count": 49,
     "metadata": {},
     "output_type": "execute_result"
    }
   ],
   "source": [
    "BelowGDP = BelowGDP.groupby('date').agg({'location':'count','new_cases_rate':'mean','new_deaths_rate':'mean'})\n",
    "BelowGDP.reset_index(inplace=True)\n",
    "BelowGDP"
   ]
  },
  {
   "cell_type": "code",
   "execution_count": 50,
   "metadata": {},
   "outputs": [
    {
     "data": {
      "text/plain": [
       "<matplotlib.legend.Legend at 0x1c1b0631d00>"
      ]
     },
     "execution_count": 50,
     "metadata": {},
     "output_type": "execute_result"
    },
    {
     "data": {
      "image/png": "[encoded data removed]",
      "text/plain": [
       "<Figure size 432x288 with 1 Axes>"
      ]
     },
     "metadata": {
      "needs_background": "light"
     },
     "output_type": "display_data"
    }
   ],
   "source": [
    "ln1,=plt.plot(BelowGDP.date,BelowGDP.new_cases_rate,linewidth=1)\n",
    "ln2,=plt.plot(AboveGDP.date,AboveGDP.new_cases_rate,linewidth=1)\n",
    "plt.xticks(AboveGDP.date[::20],rotation=45)\n",
    "plt.xlabel('Time(Days)')\n",
    "plt.ylabel('The new cases rate\"')\n",
    "plt.title('The new cases rate of groups \"AboveGDP\"and \"BelowGDP\"')\n",
    "plt.legend(handles=[ln1,ln2],labels=['BelowGDP','AboveGDP']) \n",
    "# reference: https://pandas.pydata.org/pandas-docs/stable/user_guide/10min.html?highlight=plt%20legend\n",
    "#and https://blog.csdn.net/fei347795790/article/details/94326990"
   ]
  },
  {
   "cell_type": "code",
   "execution_count": 51,
   "metadata": {},
   "outputs": [
    {
     "data": {
      "text/plain": [
       "<matplotlib.legend.Legend at 0x1c1b06bf460>"
      ]
     },
     "execution_count": 51,
     "metadata": {},
     "output_type": "execute_result"
    },
    {
     "data": {
      "image/png": "[encoded data removed]",
      "text/plain": [
       "<Figure size 432x288 with 1 Axes>"
      ]
     },
     "metadata": {
      "needs_background": "light"
     },
     "output_type": "display_data"
    }
   ],
   "source": [
    "ln3,=plt.plot(BelowGDP.date,BelowGDP.new_deaths_rate,linewidth=1)\n",
    "ln4,=plt.plot(AboveGDP.date,AboveGDP.new_deaths_rate,linewidth=1)\n",
    "plt.xticks(AboveGDP.date[::20],rotation=45)\n",
    "plt.xlabel('Time(Days)')\n",
    "plt.ylabel('The new deaths rate')\n",
    "plt.title('The new deaths rate of groups \"AboveGDP\" and \"BelowGDP\"',y=1.1)\n",
    "#reference for plt.title (y=1.1):https://www.cnblogs.com/ddfs/p/11798597.html\n",
    "plt.legend(handles=[ln3,ln4],labels=['BelowGDP','AboveGDP']) "
   ]
  },
  {
   "cell_type": "markdown",
   "metadata": {},
   "source": [
    "#### Explore whether there is a relation between daily new case/death rate and the GDP of a country:\n",
    "    (brief describe)\n",
    "        There are close connection between daily new case/death rate and the GDP of a country.Depending on the time,they all show the similar wave(the explorsive covid-19 new cases and deaths rate happends the period from 2020-3 to 2020-5).However,the \"AboveGDP\" countries have a higher new case/death rate as shown in the visualisation than the rate of \"BelowGDP\" countries. \n",
    "        there are two extreme value on blue line in the death rate chart, that means some country have a unnormal high death on that days.(we cannot see it is wrong),and it is same meaning(high new cases found) in the new_cases rate chart.\n",
    "\n"
   ]
  },
  {
   "cell_type": "markdown",
   "metadata": {},
   "source": [
    "a) Which group (\"AboveGDP\" or \"BelowGDP\") usually had higher values of case rate?\n",
    "\n",
    "    AboveGDP group had a higher values of case rate.\n",
    "\n",
    "b) Which group (\"AboveGDP\" or \"BelowGDP”) usually had higher values of the death rate?\n",
    "\n",
    "    AboveGDP group had a higher values of death rate.\n",
    "\n",
    "c) We would have expected that the case rate and death rate of group \"AboveGDP\" will be lower than group \"BelowGDP\". Does \n",
    "the result of your visualisation is the same as the mentioned expectation? If no, why do you think the expectation is \n",
    "different from the reality? \n",
    "\n",
    "        Unfortunately, the result of the visualisation is NOT the same as the mentioned expectation. Firstly, we have to know the \"BelowGDP countries\" include only three country(China,Iran,Spain)(small group can be effect easily by some data),whereas, \"AboveGDP countries\" groups have Australia', 'France', 'Italy', 'United Kingdom' and 'United States.The first hard-hit countries are China,Iran,and Spain. The countries in AboveGDP group are seen as \"The Western laggards\"()\n",
    "        In the epidemic, we have seen China control the coronavirus very well from question1 and 2,so it will have a great positive affect on the visualisation of the small group which contains only three country(In Mathematical angle,have a large degree of reducing the average death/new cases rates. And large population of China maybe the one reason of a lower rate). Additionally, Italy,US and France that all in 'AboveGDP'group did have a not good performance, so that the reality maybe is not as too different as we expectation in this angle.\n",
    "        Second point, the effective way to prevent the Covid-19 is lockdown(at least now), but the way will give itself negative effect(in economics,financial......).So many country cannot do it well because of the small country mass(or size of the country we can say). For example, the Covid-19 spreeds rapidly, China decided to lockdown two provinces(This action doesn't effect the country too much,because it has many other provinces which is keep running). However,in same spreeding speed(i.e. there are same area has to lockdown),Italy cannot lockdown  these area all although it has to. Because the area almost is the whole country, the country cannot run nomally if Italy lockdown itself totally. So some small developed countries which have a lower total GDP,instead of gdp_per_capita, may don't have a good way(like lockdown) to prevent themselves from Covid-19. That is the one of the reasons I think. Well, United States has a bigger mass but they won't lockdown expect some states so that they got a messy result.\n",
    "        there are some other factors:\n",
    "        Public awareness of prevention is weak in some developed country, they are focusing on other points rather than against the epidemic.\n",
    "        Problems with procedures:\n",
    "        ordinary people who have been infected with COVID-19 in the past are often treated with ordinary flu symptoms because they \"don't like doctors,\" as has been the case with a number of patients in the current Outbreak in Italy.It also makes them \"difficult to get medical treatment\", turned into an outbreak time bomb.\n",
    "        All in all, those are the main reason I think, gdp_per_capita indicator means the country may be in a high level all aspect but does't mean it must have a strong medical system or other things needed to prevent it from the epidemic.\n",
    "    "
   ]
  },
  {
   "cell_type": "code",
   "execution_count": 52,
   "metadata": {},
   "outputs": [],
   "source": [
    "#reference:\n",
    "#   https://www.undp.org/content/undp/en/home/news-centre/news/2020/COVID19_Crisis_in_developing_countries_threatens_devastate_economies.html\n",
    "#   https://www.cbc.ca/news/canada/covid-19-coronavirus-pandemic-countries-response-1.5617898         "
   ]
  }
 ],
 "metadata": {
  "kernelspec": {
   "display_name": "Python 3",
   "language": "python",
   "name": "python3"
  },
  "language_info": {
   "codemirror_mode": {
    "name": "ipython",
    "version": 3
   },
   "file_extension": ".py",
   "mimetype": "text/x-python",
   "name": "python",
   "nbconvert_exporter": "python",
   "pygments_lexer": "ipython3",
   "version": "3.8.3"
  }
 },
 "nbformat": 4,
 "nbformat_minor": 4
}
