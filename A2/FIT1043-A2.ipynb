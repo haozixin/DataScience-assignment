{
 "cells": [
  {
   "cell_type": "markdown",
   "metadata": {},
   "source": [
    "# Assignment 2\n",
    "\n",
    "* Student Name: Zixin Hao\n",
    "* Student ID: ******\n",
    "* Tutorial Code: 05-P1\n",
    "* Tutor: ****** and ******"
   ]
  },
  {
   "cell_type": "markdown",
   "metadata": {},
   "source": [
    "# Part A - Analysing Mail Flow in Australian Capital Cities"
   ]
  },
  {
   "cell_type": "markdown",
   "metadata": {},
   "source": [
    "## 1.  explore the mail traffic flow of each Australian capital port.  "
   ]
  },
  {
   "cell_type": "code",
   "execution_count": 1,
   "metadata": {},
   "outputs": [],
   "source": [
    "import pandas as pd\n",
    "import matplotlib.pyplot as plt\n",
    "import numpy as np\n",
    "from scipy.stats import linregress\n",
    "from sklearn.cluster import KMeans\n",
    "from sklearn.metrics import silhouette_score\n",
    "import seaborn as sns"
   ]
  },
  {
   "cell_type": "code",
   "execution_count": 87,
   "metadata": {},
   "outputs": [
    {
     "data": {
      "text/html": [
       "<div>\n",
       "<style scoped>\n",
       "    .dataframe tbody tr th:only-of-type {\n",
       "        vertical-align: middle;\n",
       "    }\n",
       "\n",
       "    .dataframe tbody tr th {\n",
       "        vertical-align: top;\n",
       "    }\n",
       "\n",
       "    .dataframe thead th {\n",
       "        text-align: right;\n",
       "    }\n",
       "</style>\n",
       "<table border=\"1\" class=\"dataframe\">\n",
       "  <thead>\n",
       "    <tr style=\"text-align: right;\">\n",
       "      <th></th>\n",
       "      <th>Month</th>\n",
       "      <th>AustralianPort</th>\n",
       "      <th>ForeignPort</th>\n",
       "      <th>Country</th>\n",
       "      <th>Passengers_In</th>\n",
       "      <th>Freight_In_(tonnes)</th>\n",
       "      <th>Mail_In_(tonnes)</th>\n",
       "      <th>Passengers_Out</th>\n",
       "      <th>Freight_Out_(tonnes)</th>\n",
       "      <th>Mail_Out_(tonnes)</th>\n",
       "      <th>Passengers_Total</th>\n",
       "      <th>Freight_Total_(tonnes)</th>\n",
       "      <th>Mail_Total_(tonnes)</th>\n",
       "      <th>Year</th>\n",
       "      <th>Month_num</th>\n",
       "    </tr>\n",
       "  </thead>\n",
       "  <tbody>\n",
       "    <tr>\n",
       "      <th>0</th>\n",
       "      <td>31048</td>\n",
       "      <td>Adelaide</td>\n",
       "      <td>Auckland</td>\n",
       "      <td>New Zealand</td>\n",
       "      <td>1513</td>\n",
       "      <td>42.167</td>\n",
       "      <td>0.311</td>\n",
       "      <td>985</td>\n",
       "      <td>18.704</td>\n",
       "      <td>0.924</td>\n",
       "      <td>2498</td>\n",
       "      <td>60.871</td>\n",
       "      <td>1.235</td>\n",
       "      <td>1985</td>\n",
       "      <td>1</td>\n",
       "    </tr>\n",
       "    <tr>\n",
       "      <th>1</th>\n",
       "      <td>31048</td>\n",
       "      <td>Adelaide</td>\n",
       "      <td>Bahrain</td>\n",
       "      <td>Bahrain</td>\n",
       "      <td>12</td>\n",
       "      <td>0.000</td>\n",
       "      <td>0.000</td>\n",
       "      <td>5</td>\n",
       "      <td>0.033</td>\n",
       "      <td>0.000</td>\n",
       "      <td>17</td>\n",
       "      <td>0.033</td>\n",
       "      <td>0.000</td>\n",
       "      <td>1985</td>\n",
       "      <td>1</td>\n",
       "    </tr>\n",
       "    <tr>\n",
       "      <th>2</th>\n",
       "      <td>31048</td>\n",
       "      <td>Adelaide</td>\n",
       "      <td>Bombay</td>\n",
       "      <td>India</td>\n",
       "      <td>7</td>\n",
       "      <td>0.000</td>\n",
       "      <td>0.000</td>\n",
       "      <td>5</td>\n",
       "      <td>0.000</td>\n",
       "      <td>0.000</td>\n",
       "      <td>12</td>\n",
       "      <td>0.000</td>\n",
       "      <td>0.000</td>\n",
       "      <td>1985</td>\n",
       "      <td>1</td>\n",
       "    </tr>\n",
       "    <tr>\n",
       "      <th>3</th>\n",
       "      <td>31048</td>\n",
       "      <td>Adelaide</td>\n",
       "      <td>Frankfurt</td>\n",
       "      <td>Germany</td>\n",
       "      <td>115</td>\n",
       "      <td>0.009</td>\n",
       "      <td>0.000</td>\n",
       "      <td>171</td>\n",
       "      <td>0.000</td>\n",
       "      <td>0.248</td>\n",
       "      <td>286</td>\n",
       "      <td>0.009</td>\n",
       "      <td>0.248</td>\n",
       "      <td>1985</td>\n",
       "      <td>1</td>\n",
       "    </tr>\n",
       "    <tr>\n",
       "      <th>4</th>\n",
       "      <td>31048</td>\n",
       "      <td>Adelaide</td>\n",
       "      <td>London</td>\n",
       "      <td>UK</td>\n",
       "      <td>1567</td>\n",
       "      <td>2.800</td>\n",
       "      <td>0.000</td>\n",
       "      <td>1472</td>\n",
       "      <td>10.618</td>\n",
       "      <td>2.487</td>\n",
       "      <td>3039</td>\n",
       "      <td>13.418</td>\n",
       "      <td>2.487</td>\n",
       "      <td>1985</td>\n",
       "      <td>1</td>\n",
       "    </tr>\n",
       "  </tbody>\n",
       "</table>\n",
       "</div>"
      ],
      "text/plain": [
       "   Month AustralianPort ForeignPort      Country  Passengers_In  \\\n",
       "0  31048       Adelaide    Auckland  New Zealand           1513   \n",
       "1  31048       Adelaide     Bahrain      Bahrain             12   \n",
       "2  31048       Adelaide      Bombay        India              7   \n",
       "3  31048       Adelaide   Frankfurt      Germany            115   \n",
       "4  31048       Adelaide      London           UK           1567   \n",
       "\n",
       "   Freight_In_(tonnes)  Mail_In_(tonnes)  Passengers_Out  \\\n",
       "0               42.167             0.311             985   \n",
       "1                0.000             0.000               5   \n",
       "2                0.000             0.000               5   \n",
       "3                0.009             0.000             171   \n",
       "4                2.800             0.000            1472   \n",
       "\n",
       "   Freight_Out_(tonnes)  Mail_Out_(tonnes)  Passengers_Total  \\\n",
       "0                18.704              0.924              2498   \n",
       "1                 0.033              0.000                17   \n",
       "2                 0.000              0.000                12   \n",
       "3                 0.000              0.248               286   \n",
       "4                10.618              2.487              3039   \n",
       "\n",
       "   Freight_Total_(tonnes)  Mail_Total_(tonnes)  Year  Month_num  \n",
       "0                  60.871                1.235  1985          1  \n",
       "1                   0.033                0.000  1985          1  \n",
       "2                   0.000                0.000  1985          1  \n",
       "3                   0.009                0.248  1985          1  \n",
       "4                  13.418                2.487  1985          1  "
      ]
     },
     "execution_count": 87,
     "metadata": {},
     "output_type": "execute_result"
    }
   ],
   "source": [
    "df = pd.read_csv('CityPairs.csv')\n",
    "df.head()"
   ]
  },
  {
   "cell_type": "code",
   "execution_count": null,
   "metadata": {},
   "outputs": [],
   "source": []
  },
  {
   "cell_type": "code",
   "execution_count": 3,
   "metadata": {},
   "outputs": [
    {
     "data": {
      "text/html": [
       "<div>\n",
       "<style scoped>\n",
       "    .dataframe tbody tr th:only-of-type {\n",
       "        vertical-align: middle;\n",
       "    }\n",
       "\n",
       "    .dataframe tbody tr th {\n",
       "        vertical-align: top;\n",
       "    }\n",
       "\n",
       "    .dataframe thead th {\n",
       "        text-align: right;\n",
       "    }\n",
       "</style>\n",
       "<table border=\"1\" class=\"dataframe\">\n",
       "  <thead>\n",
       "    <tr style=\"text-align: right;\">\n",
       "      <th></th>\n",
       "      <th>AustralianPort</th>\n",
       "      <th>Mail_In_(tonnes)</th>\n",
       "      <th>Mail_Out_(tonnes)</th>\n",
       "    </tr>\n",
       "  </thead>\n",
       "  <tbody>\n",
       "    <tr>\n",
       "      <th>0</th>\n",
       "      <td>Adelaide</td>\n",
       "      <td>3151.792</td>\n",
       "      <td>3577.532</td>\n",
       "    </tr>\n",
       "    <tr>\n",
       "      <th>1</th>\n",
       "      <td>Brisbane</td>\n",
       "      <td>38971.895</td>\n",
       "      <td>37698.235</td>\n",
       "    </tr>\n",
       "    <tr>\n",
       "      <th>2</th>\n",
       "      <td>Darwin</td>\n",
       "      <td>401.673</td>\n",
       "      <td>589.191</td>\n",
       "    </tr>\n",
       "    <tr>\n",
       "      <th>3</th>\n",
       "      <td>Hobart</td>\n",
       "      <td>5.681</td>\n",
       "      <td>0.293</td>\n",
       "    </tr>\n",
       "    <tr>\n",
       "      <th>4</th>\n",
       "      <td>Melbourne</td>\n",
       "      <td>128609.327</td>\n",
       "      <td>70646.588</td>\n",
       "    </tr>\n",
       "    <tr>\n",
       "      <th>5</th>\n",
       "      <td>Perth</td>\n",
       "      <td>20788.444</td>\n",
       "      <td>17177.825</td>\n",
       "    </tr>\n",
       "    <tr>\n",
       "      <th>6</th>\n",
       "      <td>Sydney</td>\n",
       "      <td>312534.165</td>\n",
       "      <td>177177.967</td>\n",
       "    </tr>\n",
       "  </tbody>\n",
       "</table>\n",
       "</div>"
      ],
      "text/plain": [
       "  AustralianPort  Mail_In_(tonnes)  Mail_Out_(tonnes)\n",
       "0       Adelaide          3151.792           3577.532\n",
       "1       Brisbane         38971.895          37698.235\n",
       "2         Darwin           401.673            589.191\n",
       "3         Hobart             5.681              0.293\n",
       "4      Melbourne        128609.327          70646.588\n",
       "5          Perth         20788.444          17177.825\n",
       "6         Sydney        312534.165         177177.967"
      ]
     },
     "execution_count": 3,
     "metadata": {},
     "output_type": "execute_result"
    }
   ],
   "source": [
    "groupbyPort = df.groupby('AustralianPort').agg({'Mail_In_(tonnes)':'sum','Mail_Out_(tonnes)':'sum'})\n",
    "groupbyPort = groupbyPort.reset_index()\n",
    "Adelaide = groupbyPort['AustralianPort'].map(lambda x : x=='Adelaide')\n",
    "Brisbane = groupbyPort['AustralianPort'].map(lambda x : x=='Brisbane')\n",
    "Darwin = groupbyPort['AustralianPort'].map(lambda x : x=='Darwin')\n",
    "Hobart = groupbyPort['AustralianPort'].map(lambda x : x=='Hobart')\n",
    "Melbourne = groupbyPort['AustralianPort'].map(lambda x : x=='Melbourne')\n",
    "Perth = groupbyPort['AustralianPort'].map(lambda x : x=='Perth')\n",
    "Sydney = groupbyPort['AustralianPort'].map(lambda x : x=='Sydney')\n",
    "\n",
    "capital_port = groupbyPort[Adelaide | Brisbane|Darwin|Hobart|Melbourne|Perth|Sydney]\n",
    "capital_port = capital_port.reset_index()\n",
    "capital_port = capital_port[['AustralianPort','Mail_In_(tonnes)','Mail_Out_(tonnes)']]\n",
    "capital_port"
   ]
  },
  {
   "cell_type": "code",
   "execution_count": 4,
   "metadata": {},
   "outputs": [
    {
     "data": {
      "image/png": "[encoded data removed]",
      "text/plain": [
       "<Figure size 1008x864 with 1 Axes>"
      ]
     },
     "metadata": {
      "needs_background": "light"
     },
     "output_type": "display_data"
    }
   ],
   "source": [
    "chart = capital_port.plot.bar(figsize=(14,12),width = 0.75)\n",
    "chart.set_xticklabels(capital_port['AustralianPort'],rotation=30)\n",
    "plt.xlabel(' The Australian State Capital ports')\n",
    "plt.ylabel('The amount of Mail(In/Out) in tonnes')\n",
    "plt.title(' the \"total Mail_In\" and \"total Mail_Out\" for each of the capital ports')\n",
    "plt.ylim(0,350000)\n",
    "plt.grid(axis='y',linestyle='--')"
   ]
  },
  {
   "cell_type": "markdown",
   "metadata": {},
   "source": [
    "### 1.1. Which city has the largest amount of mail flowing in? "
   ]
  },
  {
   "cell_type": "markdown",
   "metadata": {},
   "source": [
    "Sydney has the largest amount of mail flowing in, it is  312534.165 (tonnes)"
   ]
  },
  {
   "cell_type": "markdown",
   "metadata": {},
   "source": [
    "### 1.2. Can you properly compare the values for all cities by looking at the plot? Why?  "
   ]
  },
  {
   "cell_type": "markdown",
   "metadata": {},
   "source": [
    "I cannot properly compare the values for all cities by looking at the plot. Because the plot doesn't show other cities which are not a capital port. Even, we cannot properly compare Hobart and Darwin. The amount of these two cities'mail transformation is not big enough comparing other capital ports so that we cannot get a good columnar shape in the plot."
   ]
  },
  {
   "cell_type": "markdown",
   "metadata": {},
   "source": [
    "### 1.3. Why do you think the mail traffic amount is significantly higher for some of the ports? "
   ]
  },
  {
   "cell_type": "markdown",
   "metadata": {},
   "source": [
    "        In this diagram, we can notice the mail traffic amount of Sydney and Melbourne is significantly higher. I think the reason is the larger population and the higher development level.\n",
    "        Australia's largest city and the capital of New South Wales, Sydney is located in the southeast coast of Australia, is Australia's economic, cultural, political and tourism center, the world's famous international metropolis\n",
    "        Melbourne is the capital and largest city of Victoria state, and the second largest city in the population of Australia. It is known as the \"Cultural capital of Australia\", and also the national center of culture, business, education, entertainment, catering, sports and tourism\n",
    "        Sydney and Melbourne are the largest city comparing others, the more people the more mail traffic daily. High development level influence the frequency of using mail, higher level city may have more chances to mail something to change information or inform information\n",
    "\n"
   ]
  },
  {
   "cell_type": "markdown",
   "metadata": {},
   "source": [
    "## 2. Create a line chart"
   ]
  },
  {
   "cell_type": "code",
   "execution_count": 5,
   "metadata": {},
   "outputs": [],
   "source": [
    "df_Perth = df[df['AustralianPort']=='Perth']\n",
    "df_Perth.reset_index()\n",
    "df_Perth = df_Perth[['AustralianPort','Year','Mail_Total_(tonnes)']]\n",
    "df_Perth = df_Perth.groupby('Year').agg({'Mail_Total_(tonnes)': 'sum'})\n",
    "df_Perth.reset_index(inplace=True) \n"
   ]
  },
  {
   "cell_type": "code",
   "execution_count": 6,
   "metadata": {},
   "outputs": [],
   "source": [
    "df_Brisbane = df[df['AustralianPort']=='Brisbane']\n",
    "df_Brisbane.reset_index()\n",
    "df_Brisbane = df_Brisbane[['AustralianPort','Year','Mail_Total_(tonnes)']]\n",
    "df_Brisbane = df_Brisbane.groupby('Year').agg({'Mail_Total_(tonnes)': 'sum'})\n",
    "df_Brisbane.reset_index(inplace=True) \n"
   ]
  },
  {
   "cell_type": "code",
   "execution_count": 7,
   "metadata": {},
   "outputs": [
    {
     "data": {
      "image/png": "[encoded data removed]",
      "text/plain": [
       "<Figure size 432x288 with 1 Axes>"
      ]
     },
     "metadata": {
      "needs_background": "light"
     },
     "output_type": "display_data"
    }
   ],
   "source": [
    "ln1,=plt.plot(df_Perth.Year,df_Perth['Mail_Total_(tonnes)'])\n",
    "ln2,=plt.plot(df_Brisbane.Year,df_Brisbane['Mail_Total_(tonnes)'])\n",
    "plt.xticks(df_Perth.Year[::3],rotation=35)\n",
    "plt.xlabel('Time(year)')\n",
    "plt.ylabel(' total mail traffic to each port (in tonnes)')\n",
    "plt.legend(handles=[ln1,ln2],labels=['Perth','Brisbane'])\n",
    "plt.title('the trend of total mail traffic to Perth/Brisbane ports against year',y=1.1)\n",
    "plt.grid(linestyle='--')"
   ]
  },
  {
   "cell_type": "markdown",
   "metadata": {},
   "source": [
    "### 2.1. How was the mail package traffic to each of the Brisbane and Perth ports in the mid-80s?"
   ]
  },
  {
   "cell_type": "markdown",
   "metadata": {},
   "source": [
    "The mail package traffic to each of the Brisbane and Perth ports in the mid-80s is not good(the number is several hundred) and their amounts are close to each other.\n",
    "\n",
    "The world's Fair in 1988, held in Brisbane, Australia, was the largest ever in the southern Hemisphere, with 52 countries and regions participating.I think the big activity increased the chance to mail for exchanging information. So, the increasing of 'Brisbane' line is more significant than the line of 'Perth'.\n",
    "\n",
    "The two areas were sparsely populated and were remote region at the time, so there was little mail traffic.The city is still growing, so the lines are on the rise.\n"
   ]
  },
  {
   "cell_type": "markdown",
   "metadata": {},
   "source": [
    "### 2.2. How was the total mail traffic to Brisbane and Perth in 2016? \n",
    "\n",
    "    (You should analyse the data and see if 2016 has anything different from the previous years or not. Make sure to use the output of the function “describe()” of Pandas data frame to answer this question)."
   ]
  },
  {
   "cell_type": "code",
   "execution_count": null,
   "metadata": {},
   "outputs": [],
   "source": []
  },
  {
   "cell_type": "markdown",
   "metadata": {},
   "source": [
    "        the total mail traffic to Brisbane and Perth in 2016 is significantly decreasing comparing the last year.\n",
    "\n",
    "        On 26 December 2013, due to the heavy decline in mail usage due to competition from e-mail, etc., Australia Post requested an increase in the base rate to 70c.On 4 January 2016, Australia Post requested an increase in the base rate to $1.00 for same reason. So, more and more people prefer to use e-mail or app, the mail traffic amount decreased badly."
   ]
  },
  {
   "cell_type": "markdown",
   "metadata": {},
   "source": [
    "#### Brisbane"
   ]
  },
  {
   "cell_type": "code",
   "execution_count": 8,
   "metadata": {},
   "outputs": [
    {
     "data": {
      "text/plain": [
       "count      32.000000\n",
       "mean     2395.941563\n",
       "std      1257.965538\n",
       "min       232.588000\n",
       "25%      1389.400500\n",
       "50%      2379.408000\n",
       "75%      3319.829750\n",
       "max      4611.991000\n",
       "Name: Mail_Total_(tonnes), dtype: float64"
      ]
     },
     "execution_count": 8,
     "metadata": {},
     "output_type": "execute_result"
    }
   ],
   "source": [
    "df_Brisbane[\"Mail_Total_(tonnes)\"].describe()\n"
   ]
  },
  {
   "cell_type": "code",
   "execution_count": 9,
   "metadata": {},
   "outputs": [
    {
     "data": {
      "text/html": [
       "<div>\n",
       "<style scoped>\n",
       "    .dataframe tbody tr th:only-of-type {\n",
       "        vertical-align: middle;\n",
       "    }\n",
       "\n",
       "    .dataframe tbody tr th {\n",
       "        vertical-align: top;\n",
       "    }\n",
       "\n",
       "    .dataframe thead th {\n",
       "        text-align: right;\n",
       "    }\n",
       "</style>\n",
       "<table border=\"1\" class=\"dataframe\">\n",
       "  <thead>\n",
       "    <tr style=\"text-align: right;\">\n",
       "      <th></th>\n",
       "      <th>Year</th>\n",
       "      <th>Mail_Total_(tonnes)</th>\n",
       "    </tr>\n",
       "  </thead>\n",
       "  <tbody>\n",
       "    <tr>\n",
       "      <th>27</th>\n",
       "      <td>2012</td>\n",
       "      <td>4611.991</td>\n",
       "    </tr>\n",
       "    <tr>\n",
       "      <th>28</th>\n",
       "      <td>2013</td>\n",
       "      <td>4359.100</td>\n",
       "    </tr>\n",
       "    <tr>\n",
       "      <th>29</th>\n",
       "      <td>2014</td>\n",
       "      <td>3856.171</td>\n",
       "    </tr>\n",
       "    <tr>\n",
       "      <th>30</th>\n",
       "      <td>2015</td>\n",
       "      <td>3260.702</td>\n",
       "    </tr>\n",
       "    <tr>\n",
       "      <th>31</th>\n",
       "      <td>2016</td>\n",
       "      <td>1163.755</td>\n",
       "    </tr>\n",
       "  </tbody>\n",
       "</table>\n",
       "</div>"
      ],
      "text/plain": [
       "    Year  Mail_Total_(tonnes)\n",
       "27  2012             4611.991\n",
       "28  2013             4359.100\n",
       "29  2014             3856.171\n",
       "30  2015             3260.702\n",
       "31  2016             1163.755"
      ]
     },
     "execution_count": 9,
     "metadata": {},
     "output_type": "execute_result"
    }
   ],
   "source": [
    "df_Brisbane.tail()"
   ]
  },
  {
   "cell_type": "markdown",
   "metadata": {},
   "source": [
    "#### Perth"
   ]
  },
  {
   "cell_type": "code",
   "execution_count": 10,
   "metadata": {},
   "outputs": [
    {
     "data": {
      "text/plain": [
       "count      32.000000\n",
       "mean     1186.445906\n",
       "std       490.796714\n",
       "min       171.461000\n",
       "25%       884.753000\n",
       "50%      1288.560500\n",
       "75%      1586.243000\n",
       "max      1991.010000\n",
       "Name: Mail_Total_(tonnes), dtype: float64"
      ]
     },
     "execution_count": 10,
     "metadata": {},
     "output_type": "execute_result"
    }
   ],
   "source": [
    "df_Perth[\"Mail_Total_(tonnes)\"].describe()\n"
   ]
  },
  {
   "cell_type": "code",
   "execution_count": 11,
   "metadata": {},
   "outputs": [
    {
     "data": {
      "text/html": [
       "<div>\n",
       "<style scoped>\n",
       "    .dataframe tbody tr th:only-of-type {\n",
       "        vertical-align: middle;\n",
       "    }\n",
       "\n",
       "    .dataframe tbody tr th {\n",
       "        vertical-align: top;\n",
       "    }\n",
       "\n",
       "    .dataframe thead th {\n",
       "        text-align: right;\n",
       "    }\n",
       "</style>\n",
       "<table border=\"1\" class=\"dataframe\">\n",
       "  <thead>\n",
       "    <tr style=\"text-align: right;\">\n",
       "      <th></th>\n",
       "      <th>Year</th>\n",
       "      <th>Mail_Total_(tonnes)</th>\n",
       "    </tr>\n",
       "  </thead>\n",
       "  <tbody>\n",
       "    <tr>\n",
       "      <th>27</th>\n",
       "      <td>2012</td>\n",
       "      <td>1584.744</td>\n",
       "    </tr>\n",
       "    <tr>\n",
       "      <th>28</th>\n",
       "      <td>2013</td>\n",
       "      <td>1599.758</td>\n",
       "    </tr>\n",
       "    <tr>\n",
       "      <th>29</th>\n",
       "      <td>2014</td>\n",
       "      <td>1262.836</td>\n",
       "    </tr>\n",
       "    <tr>\n",
       "      <th>30</th>\n",
       "      <td>2015</td>\n",
       "      <td>1011.175</td>\n",
       "    </tr>\n",
       "    <tr>\n",
       "      <th>31</th>\n",
       "      <td>2016</td>\n",
       "      <td>277.265</td>\n",
       "    </tr>\n",
       "  </tbody>\n",
       "</table>\n",
       "</div>"
      ],
      "text/plain": [
       "    Year  Mail_Total_(tonnes)\n",
       "27  2012             1584.744\n",
       "28  2013             1599.758\n",
       "29  2014             1262.836\n",
       "30  2015             1011.175\n",
       "31  2016              277.265"
      ]
     },
     "execution_count": 11,
     "metadata": {},
     "output_type": "execute_result"
    }
   ],
   "source": [
    "df_Perth.tail()"
   ]
  },
  {
   "cell_type": "markdown",
   "metadata": {},
   "source": [
    "# Part B1 - Linear Regression and Prediction"
   ]
  },
  {
   "cell_type": "code",
   "execution_count": 88,
   "metadata": {},
   "outputs": [
    {
     "data": {
      "text/html": [
       "<div>\n",
       "<style scoped>\n",
       "    .dataframe tbody tr th:only-of-type {\n",
       "        vertical-align: middle;\n",
       "    }\n",
       "\n",
       "    .dataframe tbody tr th {\n",
       "        vertical-align: top;\n",
       "    }\n",
       "\n",
       "    .dataframe thead th {\n",
       "        text-align: right;\n",
       "    }\n",
       "</style>\n",
       "<table border=\"1\" class=\"dataframe\">\n",
       "  <thead>\n",
       "    <tr style=\"text-align: right;\">\n",
       "      <th></th>\n",
       "      <th>Month</th>\n",
       "      <th>AustralianPort</th>\n",
       "      <th>ForeignPort</th>\n",
       "      <th>Country</th>\n",
       "      <th>Passengers_In</th>\n",
       "      <th>Freight_In_(tonnes)</th>\n",
       "      <th>Mail_In_(tonnes)</th>\n",
       "      <th>Passengers_Out</th>\n",
       "      <th>Freight_Out_(tonnes)</th>\n",
       "      <th>Mail_Out_(tonnes)</th>\n",
       "      <th>Passengers_Total</th>\n",
       "      <th>Freight_Total_(tonnes)</th>\n",
       "      <th>Mail_Total_(tonnes)</th>\n",
       "      <th>Year</th>\n",
       "      <th>Month_num</th>\n",
       "    </tr>\n",
       "  </thead>\n",
       "  <tbody>\n",
       "    <tr>\n",
       "      <th>0</th>\n",
       "      <td>31048</td>\n",
       "      <td>Adelaide</td>\n",
       "      <td>Auckland</td>\n",
       "      <td>New Zealand</td>\n",
       "      <td>1513</td>\n",
       "      <td>42.167</td>\n",
       "      <td>0.311</td>\n",
       "      <td>985</td>\n",
       "      <td>18.704</td>\n",
       "      <td>0.924</td>\n",
       "      <td>2498</td>\n",
       "      <td>60.871</td>\n",
       "      <td>1.235</td>\n",
       "      <td>1985</td>\n",
       "      <td>1</td>\n",
       "    </tr>\n",
       "    <tr>\n",
       "      <th>1</th>\n",
       "      <td>31048</td>\n",
       "      <td>Adelaide</td>\n",
       "      <td>Bahrain</td>\n",
       "      <td>Bahrain</td>\n",
       "      <td>12</td>\n",
       "      <td>0.000</td>\n",
       "      <td>0.000</td>\n",
       "      <td>5</td>\n",
       "      <td>0.033</td>\n",
       "      <td>0.000</td>\n",
       "      <td>17</td>\n",
       "      <td>0.033</td>\n",
       "      <td>0.000</td>\n",
       "      <td>1985</td>\n",
       "      <td>1</td>\n",
       "    </tr>\n",
       "    <tr>\n",
       "      <th>2</th>\n",
       "      <td>31048</td>\n",
       "      <td>Adelaide</td>\n",
       "      <td>Bombay</td>\n",
       "      <td>India</td>\n",
       "      <td>7</td>\n",
       "      <td>0.000</td>\n",
       "      <td>0.000</td>\n",
       "      <td>5</td>\n",
       "      <td>0.000</td>\n",
       "      <td>0.000</td>\n",
       "      <td>12</td>\n",
       "      <td>0.000</td>\n",
       "      <td>0.000</td>\n",
       "      <td>1985</td>\n",
       "      <td>1</td>\n",
       "    </tr>\n",
       "    <tr>\n",
       "      <th>3</th>\n",
       "      <td>31048</td>\n",
       "      <td>Adelaide</td>\n",
       "      <td>Frankfurt</td>\n",
       "      <td>Germany</td>\n",
       "      <td>115</td>\n",
       "      <td>0.009</td>\n",
       "      <td>0.000</td>\n",
       "      <td>171</td>\n",
       "      <td>0.000</td>\n",
       "      <td>0.248</td>\n",
       "      <td>286</td>\n",
       "      <td>0.009</td>\n",
       "      <td>0.248</td>\n",
       "      <td>1985</td>\n",
       "      <td>1</td>\n",
       "    </tr>\n",
       "    <tr>\n",
       "      <th>4</th>\n",
       "      <td>31048</td>\n",
       "      <td>Adelaide</td>\n",
       "      <td>London</td>\n",
       "      <td>UK</td>\n",
       "      <td>1567</td>\n",
       "      <td>2.800</td>\n",
       "      <td>0.000</td>\n",
       "      <td>1472</td>\n",
       "      <td>10.618</td>\n",
       "      <td>2.487</td>\n",
       "      <td>3039</td>\n",
       "      <td>13.418</td>\n",
       "      <td>2.487</td>\n",
       "      <td>1985</td>\n",
       "      <td>1</td>\n",
       "    </tr>\n",
       "  </tbody>\n",
       "</table>\n",
       "</div>"
      ],
      "text/plain": [
       "   Month AustralianPort ForeignPort      Country  Passengers_In  \\\n",
       "0  31048       Adelaide    Auckland  New Zealand           1513   \n",
       "1  31048       Adelaide     Bahrain      Bahrain             12   \n",
       "2  31048       Adelaide      Bombay        India              7   \n",
       "3  31048       Adelaide   Frankfurt      Germany            115   \n",
       "4  31048       Adelaide      London           UK           1567   \n",
       "\n",
       "   Freight_In_(tonnes)  Mail_In_(tonnes)  Passengers_Out  \\\n",
       "0               42.167             0.311             985   \n",
       "1                0.000             0.000               5   \n",
       "2                0.000             0.000               5   \n",
       "3                0.009             0.000             171   \n",
       "4                2.800             0.000            1472   \n",
       "\n",
       "   Freight_Out_(tonnes)  Mail_Out_(tonnes)  Passengers_Total  \\\n",
       "0                18.704              0.924              2498   \n",
       "1                 0.033              0.000                17   \n",
       "2                 0.000              0.000                12   \n",
       "3                 0.000              0.248               286   \n",
       "4                10.618              2.487              3039   \n",
       "\n",
       "   Freight_Total_(tonnes)  Mail_Total_(tonnes)  Year  Month_num  \n",
       "0                  60.871                1.235  1985          1  \n",
       "1                   0.033                0.000  1985          1  \n",
       "2                   0.000                0.000  1985          1  \n",
       "3                   0.009                0.248  1985          1  \n",
       "4                  13.418                2.487  1985          1  "
      ]
     },
     "execution_count": 88,
     "metadata": {},
     "output_type": "execute_result"
    }
   ],
   "source": [
    "df.head()"
   ]
  },
  {
   "cell_type": "code",
   "execution_count": 13,
   "metadata": {},
   "outputs": [
    {
     "data": {
      "image/png": "[encoded data removed]",
      "text/plain": [
       "<Figure size 432x288 with 1 Axes>"
      ]
     },
     "metadata": {
      "needs_background": "light"
     },
     "output_type": "display_data"
    }
   ],
   "source": [
    "\n",
    "\n",
    "Adelaide = df['AustralianPort'].map(lambda x : x=='Adelaide')\n",
    "Brisbane = df['AustralianPort'].map(lambda x : x=='Brisbane')\n",
    "Darwin = df['AustralianPort'].map(lambda x : x=='Darwin')\n",
    "Hobart = df['AustralianPort'].map(lambda x : x=='Hobart')\n",
    "Melbourne = df['AustralianPort'].map(lambda x : x=='Melbourne')\n",
    "Perth = df['AustralianPort'].map(lambda x : x=='Perth')\n",
    "Sydney = df['AustralianPort'].map(lambda x : x=='Sydney')\n",
    "\n",
    "capital_portS = df[Adelaide | Brisbane|Darwin|Hobart|Melbourne|Perth|Sydney]\n",
    "capital_portS = capital_portS[['AustralianPort','Freight_Total_(tonnes)','Year']]\n",
    "capital_portS\n",
    "\n",
    "groupbyYear = capital_portS.groupby('Year').agg({'Freight_Total_(tonnes)':'sum'})\n",
    "groupbyYear = groupbyYear.reset_index()\n",
    "groupbyYear\n",
    "\n",
    "plt.scatter(groupbyYear['Year'],groupbyYear['Freight_Total_(tonnes)'])\n",
    "plt.xlabel('Time(year)')\n",
    "plt.ylabel(' total annual freight (in tonnes)',x=-2)\n",
    "plt.title(' the total freight in tonnes at all Australian state capital ports against the year',y=1.1)\n",
    "plt.grid(axis='x',linestyle='--')"
   ]
  },
  {
   "cell_type": "code",
   "execution_count": 14,
   "metadata": {},
   "outputs": [
    {
     "data": {
      "text/plain": [
       "array(['Adelaide', 'Brisbane', 'Darwin', 'Hobart', 'Melbourne', 'Perth',\n",
       "       'Sydney'], dtype=object)"
      ]
     },
     "execution_count": 14,
     "metadata": {},
     "output_type": "execute_result"
    }
   ],
   "source": [
    "capital_portS.AustralianPort.unique()"
   ]
  },
  {
   "cell_type": "markdown",
   "metadata": {},
   "source": [
    "## 1. Does the data show a clear pattern? Describe the relationship you observe.\n"
   ]
  },
  {
   "cell_type": "markdown",
   "metadata": {},
   "source": [
    "    Yes, it shows a clear pattern.\n",
    "    \n",
    "        it shows a linear ralationship pattern, generally, the independent varable(total annual freight) increased as the dependent varable varies(as  time goes). In this senario, as time goes, the total annual freight in tonnes at all Australian state capital ports is increased against the year\n",
    "    \n",
    "        the majority of the data is follow the relationship with some Fluctuations in growth, which is around 1990, 2000,, 2009 year. but there is a data point which is far away from the data points that around 2015 year"
   ]
  },
  {
   "cell_type": "markdown",
   "metadata": {},
   "source": [
    "## 2. Are there any outliers? \n",
    "\n",
    "    If so, use the IQR rule to remove the outliers. IQR ruleis a simple method which can help you to detect the outliers based on the output of function “describe()”.\n"
   ]
  },
  {
   "cell_type": "code",
   "execution_count": 15,
   "metadata": {},
   "outputs": [
    {
     "data": {
      "text/plain": [
       "count        32.000000\n",
       "mean     592518.789969\n",
       "std      204506.840733\n",
       "min      230272.052000\n",
       "25%      403832.119000\n",
       "50%      632138.236000\n",
       "75%      739975.605000\n",
       "max      970265.749000\n",
       "Name: Freight_Total_(tonnes), dtype: float64"
      ]
     },
     "execution_count": 15,
     "metadata": {},
     "output_type": "execute_result"
    }
   ],
   "source": [
    "groupbyYear['Freight_Total_(tonnes)'].describe()"
   ]
  },
  {
   "cell_type": "code",
   "execution_count": 16,
   "metadata": {},
   "outputs": [
    {
     "name": "stdout",
     "output_type": "stream",
     "text": [
      "1.5*IQR range:  ( -100383.10999999993 , 1244190.8339999998 )\n"
     ]
    }
   ],
   "source": [
    "\n",
    "Q1=403832.119000;\n",
    "Q3=739975.605000;\n",
    "IQR = Q3-Q1;\n",
    "range_open=Q1-IQR*1.5;\n",
    "range_close=Q3+IQR*1.5;\n",
    "print('1.5*IQR range: ','(',range_open,\",\",range_close,\")\");\n"
   ]
  },
  {
   "cell_type": "markdown",
   "metadata": {},
   "source": [
    "## 2  \n",
    "        According to the IQR rule, I found the \"1.5\\*IQR range\" is from -100383.10999999993 to 1244190.8339999998 in tonnes, \n",
    "    and the minimum(230272.052000) and maximum(970265.749000) of the annual freight at all Australian state capital ports is within the range. \n",
    "    So, there is no outliers in this data set."
   ]
  },
  {
   "cell_type": "markdown",
   "metadata": {},
   "source": [
    "## 3. Create a simple linear regression to model the relationship between Year and the Total Freight. \n",
    "     \n"
   ]
  },
  {
   "cell_type": "code",
   "execution_count": 17,
   "metadata": {},
   "outputs": [
    {
     "data": {
      "text/html": [
       "<div>\n",
       "<style scoped>\n",
       "    .dataframe tbody tr th:only-of-type {\n",
       "        vertical-align: middle;\n",
       "    }\n",
       "\n",
       "    .dataframe tbody tr th {\n",
       "        vertical-align: top;\n",
       "    }\n",
       "\n",
       "    .dataframe thead th {\n",
       "        text-align: right;\n",
       "    }\n",
       "</style>\n",
       "<table border=\"1\" class=\"dataframe\">\n",
       "  <thead>\n",
       "    <tr style=\"text-align: right;\">\n",
       "      <th></th>\n",
       "      <th>Year</th>\n",
       "      <th>Freight_Total_(tonnes)</th>\n",
       "    </tr>\n",
       "  </thead>\n",
       "  <tbody>\n",
       "    <tr>\n",
       "      <th>0</th>\n",
       "      <td>1985</td>\n",
       "      <td>230272.052</td>\n",
       "    </tr>\n",
       "    <tr>\n",
       "      <th>1</th>\n",
       "      <td>1986</td>\n",
       "      <td>247340.715</td>\n",
       "    </tr>\n",
       "    <tr>\n",
       "      <th>2</th>\n",
       "      <td>1987</td>\n",
       "      <td>286028.176</td>\n",
       "    </tr>\n",
       "    <tr>\n",
       "      <th>3</th>\n",
       "      <td>1988</td>\n",
       "      <td>306648.315</td>\n",
       "    </tr>\n",
       "    <tr>\n",
       "      <th>4</th>\n",
       "      <td>1989</td>\n",
       "      <td>345092.750</td>\n",
       "    </tr>\n",
       "  </tbody>\n",
       "</table>\n",
       "</div>"
      ],
      "text/plain": [
       "   Year  Freight_Total_(tonnes)\n",
       "0  1985              230272.052\n",
       "1  1986              247340.715\n",
       "2  1987              286028.176\n",
       "3  1988              306648.315\n",
       "4  1989              345092.750"
      ]
     },
     "execution_count": 17,
     "metadata": {},
     "output_type": "execute_result"
    }
   ],
   "source": [
    "groupbyYear.head()"
   ]
  },
  {
   "cell_type": "code",
   "execution_count": 18,
   "metadata": {},
   "outputs": [
    {
     "data": {
      "image/png": "[encoded data removed]",
      "text/plain": [
       "<Figure size 432x288 with 1 Axes>"
      ]
     },
     "metadata": {
      "needs_background": "light"
     },
     "output_type": "display_data"
    }
   ],
   "source": [
    "slope, intercept, r_value, p_value, std_err = linregress(groupbyYear['Year'],groupbyYear['Freight_Total_(tonnes)'])\n",
    "# With the slope and the intercept we can use the 'for' syntax to compute the line (a list of y-values corresponding to the input x-values)\n",
    "\n",
    "line = [slope*xi + intercept for xi in groupbyYear['Year']]\n",
    "# We can then plot the 'line': \n",
    "\n",
    "plt.plot(groupbyYear['Year'],line,'r-', linewidth=2)\n",
    "# And add the original data points to the same plot:\n",
    "\n",
    "plt.scatter(groupbyYear['Year'],groupbyYear['Freight_Total_(tonnes)'])\n",
    "plt.xlabel('Time(year)')\n",
    "plt.ylabel(' total annual freight (in tonnes)',x=-2)\n",
    "plt.title(' the total annual freight regression at all Australian state capital ports against the year',y=1.1)\n",
    "plt.grid(axis='x',linestyle='--')\n",
    "plt.show() \n"
   ]
  },
  {
   "cell_type": "markdown",
   "metadata": {},
   "source": [
    "## 3 \n",
    "\n",
    "    Does the linear fit look to be a good fit? Justify your answer."
   ]
  },
  {
   "cell_type": "markdown",
   "metadata": {},
   "source": [
    "    Yes, the linear fit looks to be a good fit.\n",
    "    \n",
    "        The line model capture majority of the data points except the last abnomal value and the model are consistent and accurate on average.It doesn't show the phenomenon of underfitting or overfitting, and the model can predict more accurate value.One more thing, these small fluctuations are also along the line and do not influence the trend, so we don't need add the complexity of the model.\n",
    "    "
   ]
  },
  {
   "cell_type": "markdown",
   "metadata": {},
   "source": [
    "## 4. How fast is the total amount of freight increasing each year?\n",
    "    [Hint: Think about what parameter in the regression model represents the rate of change]\n"
   ]
  },
  {
   "cell_type": "code",
   "execution_count": 19,
   "metadata": {},
   "outputs": [
    {
     "data": {
      "text/plain": [
       "18894.492339992667"
      ]
     },
     "execution_count": 19,
     "metadata": {},
     "output_type": "execute_result"
    }
   ],
   "source": [
    "slope"
   ]
  },
  {
   "cell_type": "markdown",
   "metadata": {},
   "source": [
    "According to \"y = a + bx\" equation, b represents the rate of change.\n",
    "so, the rate of change is 18894.492339992667, which means the total amount of freight increases 18894.492339992667 tonnes on average each year.\n"
   ]
  },
  {
   "cell_type": "markdown",
   "metadata": {},
   "source": [
    "## 5. What does the linear model predict for the total freight volume at Australian state capital ports in 2020?\n"
   ]
  },
  {
   "cell_type": "code",
   "execution_count": 20,
   "metadata": {},
   "outputs": [
    {
     "data": {
      "text/plain": [
       "960961.39059861"
      ]
     },
     "execution_count": 20,
     "metadata": {},
     "output_type": "execute_result"
    }
   ],
   "source": [
    "xi=2020\n",
    "Y = slope*xi + intercept\n",
    "Y"
   ]
  },
  {
   "cell_type": "markdown",
   "metadata": {},
   "source": [
    "It is 960961.39059861 tonnies that the linear model predicts for the total freight volume at Australian state capital ports in 2020"
   ]
  },
  {
   "cell_type": "markdown",
   "metadata": {},
   "source": [
    "## 6. \n",
    "    Try fitting the linear model only to the data from the year 2005 onwards. What\n",
    "    happens to the prediction for 2020? Which prediction could you trust more?\n",
    "    Why? "
   ]
  },
  {
   "cell_type": "code",
   "execution_count": 21,
   "metadata": {},
   "outputs": [
    {
     "data": {
      "image/png": "[encoded data removed]",
      "text/plain": [
       "<Figure size 432x288 with 1 Axes>"
      ]
     },
     "metadata": {
      "needs_background": "light"
     },
     "output_type": "display_data"
    }
   ],
   "source": [
    "groupbyYear2 = groupbyYear[groupbyYear[\"Year\"]>=2005]\n",
    "slope2, intercept2, r_value2, p_value2, std_err2 = linregress(groupbyYear2['Year'],groupbyYear2['Freight_Total_(tonnes)'])\n",
    "# With the slope and the intercept we can use the 'for' syntax to compute the line (a list of y-values corresponding to the input x-values)\n",
    "\n",
    "line2 = [slope2*x2i + intercept2 for x2i in groupbyYear2['Year']]\n",
    "# We can then plot the 'line': \n",
    "\n",
    "plt.plot(groupbyYear2['Year'],line2,'r-', linewidth=2)\n",
    "# And add the original data points to the same plot:\n",
    "\n",
    "plt.scatter(groupbyYear2['Year'],groupbyYear2['Freight_Total_(tonnes)'])\n",
    "plt.xlabel('Time(year)')\n",
    "plt.ylabel(' total annual freight (in tonnes)',x=-2)\n",
    "plt.title(' the total annual freight in tonnes at all Australian state capital ports against the year',y=1.1)\n",
    "plt.grid(axis='x',linestyle='--')\n",
    "plt.show() \n"
   ]
  },
  {
   "cell_type": "code",
   "execution_count": 22,
   "metadata": {},
   "outputs": [
    {
     "data": {
      "image/png": "[encoded data removed]",
      "text/plain": [
       "<Figure size 432x288 with 1 Axes>"
      ]
     },
     "metadata": {
      "needs_background": "light"
     },
     "output_type": "display_data"
    }
   ],
   "source": [
    "plt.plot(groupbyYear2['Year'],line2,'r-', linewidth=2)\n",
    "# And add the original data points to the same plot:\n",
    "\n",
    "plt.scatter(groupbyYear['Year'],groupbyYear['Freight_Total_(tonnes)'])\n",
    "plt.xlabel('Time(year)')\n",
    "plt.ylabel(' total annual freight (in tonnes)',x=-2)\n",
    "plt.title(' the total annual freight in tonnes at all Australian state capital ports against the year',y=1.1)\n",
    "plt.grid(axis='x',linestyle='--')\n",
    "plt.show() \n"
   ]
  },
  {
   "cell_type": "code",
   "execution_count": 23,
   "metadata": {},
   "outputs": [
    {
     "data": {
      "text/plain": [
       "802553.1542925397"
      ]
     },
     "execution_count": 23,
     "metadata": {},
     "output_type": "execute_result"
    }
   ],
   "source": [
    "x2i=2020\n",
    "Y2 = slope2*x2i + intercept2\n",
    "Y2"
   ]
  },
  {
   "cell_type": "markdown",
   "metadata": {},
   "source": [
    "    The prediction for 2020 by this linear model is 802553.1542925397(tonnies). It is much less than 960961.39059861(prediction of first model)\n",
    "    \n",
    "    I think the first model(original one) is the better one and I could trust more.\n",
    "    Because the second one is underfitting. \n",
    "        Firstly, from the scatter starting from 2005 in diagram 1, the shape is like increasing wave not line. So, its complexity is not enough and bias will be bigger comparing the first model.\n",
    "        Secondly, from the second diagram above, it is obvious that the prediction is not accurate if we assume the data set before 2005 is the test data set. it has high bias and high variance.\n",
    "        Thirdly, little trainning dataset can result the regression cannot learn the truth trend, and also can be effected easily by some rare extrem value. so the larger the trainning data sets, the better the model.\n",
    "    \n",
    "    \n",
    "    "
   ]
  },
  {
   "cell_type": "code",
   "execution_count": 24,
   "metadata": {},
   "outputs": [
    {
     "name": "stdout",
     "output_type": "stream",
     "text": [
      "second model:  R: 0.08406402403478092 P: 0.7950605953935111 std: 12367.156116906628\n",
      "first model:  R: 0.8666998553936882 P: 1.4324411666853666e-10 std: 1985.4476174208417\n"
     ]
    }
   ],
   "source": [
    "print('second model: ','R:',r_value2,'P:', p_value2,'std:', std_err2)\n",
    "print('first model: ','R:',r_value,'P:', p_value,'std:', std_err)"
   ]
  },
  {
   "cell_type": "markdown",
   "metadata": {},
   "source": [
    "we also can compare the R value, P value and std_error of these two model to find which one is better.\n",
    "\n",
    "**R-value** is a statistical measure of how close the data are to the fitted regression line.(the R-value of the better model is closer to 1)\n",
    "\n",
    " **p-value** is a measure of the probability that an observed difference could have occurred just by random chance. The lower the p-value, the greater the statistical significance of the observed difference.\n",
    "\n",
    "**standard error** is the standard deviation of its sampling distribution or an estimate of that standard deviation. The lower the std, the greater the sample.\n",
    "\n",
    "they all show the first model is better."
   ]
  },
  {
   "cell_type": "markdown",
   "metadata": {},
   "source": [
    "# Part B2 - Comparing Traffic Volumes "
   ]
  },
  {
   "cell_type": "code",
   "execution_count": null,
   "metadata": {},
   "outputs": [],
   "source": []
  },
  {
   "cell_type": "markdown",
   "metadata": {},
   "source": [
    "## 1"
   ]
  },
  {
   "cell_type": "markdown",
   "metadata": {},
   "source": [
    "You first need to calculate the total number of Passengers_In and the total\n",
    "number of Passengers_Out for each unique month over the years for all the\n",
    "Australian ports. (i.e consider each month of each year as a unique month to\n",
    "calculate the total number of passengers. You can make use of the column\n",
    "“Month” for this). Next, create histograms to check the distribution of monthly\n",
    "Passengers_In and monthly Passengers_Out. Describe the distributions. Can\n",
    "you see any outliers in the plots? Discuss your answer. "
   ]
  },
  {
   "cell_type": "code",
   "execution_count": 25,
   "metadata": {},
   "outputs": [
    {
     "data": {
      "text/html": [
       "<div>\n",
       "<style scoped>\n",
       "    .dataframe tbody tr th:only-of-type {\n",
       "        vertical-align: middle;\n",
       "    }\n",
       "\n",
       "    .dataframe tbody tr th {\n",
       "        vertical-align: top;\n",
       "    }\n",
       "\n",
       "    .dataframe thead th {\n",
       "        text-align: right;\n",
       "    }\n",
       "</style>\n",
       "<table border=\"1\" class=\"dataframe\">\n",
       "  <thead>\n",
       "    <tr style=\"text-align: right;\">\n",
       "      <th></th>\n",
       "      <th>Month</th>\n",
       "      <th>Passengers_In</th>\n",
       "      <th>Passengers_Out</th>\n",
       "    </tr>\n",
       "  </thead>\n",
       "  <tbody>\n",
       "    <tr>\n",
       "      <th>0</th>\n",
       "      <td>31048</td>\n",
       "      <td>263795</td>\n",
       "      <td>208770</td>\n",
       "    </tr>\n",
       "    <tr>\n",
       "      <th>1</th>\n",
       "      <td>31079</td>\n",
       "      <td>204953</td>\n",
       "      <td>179222</td>\n",
       "    </tr>\n",
       "    <tr>\n",
       "      <th>2</th>\n",
       "      <td>31107</td>\n",
       "      <td>209513</td>\n",
       "      <td>231582</td>\n",
       "    </tr>\n",
       "    <tr>\n",
       "      <th>3</th>\n",
       "      <td>31138</td>\n",
       "      <td>182673</td>\n",
       "      <td>214403</td>\n",
       "    </tr>\n",
       "    <tr>\n",
       "      <th>4</th>\n",
       "      <td>31168</td>\n",
       "      <td>198902</td>\n",
       "      <td>224350</td>\n",
       "    </tr>\n",
       "    <tr>\n",
       "      <th>...</th>\n",
       "      <td>...</td>\n",
       "      <td>...</td>\n",
       "      <td>...</td>\n",
       "    </tr>\n",
       "    <tr>\n",
       "      <th>372</th>\n",
       "      <td>42370</td>\n",
       "      <td>1918279</td>\n",
       "      <td>1642059</td>\n",
       "    </tr>\n",
       "    <tr>\n",
       "      <th>373</th>\n",
       "      <td>42401</td>\n",
       "      <td>1560692</td>\n",
       "      <td>1375060</td>\n",
       "    </tr>\n",
       "    <tr>\n",
       "      <th>374</th>\n",
       "      <td>42430</td>\n",
       "      <td>1470519</td>\n",
       "      <td>1538491</td>\n",
       "    </tr>\n",
       "    <tr>\n",
       "      <th>375</th>\n",
       "      <td>42461</td>\n",
       "      <td>1481204</td>\n",
       "      <td>1478169</td>\n",
       "    </tr>\n",
       "    <tr>\n",
       "      <th>376</th>\n",
       "      <td>42491</td>\n",
       "      <td>1301906</td>\n",
       "      <td>1389071</td>\n",
       "    </tr>\n",
       "  </tbody>\n",
       "</table>\n",
       "<p>377 rows × 3 columns</p>\n",
       "</div>"
      ],
      "text/plain": [
       "     Month  Passengers_In  Passengers_Out\n",
       "0    31048         263795          208770\n",
       "1    31079         204953          179222\n",
       "2    31107         209513          231582\n",
       "3    31138         182673          214403\n",
       "4    31168         198902          224350\n",
       "..     ...            ...             ...\n",
       "372  42370        1918279         1642059\n",
       "373  42401        1560692         1375060\n",
       "374  42430        1470519         1538491\n",
       "375  42461        1481204         1478169\n",
       "376  42491        1301906         1389071\n",
       "\n",
       "[377 rows x 3 columns]"
      ]
     },
     "execution_count": 25,
     "metadata": {},
     "output_type": "execute_result"
    }
   ],
   "source": [
    "df.head()\n",
    "groupbyMonth = df.groupby('Month').agg({'Passengers_In':'sum','Passengers_Out':'sum'})\n",
    "groupbyMonth = groupbyMonth.reset_index()\n",
    "groupbyMonth"
   ]
  },
  {
   "cell_type": "code",
   "execution_count": 26,
   "metadata": {},
   "outputs": [
    {
     "data": {
      "text/plain": [
       "count    3.770000e+02\n",
       "mean     7.317297e+05\n",
       "std      3.759759e+05\n",
       "min      1.826730e+05\n",
       "25%      4.079340e+05\n",
       "50%      6.662590e+05\n",
       "75%      9.944660e+05\n",
       "max      1.918279e+06\n",
       "Name: Passengers_In, dtype: float64"
      ]
     },
     "execution_count": 26,
     "metadata": {},
     "output_type": "execute_result"
    },
    {
     "data": {
      "image/png": "[encoded data removed]",
      "text/plain": [
       "<Figure size 432x288 with 1 Axes>"
      ]
     },
     "metadata": {
      "needs_background": "light"
     },
     "output_type": "display_data"
    }
   ],
   "source": [
    "groupbyMonth['Passengers_In'].hist(bins=12)\n",
    "\n",
    "plt.xlabel('the number of Passengers_In (person)')\n",
    "plt.ylabel(' frequency ',x=-2)\n",
    "plt.title(' histogram of monthly passengers_in ',y=1.1)\n",
    "\n",
    "groupbyMonth['Passengers_In'].describe()\n"
   ]
  },
  {
   "cell_type": "code",
   "execution_count": 27,
   "metadata": {},
   "outputs": [
    {
     "data": {
      "text/plain": [
       "count    3.770000e+02\n",
       "mean     7.210568e+05\n",
       "std      3.673378e+05\n",
       "min      1.783190e+05\n",
       "25%      4.037060e+05\n",
       "50%      6.561840e+05\n",
       "75%      9.759200e+05\n",
       "max      1.847744e+06\n",
       "Name: Passengers_Out, dtype: float64"
      ]
     },
     "execution_count": 27,
     "metadata": {},
     "output_type": "execute_result"
    },
    {
     "data": {
      "image/png": "[encoded data removed]",
      "text/plain": [
       "<Figure size 432x288 with 1 Axes>"
      ]
     },
     "metadata": {
      "needs_background": "light"
     },
     "output_type": "display_data"
    }
   ],
   "source": [
    "groupbyMonth['Passengers_Out'].hist(bins=12)\n",
    "\n",
    "plt.xlabel('the number of Passengers_Out (person)')\n",
    "plt.ylabel(' frequency ',x=-2)\n",
    "plt.title(' histogram of monthly passengers_Out ',y=1.1)\n",
    "\n",
    "groupbyMonth['Passengers_Out'].describe()"
   ]
  },
  {
   "cell_type": "markdown",
   "metadata": {},
   "source": [
    "I cannot see some outliers in the plots.\n",
    "\n",
    "For the diagrams of these two histogram , the frequency is both decreasing as the number of Passengers_Out or Passengers_In increases.\n",
    "Thire shapes are similar to chi square distribution, the tails of these two distributions are most likely outliers.(frequency are preaty low and far away from majority of data and cluster(0.5\\*10^6) ) . but without accurate calculation, we cannot konw if the tail is away enough from the high frequency center (beyond 3 standard deviations) and how many outliers are there."
   ]
  },
  {
   "cell_type": "markdown",
   "metadata": {},
   "source": [
    "## 2"
   ]
  },
  {
   "cell_type": "markdown",
   "metadata": {},
   "source": [
    "Use boxplots to visualise the information of question 1.1. How many outliers\n",
    "can you see in the plots? Use the IQR rule to show the data points which are\n",
    "considered as outliers of monthly Passengers_In and monthly Passengers_Out)"
   ]
  },
  {
   "cell_type": "markdown",
   "metadata": {},
   "source": [
    "boxplot for Passengers_In:"
   ]
  },
  {
   "cell_type": "code",
   "execution_count": 28,
   "metadata": {},
   "outputs": [
    {
     "data": {
      "text/plain": [
       "count    3.770000e+02\n",
       "mean     7.317297e+05\n",
       "std      3.759759e+05\n",
       "min      1.826730e+05\n",
       "25%      4.079340e+05\n",
       "50%      6.662590e+05\n",
       "75%      9.944660e+05\n",
       "max      1.918279e+06\n",
       "Name: Passengers_In, dtype: float64"
      ]
     },
     "execution_count": 28,
     "metadata": {},
     "output_type": "execute_result"
    },
    {
     "data": {
      "image/png": "[encoded data removed]",
      "text/plain": [
       "<Figure size 432x288 with 1 Axes>"
      ]
     },
     "metadata": {
      "needs_background": "light"
     },
     "output_type": "display_data"
    }
   ],
   "source": [
    "\n",
    "groupbyMonth.boxplot(column = 'Passengers_In')\n",
    "plt.title(' boxplot of monthly passengers_in ',y=1.1)\n",
    "groupbyMonth['Passengers_In'].describe()"
   ]
  },
  {
   "cell_type": "markdown",
   "metadata": {},
   "source": [
    "#### Answer: one outlier I can see in the plot"
   ]
  },
  {
   "cell_type": "markdown",
   "metadata": {},
   "source": [
    "IQR rule: "
   ]
  },
  {
   "cell_type": "code",
   "execution_count": 29,
   "metadata": {},
   "outputs": [
    {
     "name": "stdout",
     "output_type": "stream",
     "text": [
      "for Passengers_In:\n",
      "\n",
      "1.5*IQR range:  ( -471864.0 , 1874264.0 )\n",
      "\n",
      "data points(outliers): \n"
     ]
    },
    {
     "data": {
      "text/html": [
       "<div>\n",
       "<style scoped>\n",
       "    .dataframe tbody tr th:only-of-type {\n",
       "        vertical-align: middle;\n",
       "    }\n",
       "\n",
       "    .dataframe tbody tr th {\n",
       "        vertical-align: top;\n",
       "    }\n",
       "\n",
       "    .dataframe thead th {\n",
       "        text-align: right;\n",
       "    }\n",
       "</style>\n",
       "<table border=\"1\" class=\"dataframe\">\n",
       "  <thead>\n",
       "    <tr style=\"text-align: right;\">\n",
       "      <th></th>\n",
       "      <th>Month</th>\n",
       "      <th>Passengers_In</th>\n",
       "    </tr>\n",
       "  </thead>\n",
       "  <tbody>\n",
       "    <tr>\n",
       "      <th>372</th>\n",
       "      <td>42370</td>\n",
       "      <td>1918279</td>\n",
       "    </tr>\n",
       "  </tbody>\n",
       "</table>\n",
       "</div>"
      ],
      "text/plain": [
       "     Month  Passengers_In\n",
       "372  42370        1918279"
      ]
     },
     "execution_count": 29,
     "metadata": {},
     "output_type": "execute_result"
    }
   ],
   "source": [
    "#for Passengers_In\n",
    "\n",
    "Q1=4.079340e+05;\n",
    "Q3=9.944660e+05;\n",
    "IQR = Q3-Q1;\n",
    "range_open=Q1-IQR*1.5;\n",
    "range_close=Q3+IQR*1.5;\n",
    "print(\"for Passengers_In:\\n\")\n",
    "print('1.5*IQR range: ','(',range_open,\",\",range_close,\")\");\n",
    "\n",
    "print(\"\\ndata points(outliers): \")\n",
    "dataPoint = groupbyMonth[(groupbyMonth['Passengers_In']>range_close)|(groupbyMonth['Passengers_In']<range_open)]\n",
    "dataPoint[['Month','Passengers_In']]"
   ]
  },
  {
   "cell_type": "markdown",
   "metadata": {},
   "source": [
    "boxplot for Passengers_Out:"
   ]
  },
  {
   "cell_type": "code",
   "execution_count": 30,
   "metadata": {
    "scrolled": false
   },
   "outputs": [
    {
     "data": {
      "text/plain": [
       "count    3.770000e+02\n",
       "mean     7.210568e+05\n",
       "std      3.673378e+05\n",
       "min      1.783190e+05\n",
       "25%      4.037060e+05\n",
       "50%      6.561840e+05\n",
       "75%      9.759200e+05\n",
       "max      1.847744e+06\n",
       "Name: Passengers_Out, dtype: float64"
      ]
     },
     "execution_count": 30,
     "metadata": {},
     "output_type": "execute_result"
    },
    {
     "data": {
      "image/png": "[encoded data removed]",
      "text/plain": [
       "<Figure size 432x288 with 1 Axes>"
      ]
     },
     "metadata": {
      "needs_background": "light"
     },
     "output_type": "display_data"
    }
   ],
   "source": [
    "groupbyMonth.boxplot(column = 'Passengers_Out')\n",
    "plt.title(' boxplot of monthly passengers_Out ',y=1.1)\n",
    "groupbyMonth['Passengers_Out'].describe()"
   ]
  },
  {
   "cell_type": "markdown",
   "metadata": {},
   "source": [
    "#### Answer: one outlier I can see in the plot"
   ]
  },
  {
   "cell_type": "markdown",
   "metadata": {},
   "source": [
    "IQR rule:"
   ]
  },
  {
   "cell_type": "code",
   "execution_count": 31,
   "metadata": {},
   "outputs": [
    {
     "name": "stdout",
     "output_type": "stream",
     "text": [
      "for Passengers_Out:\n",
      "\n",
      "1.5*IQR range:  ( -454615.0 , 1834241.0 )\n",
      "\n",
      "data points(outliers): \n"
     ]
    },
    {
     "data": {
      "text/html": [
       "<div>\n",
       "<style scoped>\n",
       "    .dataframe tbody tr th:only-of-type {\n",
       "        vertical-align: middle;\n",
       "    }\n",
       "\n",
       "    .dataframe tbody tr th {\n",
       "        vertical-align: top;\n",
       "    }\n",
       "\n",
       "    .dataframe thead th {\n",
       "        text-align: right;\n",
       "    }\n",
       "</style>\n",
       "<table border=\"1\" class=\"dataframe\">\n",
       "  <thead>\n",
       "    <tr style=\"text-align: right;\">\n",
       "      <th></th>\n",
       "      <th>Month</th>\n",
       "      <th>Passengers_Out</th>\n",
       "    </tr>\n",
       "  </thead>\n",
       "  <tbody>\n",
       "    <tr>\n",
       "      <th>371</th>\n",
       "      <td>42339</td>\n",
       "      <td>1847744</td>\n",
       "    </tr>\n",
       "  </tbody>\n",
       "</table>\n",
       "</div>"
      ],
      "text/plain": [
       "     Month  Passengers_Out\n",
       "371  42339         1847744"
      ]
     },
     "execution_count": 31,
     "metadata": {},
     "output_type": "execute_result"
    }
   ],
   "source": [
    "#for Passengers_Out\n",
    "\n",
    "Q1=4.037060e+05;\n",
    "Q3=9.759200e+05;\n",
    "IQR = Q3-Q1;\n",
    "range_open2=Q1-IQR*1.5;\n",
    "range_close2=Q3+IQR*1.5;\n",
    "print(\"for Passengers_Out:\\n\")\n",
    "print('1.5*IQR range: ','(',range_open2,\",\",range_close2,\")\");\n",
    "\n",
    "print(\"\\ndata points(outliers): \")\n",
    "dataPoint2 = groupbyMonth[(groupbyMonth['Passengers_Out']>range_close2)|(groupbyMonth['Passengers_Out']<range_open2)]\n",
    "dataPoint2[['Month','Passengers_Out']]\n"
   ]
  },
  {
   "cell_type": "code",
   "execution_count": null,
   "metadata": {},
   "outputs": [],
   "source": []
  },
  {
   "cell_type": "markdown",
   "metadata": {},
   "source": [
    "two outliers I can see in the plots, one for Passengers_Out and one for Passengers_In."
   ]
  },
  {
   "cell_type": "markdown",
   "metadata": {},
   "source": [
    "## 3"
   ]
  },
  {
   "cell_type": "markdown",
   "metadata": {},
   "source": [
    "As you can see in question 1.2, the information which is provided by a boxplot\n",
    "is so similar to the information which we saw in the output of the function\n",
    "“describe()”. However, they are not the same. What are the differences between\n",
    "the information which are shown in a box plot and the output of function\n",
    "“describe()”?\n"
   ]
  },
  {
   "cell_type": "markdown",
   "metadata": {},
   "source": [
    "1. the output of function \"describe()\" can show the number of data points and the mean of the datasets which don't have in boxplot\n",
    "\n",
    "2. Boxplot is used to show overall patterns of response for a group. They provide a useful way to visualise the range and other characteristics of responses for a large group. It cannot show exact data(like what is the exact value of the upper quartile), It gives us a general shape.\n",
    "\n",
    "   The output of function \"describe()\" can give us an exact value but we cannot get the general shape to image what the dataset distribution is. It cannot achieves the purpose of the visualisation.\n",
    "   \n",
    "3. We can compare the varieties of different boxplot shapes and positions to get more information in a diagram. But it is not easy to compare datasets if we only get lots of description of datasets(the output of function\"describe()\")\n"
   ]
  },
  {
   "cell_type": "markdown",
   "metadata": {},
   "source": [
    "# Part C - Clustering task"
   ]
  },
  {
   "cell_type": "code",
   "execution_count": 32,
   "metadata": {},
   "outputs": [
    {
     "data": {
      "text/html": [
       "<div>\n",
       "<style scoped>\n",
       "    .dataframe tbody tr th:only-of-type {\n",
       "        vertical-align: middle;\n",
       "    }\n",
       "\n",
       "    .dataframe tbody tr th {\n",
       "        vertical-align: top;\n",
       "    }\n",
       "\n",
       "    .dataframe thead th {\n",
       "        text-align: right;\n",
       "    }\n",
       "</style>\n",
       "<table border=\"1\" class=\"dataframe\">\n",
       "  <thead>\n",
       "    <tr style=\"text-align: right;\">\n",
       "      <th></th>\n",
       "      <th>GDP per Capita</th>\n",
       "      <th>Suicide Rate</th>\n",
       "    </tr>\n",
       "  </thead>\n",
       "  <tbody>\n",
       "    <tr>\n",
       "      <th>0</th>\n",
       "      <td>1.44178</td>\n",
       "      <td>0.44453</td>\n",
       "    </tr>\n",
       "    <tr>\n",
       "      <th>1</th>\n",
       "      <td>1.52733</td>\n",
       "      <td>0.41203</td>\n",
       "    </tr>\n",
       "    <tr>\n",
       "      <th>2</th>\n",
       "      <td>1.42666</td>\n",
       "      <td>0.14975</td>\n",
       "    </tr>\n",
       "    <tr>\n",
       "      <th>3</th>\n",
       "      <td>1.57744</td>\n",
       "      <td>0.35776</td>\n",
       "    </tr>\n",
       "    <tr>\n",
       "      <th>4</th>\n",
       "      <td>1.40598</td>\n",
       "      <td>0.41004</td>\n",
       "    </tr>\n",
       "  </tbody>\n",
       "</table>\n",
       "</div>"
      ],
      "text/plain": [
       "   GDP per Capita  Suicide Rate\n",
       "0         1.44178       0.44453\n",
       "1         1.52733       0.41203\n",
       "2         1.42666       0.14975\n",
       "3         1.57744       0.35776\n",
       "4         1.40598       0.41004"
      ]
     },
     "execution_count": 32,
     "metadata": {},
     "output_type": "execute_result"
    }
   ],
   "source": [
    "df2 = pd.read_csv('ClusteringData.csv')\n",
    "df2.head()"
   ]
  },
  {
   "cell_type": "code",
   "execution_count": 33,
   "metadata": {},
   "outputs": [
    {
     "data": {
      "text/plain": [
       "(157, 2)"
      ]
     },
     "execution_count": 33,
     "metadata": {},
     "output_type": "execute_result"
    }
   ],
   "source": [
    "df2.shape"
   ]
  },
  {
   "cell_type": "code",
   "execution_count": 34,
   "metadata": {},
   "outputs": [
    {
     "data": {
      "text/plain": [
       "Text(0, 0.5, 'Suicide Rate')"
      ]
     },
     "execution_count": 34,
     "metadata": {},
     "output_type": "execute_result"
    },
    {
     "data": {
      "image/png": "[encoded data removed]",
      "text/plain": [
       "<Figure size 432x288 with 1 Axes>"
      ]
     },
     "metadata": {
      "needs_background": "light"
     },
     "output_type": "display_data"
    }
   ],
   "source": [
    "%matplotlib inline\n",
    "plt.scatter(x=df2['GDP per Capita'],y=df2['Suicide Rate'])\n",
    "plt.xlabel('GDP per Capita')\n",
    "plt.ylabel('Suicide Rate')"
   ]
  },
  {
   "cell_type": "code",
   "execution_count": 74,
   "metadata": {},
   "outputs": [
    {
     "data": {
      "image/png": "[encoded data removed]",
      "text/plain": [
       "<Figure size 432x288 with 1 Axes>"
      ]
     },
     "metadata": {
      "needs_background": "light"
     },
     "output_type": "display_data"
    }
   ],
   "source": [
    "kmeans = KMeans(n_clusters=2,init='random').fit(df2[['GDP per Capita','Suicide Rate']])\n",
    "kmeans.cluster_centers_\n",
    "kmeans.labels_\n",
    "plt.scatter(x=df2['GDP per Capita'],y=df2['Suicide Rate'], c=kmeans.labels_)\n",
    "plt.plot(kmeans.cluster_centers_[:,0],kmeans.cluster_centers_[:,1],'k*',markersize=15,c='r')\n",
    "plt.xlabel('GDP per Capita')\n",
    "plt.ylabel('Suicide Rate')\n",
    "plt.show()"
   ]
  },
  {
   "cell_type": "code",
   "execution_count": 36,
   "metadata": {},
   "outputs": [
    {
     "data": {
      "image/png": "[encoded data removed]",
      "text/plain": [
       "<Figure size 432x288 with 1 Axes>"
      ]
     },
     "metadata": {
      "needs_background": "light"
     },
     "output_type": "display_data"
    }
   ],
   "source": [
    "kmeans = KMeans(n_clusters=3,init='random').fit(df2[['GDP per Capita','Suicide Rate']])\n",
    "kmeans.cluster_centers_\n",
    "kmeans.labels_\n",
    "plt.scatter(x=df2['GDP per Capita'],y=df2['Suicide Rate'], c=kmeans.labels_)\n",
    "plt.plot(kmeans.cluster_centers_[:,0],kmeans.cluster_centers_[:,1],'k*',markersize=15,c='r')\n",
    "plt.xlabel('GDP per Capita')\n",
    "plt.ylabel('Suicide Rate')\n",
    "plt.show()"
   ]
  },
  {
   "cell_type": "code",
   "execution_count": 81,
   "metadata": {},
   "outputs": [
    {
     "data": {
      "image/png": "[encoded data removed]",
      "text/plain": [
       "<Figure size 432x288 with 1 Axes>"
      ]
     },
     "metadata": {
      "needs_background": "light"
     },
     "output_type": "display_data"
    }
   ],
   "source": [
    "kmeans = KMeans(n_clusters=4,init='random').fit(df2[['GDP per Capita','Suicide Rate']])\n",
    "kmeans.cluster_centers_\n",
    "kmeans.labels_\n",
    "plt.scatter(x=df2['GDP per Capita'],y=df2['Suicide Rate'], c=kmeans.labels_)\n",
    "plt.plot(kmeans.cluster_centers_[:,0],kmeans.cluster_centers_[:,1],'k*',markersize=15,c='r')\n",
    "plt.xlabel('GDP per Capita')\n",
    "plt.ylabel('Suicide Rate')\n",
    "plt.show()"
   ]
  },
  {
   "cell_type": "code",
   "execution_count": 86,
   "metadata": {},
   "outputs": [
    {
     "data": {
      "image/png": "[encoded data removed]",
      "text/plain": [
       "<Figure size 432x288 with 1 Axes>"
      ]
     },
     "metadata": {
      "needs_background": "light"
     },
     "output_type": "display_data"
    }
   ],
   "source": [
    "kmeans = KMeans(n_clusters=5,init='random').fit(df2[['GDP per Capita','Suicide Rate']])\n",
    "kmeans.cluster_centers_\n",
    "kmeans.labels_\n",
    "plt.scatter(x=df2['GDP per Capita'],y=df2['Suicide Rate'], c=kmeans.labels_)\n",
    "plt.plot(kmeans.cluster_centers_[:,0],kmeans.cluster_centers_[:,1],'k*',markersize=15,c='r')\n",
    "plt.xlabel('GDP per Capita')\n",
    "plt.ylabel('Suicide Rate')\n",
    "plt.show()"
   ]
  },
  {
   "cell_type": "markdown",
   "metadata": {},
   "source": [
    "I think 2 is the best value of K based on my visualisation.\n",
    "\n",
    "according to the concept of \"The elbow method\":\n",
    "\n",
    "    When K is less than the true number of clusters in the sample J, the aggregation degree of each cluster will be greatly increased with each increase of K by one unit, and then the decline of SSE will be large.\n",
    "    When K is close to J, the aggregation degree return obtained by increasing K will decrease rapidly, and the decline amplitude of SSE will also decrease.\n",
    "    As K continues to increase, the change of SSE tends to be flat.\n",
    "    \n",
    "So,based on the visualisations, 1 is not enough because The degree of aggregation of each cluster is not high. From 1 to 2 (k-value), I think the aggregation degree of each cluster is greatly increased with the increase of K by one unit. But if keep increasing k-value, the change of the degree of each clusterring is not obvious in the visualisations and it is not necessary to keep to divide those data points which are at the bottom. So I think 2 is the best k-value."
   ]
  },
  {
   "cell_type": "markdown",
   "metadata": {},
   "source": [
    "    There are two clusters:\n",
    "        Cluster A(the left one),in which the port has a lower GDP per Capita and Suicide Rate is from 0 to 0.5.\n",
    "        Cluster B(the right one),in which the port has a higher GDP per Capita and Suicide Rate is from 0 to 0.5.\n",
    "    I considered the GDP per Capita which is smaller than 0.88 as lower GDP per Capita.\n",
    "\n",
    "note:\n",
    "1. The clusters of A and B both have similar characteristics that is the cluster is dense at the bottom(lower rate place).\n",
    "2. The ports where GDP per Capita is too high or too low both have higher suicide rate. \n",
    "\n",
    "        "
   ]
  },
  {
   "cell_type": "markdown",
   "metadata": {},
   "source": [
    "## Challenge1:"
   ]
  },
  {
   "cell_type": "markdown",
   "metadata": {},
   "source": [
    "### 1. Explain how the Silhouette score works and what is the meaning of having the following results as a Silhouette score?\n",
    "\n",
    "    1.1. Silhouette Score is 0.02\n",
    "    1.2. Silhouette Score is -0.06\n",
    "    1.3. Silhouette Score is 0.97\n",
    "    1.4. Silhouette score is -0.9 "
   ]
  },
  {
   "cell_type": "markdown",
   "metadata": {},
   "source": [
    "how the Silhouette score works:\n",
    "\n",
    "In the clusters we hope to get, the points in the clusters should be as close as possible and the clusters should be as far away from each other as possible. The Silhouette score is the evaluation index of class density and dispersion. \n",
    "\n",
    "formula: Silhouette Score = (b-a)/max(a,b)-------- #value ranges from -1 to 1.\n",
    "\n",
    "    note:\n",
    "1. a= average intra-cluster distance i.e the average distance between each point within a cluster.\n",
    "2. b= average inter-cluster distance i.e the average distance between all clusters.\n",
    "3. 1: Means clusters are well apart from each other and clearly distinguished.\n",
    "4. 0: Means clusters are indifferent, or we can say that the distance between clusters is not significant.\n",
    "5. -1: Means clusters are assigned in the wrong way.\n",
    "6. max() is a function which can return a maximum value from (a,b)"
   ]
  },
  {
   "cell_type": "markdown",
   "metadata": {},
   "source": [
    "the meaning of having the following results as a Silhouette score:\n",
    "\n",
    "1.1\n",
    "\n",
    "The score is close to 0, which means the distance between clusters is not significant.\n",
    "\n",
    "1.2\n",
    "\n",
    "The score is negative and close to 0, which means the distance between clusters is not significant and having little part of overlap between the two clusters.Some points belong to two clusters at the same time. That means clusters are assigned in the wrong way. \n",
    "\n",
    "1.3\n",
    "\n",
    "The score is close to 1, which means clusters are well apart from each other and clearly distinguished\n",
    "\n",
    "1.4\n",
    "\n",
    "The score is negative and close to 1, which means most areas of the two clusters are overlapped. The clusters are assigned in the wrong way."
   ]
  },
  {
   "cell_type": "markdown",
   "metadata": {},
   "source": [
    "### 2. Implement Silhouette score in Sklearn and find out the best number of clusters (K) based on the silhouette score"
   ]
  },
  {
   "cell_type": "markdown",
   "metadata": {},
   "source": [
    "The best number of K based on the silhouette score is 2"
   ]
  },
  {
   "cell_type": "code",
   "execution_count": null,
   "metadata": {},
   "outputs": [],
   "source": []
  },
  {
   "cell_type": "code",
   "execution_count": 39,
   "metadata": {},
   "outputs": [
    {
     "name": "stdout",
     "output_type": "stream",
     "text": [
      "Silhouette Score(n=2) : 0.5627073439692872\n"
     ]
    }
   ],
   "source": [
    "kmeans = KMeans(n_clusters=2,init='random').fit(df2[['GDP per Capita','Suicide Rate']])\n",
    "kmeans.cluster_centers_\n",
    "kmeans.labels_\n",
    "\n",
    "Z=df2[['GDP per Capita','Suicide Rate']]\n",
    "label=kmeans.labels_\n",
    "print(f'Silhouette Score(n=2) : {silhouette_score(Z,label)}')"
   ]
  },
  {
   "cell_type": "code",
   "execution_count": 40,
   "metadata": {},
   "outputs": [
    {
     "name": "stdout",
     "output_type": "stream",
     "text": [
      "Silhouette Score(n=3) : 0.4890745742619508\n"
     ]
    }
   ],
   "source": [
    "kmeans = KMeans(n_clusters=3,init='random').fit(df2[['GDP per Capita','Suicide Rate']])\n",
    "kmeans.cluster_centers_\n",
    "kmeans.labels_\n",
    "\n",
    "Z=df2[['GDP per Capita','Suicide Rate']]\n",
    "label=kmeans.labels_\n",
    "print(f'Silhouette Score(n=3) : {silhouette_score(Z,label)}')"
   ]
  },
  {
   "cell_type": "code",
   "execution_count": 41,
   "metadata": {},
   "outputs": [
    {
     "name": "stdout",
     "output_type": "stream",
     "text": [
      "Silhouette Score(n=4) : 0.4861623656777933\n"
     ]
    }
   ],
   "source": [
    "kmeans = KMeans(n_clusters=4,init='random').fit(df2[['GDP per Capita','Suicide Rate']])\n",
    "kmeans.cluster_centers_\n",
    "kmeans.labels_\n",
    "\n",
    "Z=df2[['GDP per Capita','Suicide Rate']]\n",
    "label=kmeans.labels_\n",
    "print(f'Silhouette Score(n=4) : {silhouette_score(Z,label)}')"
   ]
  },
  {
   "cell_type": "markdown",
   "metadata": {},
   "source": [
    "## Challenge 2:"
   ]
  },
  {
   "cell_type": "code",
   "execution_count": null,
   "metadata": {},
   "outputs": [],
   "source": []
  },
  {
   "cell_type": "markdown",
   "metadata": {},
   "source": [
    "### 1. What is the transformation which you used?\n"
   ]
  },
  {
   "cell_type": "markdown",
   "metadata": {},
   "source": [
    "power transformation (square transformation)\n",
    "\n",
    "(independent variable and dependent variable to the power of 2)"
   ]
  },
  {
   "cell_type": "markdown",
   "metadata": {},
   "source": [
    "### 2. Do you think your decision to transform the data with that transformation is a good idea? Discuss your answer"
   ]
  },
  {
   "cell_type": "markdown",
   "metadata": {},
   "source": [
    "I think it is a good idea.\n",
    "\n",
    "In the first relationship between independent variable and dependent variable, I notice that the relationship is one independent variable has two value (same absolute value,one is negative,one is positive). The model is not linear or polynomial model and not good to analyze and work on it. \n",
    "\n",
    "The purpose of doing some transformation on the data is make it conform to the assumptions that we've made, so that we can analyze it theoretically and do prediction. We can do a better prediction based on second relationship. We can reverse the value after prediction, just taking square root of the values(x;y) and remaining one positive and one negative for y and then remaining one positive for x. \n",
    "\n",
    "As part of the data pre-processing for conducting regression, a residual plot is often plotted. If in such residual plot the dataset exhibits nonlinearity, a standard treatment would be to \"transform\" the raw data to make it more linear. This allows us to use linear regression or polynomial techniques more effectively with nonlinear data.\n",
    "\n"
   ]
  },
  {
   "cell_type": "markdown",
   "metadata": {},
   "source": [
    "# reference"
   ]
  },
  {
   "cell_type": "markdown",
   "metadata": {},
   "source": [
    "https://towardsdatascience.com/silhouette-coefficient-validating-clustering-techniques-e976bb81d10c\n",
    "\n",
    "https://www.khanacademy.org/math/statistics-probability/summarizing-quantitative-data/box-whisker-plots/a/identifying-outliers-iqr-rule\n",
    "\n",
    "https://www.quora.com/What-are-some-common-transformations-I-can-make-in-univariate-regression"
   ]
  }
 ],
 "metadata": {
  "kernelspec": {
   "display_name": "Python 3",
   "language": "python",
   "name": "python3"
  },
  "language_info": {
   "codemirror_mode": {
    "name": "ipython",
    "version": 3
   },
   "file_extension": ".py",
   "mimetype": "text/x-python",
   "name": "python",
   "nbconvert_exporter": "python",
   "pygments_lexer": "ipython3",
   "version": "3.8.3"
  }
 },
 "nbformat": 4,
 "nbformat_minor": 4
}
